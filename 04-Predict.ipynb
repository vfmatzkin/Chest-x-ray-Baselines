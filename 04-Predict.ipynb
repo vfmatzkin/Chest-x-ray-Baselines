{
 "cells": [
  {
   "cell_type": "code",
   "execution_count": 1,
   "id": "7257c989",
   "metadata": {},
   "outputs": [],
   "source": [
    "%load_ext autoreload\n",
    "%autoreload 2"
   ]
  },
  {
   "cell_type": "markdown",
   "metadata": {
    "collapsed": false
   },
   "source": [
    "## Test convolutional PCA reconstruction"
   ]
  },
  {
   "cell_type": "code",
   "execution_count": 1,
   "id": "02278c69",
   "metadata": {},
   "outputs": [],
   "source": [
    "import os\n",
    "\n",
    "import torch\n",
    "import vedo\n",
    "\n",
    "from headrecbaselines.models.PCAH import PCAH_Net\n",
    "from headrecbaselines.utils.datasetHeads import MeshHeadsDataset"
   ]
  },
  {
   "cell_type": "markdown",
   "metadata": {
    "collapsed": false
   },
   "source": [
    "### Load test images"
   ]
  },
  {
   "cell_type": "code",
   "execution_count": 2,
   "id": "7084379a",
   "metadata": {},
   "outputs": [
    {
     "name": "stdout",
     "output_type": "stream",
     "text": [
      "Test images: 36. Simulated defect skulls: 36\n"
     ]
    }
   ],
   "source": [
    "path_imgs = os.path.abspath('../datasets/cq500mesh')\n",
    "path_test = os.path.join(path_imgs, 'test')\n",
    "path_sim = os.path.join(path_test, 'sim_defects')\n",
    "images_test = open(\"partitions/test.txt\", 'r').read().splitlines()\n",
    "images_sim = open(\"partitions/test_sim.txt\", 'r').read().splitlines()\n",
    "\n",
    "dtset_tst = MeshHeadsDataset(images_test, path_test, test=True)\n",
    "dtset_tst_sim = MeshHeadsDataset(images_sim, path_sim, test=True)\n",
    "print(f\"Test images: {len(dtset_tst)}. \"\n",
    "      f\"Simulated defect skulls: {len(dtset_tst_sim)}\")"
   ]
  },
  {
   "cell_type": "code",
   "execution_count": 3,
   "id": "a70b5eed-0c89-4f77-b1d4-8699aa326395",
   "metadata": {},
   "outputs": [
    {
     "name": "stdout",
     "output_type": "stream",
     "text": [
      "Model loaded\n"
     ]
    }
   ],
   "source": [
    "interp_factor = 0.85\n",
    "config = {\n",
    "    'device': 'cuda',\n",
    "    'latents': 60,\n",
    "    'inputsize': 1024,\n",
    "    'interpolate': True,\n",
    "    'h': int(512 * interp_factor),\n",
    "    'w': int(512 * interp_factor),\n",
    "    'slices': int(233 * interp_factor),\n",
    "}\n",
    "\n",
    "pcaNet = PCAH_Net(config.copy()).to(config['device'])\n",
    "pcaNet.load_state_dict(torch.load('trained/PCAH/bestMSE.pt'))\n",
    "pcaNet.eval()\n",
    "print('Model loaded')"
   ]
  },
  {
   "cell_type": "markdown",
   "metadata": {
    "collapsed": false
   },
   "source": [
    "### Predict on test and simulated imgs"
   ]
  },
  {
   "cell_type": "code",
   "execution_count": 4,
   "metadata": {
    "collapsed": false
   },
   "outputs": [
    {
     "name": "stdout",
     "output_type": "stream",
     "text": [
      "saving in: /home/franco/Code/datasets/cq500mesh/test/PCA_im2mesh.\n"
     ]
    },
    {
     "ename": "OutOfMemoryError",
     "evalue": "CUDA out of memory. Tried to allocate 1.12 GiB (GPU 0; 1.96 GiB total capacity; 561.36 MiB already allocated; 934.38 MiB free; 574.00 MiB reserved in total by PyTorch) If reserved memory is >> allocated memory try setting max_split_size_mb to avoid fragmentation.  See documentation for Memory Management and PYTORCH_CUDA_ALLOC_CONF",
     "output_type": "error",
     "traceback": [
      "\u001b[0;31m---------------------------------------------------------------------------\u001b[0m",
      "\u001b[0;31mOutOfMemoryError\u001b[0m                          Traceback (most recent call last)",
      "\u001b[1;32m/home/franco/Code/head-rec-baselines/04-Predict.ipynb Cell 8\u001b[0m in \u001b[0;36m<cell line: 12>\u001b[0;34m()\u001b[0m\n\u001b[1;32m     <a href='vscode-notebook-cell:/home/franco/Code/head-rec-baselines/04-Predict.ipynb#X10sZmlsZQ%3D%3D?line=15'>16</a>\u001b[0m \u001b[39mfor\u001b[39;00m i, sample \u001b[39min\u001b[39;00m \u001b[39menumerate\u001b[39m(samples):\n\u001b[1;32m     <a href='vscode-notebook-cell:/home/franco/Code/head-rec-baselines/04-Predict.ipynb#X10sZmlsZQ%3D%3D?line=16'>17</a>\u001b[0m     test_im \u001b[39m=\u001b[39m sample[\u001b[39m'\u001b[39m\u001b[39mimage\u001b[39m\u001b[39m'\u001b[39m]\u001b[39m.\u001b[39munsqueeze(\u001b[39m0\u001b[39m)\n\u001b[0;32m---> <a href='vscode-notebook-cell:/home/franco/Code/head-rec-baselines/04-Predict.ipynb#X10sZmlsZQ%3D%3D?line=17'>18</a>\u001b[0m     out_img \u001b[39m=\u001b[39m pcaNet(test_im\u001b[39m.\u001b[39;49mto(config[\u001b[39m'\u001b[39;49m\u001b[39mdevice\u001b[39;49m\u001b[39m'\u001b[39;49m]))\n\u001b[1;32m     <a href='vscode-notebook-cell:/home/franco/Code/head-rec-baselines/04-Predict.ipynb#X10sZmlsZQ%3D%3D?line=18'>19</a>\u001b[0m     points \u001b[39m=\u001b[39m out_img\u001b[39m.\u001b[39mreshape(\u001b[39m-\u001b[39m\u001b[39m1\u001b[39m, \u001b[39m3\u001b[39m)\u001b[39m.\u001b[39mdetach()\u001b[39m.\u001b[39mcpu()\u001b[39m.\u001b[39mnumpy()\n\u001b[1;32m     <a href='vscode-notebook-cell:/home/franco/Code/head-rec-baselines/04-Predict.ipynb#X10sZmlsZQ%3D%3D?line=20'>21</a>\u001b[0m     f_name \u001b[39m=\u001b[39m fnames[i]\u001b[39m.\u001b[39mreplace(\u001b[39m'\u001b[39m\u001b[39m.nii.gz\u001b[39m\u001b[39m'\u001b[39m, \u001b[39m'\u001b[39m\u001b[39m.stl\u001b[39m\u001b[39m'\u001b[39m)\n",
      "File \u001b[0;32m~/anaconda3/envs/msr/lib/python3.8/site-packages/torch/nn/modules/module.py:1194\u001b[0m, in \u001b[0;36mModule._call_impl\u001b[0;34m(self, *input, **kwargs)\u001b[0m\n\u001b[1;32m   1190\u001b[0m \u001b[39m# If we don't have any hooks, we want to skip the rest of the logic in\u001b[39;00m\n\u001b[1;32m   1191\u001b[0m \u001b[39m# this function, and just call forward.\u001b[39;00m\n\u001b[1;32m   1192\u001b[0m \u001b[39mif\u001b[39;00m \u001b[39mnot\u001b[39;00m (\u001b[39mself\u001b[39m\u001b[39m.\u001b[39m_backward_hooks \u001b[39mor\u001b[39;00m \u001b[39mself\u001b[39m\u001b[39m.\u001b[39m_forward_hooks \u001b[39mor\u001b[39;00m \u001b[39mself\u001b[39m\u001b[39m.\u001b[39m_forward_pre_hooks \u001b[39mor\u001b[39;00m _global_backward_hooks\n\u001b[1;32m   1193\u001b[0m         \u001b[39mor\u001b[39;00m _global_forward_hooks \u001b[39mor\u001b[39;00m _global_forward_pre_hooks):\n\u001b[0;32m-> 1194\u001b[0m     \u001b[39mreturn\u001b[39;00m forward_call(\u001b[39m*\u001b[39;49m\u001b[39minput\u001b[39;49m, \u001b[39m*\u001b[39;49m\u001b[39m*\u001b[39;49mkwargs)\n\u001b[1;32m   1195\u001b[0m \u001b[39m# Do not call functions when jit is used\u001b[39;00m\n\u001b[1;32m   1196\u001b[0m full_backward_hooks, non_full_backward_hooks \u001b[39m=\u001b[39m [], []\n",
      "File \u001b[0;32m~/Code/head-rec-baselines/headrecbaselines/models/PCAH.py:117\u001b[0m, in \u001b[0;36mPCAH_Net.forward\u001b[0;34m(self, x)\u001b[0m\n\u001b[1;32m    116\u001b[0m \u001b[39mdef\u001b[39;00m \u001b[39mforward\u001b[39m(\u001b[39mself\u001b[39m, x):\n\u001b[0;32m--> 117\u001b[0m     x \u001b[39m=\u001b[39m \u001b[39mself\u001b[39;49m\u001b[39m.\u001b[39;49mencoder(x)  \u001b[39m# returns mu\u001b[39;00m\n\u001b[1;32m    118\u001b[0m     x \u001b[39m=\u001b[39m \u001b[39mself\u001b[39m\u001b[39m.\u001b[39mdecoder(x)\n\u001b[1;32m    119\u001b[0m     \u001b[39mreturn\u001b[39;00m x\n",
      "File \u001b[0;32m~/anaconda3/envs/msr/lib/python3.8/site-packages/torch/nn/modules/module.py:1194\u001b[0m, in \u001b[0;36mModule._call_impl\u001b[0;34m(self, *input, **kwargs)\u001b[0m\n\u001b[1;32m   1190\u001b[0m \u001b[39m# If we don't have any hooks, we want to skip the rest of the logic in\u001b[39;00m\n\u001b[1;32m   1191\u001b[0m \u001b[39m# this function, and just call forward.\u001b[39;00m\n\u001b[1;32m   1192\u001b[0m \u001b[39mif\u001b[39;00m \u001b[39mnot\u001b[39;00m (\u001b[39mself\u001b[39m\u001b[39m.\u001b[39m_backward_hooks \u001b[39mor\u001b[39;00m \u001b[39mself\u001b[39m\u001b[39m.\u001b[39m_forward_hooks \u001b[39mor\u001b[39;00m \u001b[39mself\u001b[39m\u001b[39m.\u001b[39m_forward_pre_hooks \u001b[39mor\u001b[39;00m _global_backward_hooks\n\u001b[1;32m   1193\u001b[0m         \u001b[39mor\u001b[39;00m _global_forward_hooks \u001b[39mor\u001b[39;00m _global_forward_pre_hooks):\n\u001b[0;32m-> 1194\u001b[0m     \u001b[39mreturn\u001b[39;00m forward_call(\u001b[39m*\u001b[39;49m\u001b[39minput\u001b[39;49m, \u001b[39m*\u001b[39;49m\u001b[39m*\u001b[39;49mkwargs)\n\u001b[1;32m   1195\u001b[0m \u001b[39m# Do not call functions when jit is used\u001b[39;00m\n\u001b[1;32m   1196\u001b[0m full_backward_hooks, non_full_backward_hooks \u001b[39m=\u001b[39m [], []\n",
      "File \u001b[0;32m~/Code/head-rec-baselines/headrecbaselines/models/PCAH.py:74\u001b[0m, in \u001b[0;36mEncoder.forward\u001b[0;34m(self, x)\u001b[0m\n\u001b[1;32m     72\u001b[0m \u001b[39mif\u001b[39;00m \u001b[39mself\u001b[39m\u001b[39m.\u001b[39minterpolate:\n\u001b[1;32m     73\u001b[0m     x \u001b[39m=\u001b[39m f\u001b[39m.\u001b[39minterpolate(x, size\u001b[39m=\u001b[39m(\u001b[39mself\u001b[39m\u001b[39m.\u001b[39mslices, \u001b[39mself\u001b[39m\u001b[39m.\u001b[39mh, \u001b[39mself\u001b[39m\u001b[39m.\u001b[39mw))\n\u001b[0;32m---> 74\u001b[0m x \u001b[39m=\u001b[39m \u001b[39mself\u001b[39;49m\u001b[39m.\u001b[39;49mresidual1(x)\n\u001b[1;32m     75\u001b[0m x \u001b[39m=\u001b[39m \u001b[39mself\u001b[39m\u001b[39m.\u001b[39mmaxpool(x)\n\u001b[1;32m     76\u001b[0m x \u001b[39m=\u001b[39m \u001b[39mself\u001b[39m\u001b[39m.\u001b[39mresidual2(x)\n",
      "File \u001b[0;32m~/anaconda3/envs/msr/lib/python3.8/site-packages/torch/nn/modules/module.py:1194\u001b[0m, in \u001b[0;36mModule._call_impl\u001b[0;34m(self, *input, **kwargs)\u001b[0m\n\u001b[1;32m   1190\u001b[0m \u001b[39m# If we don't have any hooks, we want to skip the rest of the logic in\u001b[39;00m\n\u001b[1;32m   1191\u001b[0m \u001b[39m# this function, and just call forward.\u001b[39;00m\n\u001b[1;32m   1192\u001b[0m \u001b[39mif\u001b[39;00m \u001b[39mnot\u001b[39;00m (\u001b[39mself\u001b[39m\u001b[39m.\u001b[39m_backward_hooks \u001b[39mor\u001b[39;00m \u001b[39mself\u001b[39m\u001b[39m.\u001b[39m_forward_hooks \u001b[39mor\u001b[39;00m \u001b[39mself\u001b[39m\u001b[39m.\u001b[39m_forward_pre_hooks \u001b[39mor\u001b[39;00m _global_backward_hooks\n\u001b[1;32m   1193\u001b[0m         \u001b[39mor\u001b[39;00m _global_forward_hooks \u001b[39mor\u001b[39;00m _global_forward_pre_hooks):\n\u001b[0;32m-> 1194\u001b[0m     \u001b[39mreturn\u001b[39;00m forward_call(\u001b[39m*\u001b[39;49m\u001b[39minput\u001b[39;49m, \u001b[39m*\u001b[39;49m\u001b[39m*\u001b[39;49mkwargs)\n\u001b[1;32m   1195\u001b[0m \u001b[39m# Do not call functions when jit is used\u001b[39;00m\n\u001b[1;32m   1196\u001b[0m full_backward_hooks, non_full_backward_hooks \u001b[39m=\u001b[39m [], []\n",
      "File \u001b[0;32m~/Code/head-rec-baselines/headrecbaselines/models/PCAH.py:34\u001b[0m, in \u001b[0;36mResidualBlock3D.forward\u001b[0;34m(self, x)\u001b[0m\n\u001b[1;32m     32\u001b[0m \u001b[39mdef\u001b[39;00m \u001b[39mforward\u001b[39m(\u001b[39mself\u001b[39m, x):\n\u001b[1;32m     33\u001b[0m     identity \u001b[39m=\u001b[39m x\n\u001b[0;32m---> 34\u001b[0m     out \u001b[39m=\u001b[39m \u001b[39mself\u001b[39;49m\u001b[39m.\u001b[39;49mblock(x)\n\u001b[1;32m     36\u001b[0m     \u001b[39mif\u001b[39;00m \u001b[39mself\u001b[39m\u001b[39m.\u001b[39mskip \u001b[39mis\u001b[39;00m \u001b[39mnot\u001b[39;00m \u001b[39mNone\u001b[39;00m:\n\u001b[1;32m     37\u001b[0m         identity \u001b[39m=\u001b[39m \u001b[39mself\u001b[39m\u001b[39m.\u001b[39mskip(x)\n",
      "File \u001b[0;32m~/anaconda3/envs/msr/lib/python3.8/site-packages/torch/nn/modules/module.py:1194\u001b[0m, in \u001b[0;36mModule._call_impl\u001b[0;34m(self, *input, **kwargs)\u001b[0m\n\u001b[1;32m   1190\u001b[0m \u001b[39m# If we don't have any hooks, we want to skip the rest of the logic in\u001b[39;00m\n\u001b[1;32m   1191\u001b[0m \u001b[39m# this function, and just call forward.\u001b[39;00m\n\u001b[1;32m   1192\u001b[0m \u001b[39mif\u001b[39;00m \u001b[39mnot\u001b[39;00m (\u001b[39mself\u001b[39m\u001b[39m.\u001b[39m_backward_hooks \u001b[39mor\u001b[39;00m \u001b[39mself\u001b[39m\u001b[39m.\u001b[39m_forward_hooks \u001b[39mor\u001b[39;00m \u001b[39mself\u001b[39m\u001b[39m.\u001b[39m_forward_pre_hooks \u001b[39mor\u001b[39;00m _global_backward_hooks\n\u001b[1;32m   1193\u001b[0m         \u001b[39mor\u001b[39;00m _global_forward_hooks \u001b[39mor\u001b[39;00m _global_forward_pre_hooks):\n\u001b[0;32m-> 1194\u001b[0m     \u001b[39mreturn\u001b[39;00m forward_call(\u001b[39m*\u001b[39;49m\u001b[39minput\u001b[39;49m, \u001b[39m*\u001b[39;49m\u001b[39m*\u001b[39;49mkwargs)\n\u001b[1;32m   1195\u001b[0m \u001b[39m# Do not call functions when jit is used\u001b[39;00m\n\u001b[1;32m   1196\u001b[0m full_backward_hooks, non_full_backward_hooks \u001b[39m=\u001b[39m [], []\n",
      "File \u001b[0;32m~/anaconda3/envs/msr/lib/python3.8/site-packages/torch/nn/modules/container.py:204\u001b[0m, in \u001b[0;36mSequential.forward\u001b[0;34m(self, input)\u001b[0m\n\u001b[1;32m    202\u001b[0m \u001b[39mdef\u001b[39;00m \u001b[39mforward\u001b[39m(\u001b[39mself\u001b[39m, \u001b[39minput\u001b[39m):\n\u001b[1;32m    203\u001b[0m     \u001b[39mfor\u001b[39;00m module \u001b[39min\u001b[39;00m \u001b[39mself\u001b[39m:\n\u001b[0;32m--> 204\u001b[0m         \u001b[39minput\u001b[39m \u001b[39m=\u001b[39m module(\u001b[39minput\u001b[39;49m)\n\u001b[1;32m    205\u001b[0m     \u001b[39mreturn\u001b[39;00m \u001b[39minput\u001b[39m\n",
      "File \u001b[0;32m~/anaconda3/envs/msr/lib/python3.8/site-packages/torch/nn/modules/module.py:1194\u001b[0m, in \u001b[0;36mModule._call_impl\u001b[0;34m(self, *input, **kwargs)\u001b[0m\n\u001b[1;32m   1190\u001b[0m \u001b[39m# If we don't have any hooks, we want to skip the rest of the logic in\u001b[39;00m\n\u001b[1;32m   1191\u001b[0m \u001b[39m# this function, and just call forward.\u001b[39;00m\n\u001b[1;32m   1192\u001b[0m \u001b[39mif\u001b[39;00m \u001b[39mnot\u001b[39;00m (\u001b[39mself\u001b[39m\u001b[39m.\u001b[39m_backward_hooks \u001b[39mor\u001b[39;00m \u001b[39mself\u001b[39m\u001b[39m.\u001b[39m_forward_hooks \u001b[39mor\u001b[39;00m \u001b[39mself\u001b[39m\u001b[39m.\u001b[39m_forward_pre_hooks \u001b[39mor\u001b[39;00m _global_backward_hooks\n\u001b[1;32m   1193\u001b[0m         \u001b[39mor\u001b[39;00m _global_forward_hooks \u001b[39mor\u001b[39;00m _global_forward_pre_hooks):\n\u001b[0;32m-> 1194\u001b[0m     \u001b[39mreturn\u001b[39;00m forward_call(\u001b[39m*\u001b[39;49m\u001b[39minput\u001b[39;49m, \u001b[39m*\u001b[39;49m\u001b[39m*\u001b[39;49mkwargs)\n\u001b[1;32m   1195\u001b[0m \u001b[39m# Do not call functions when jit is used\u001b[39;00m\n\u001b[1;32m   1196\u001b[0m full_backward_hooks, non_full_backward_hooks \u001b[39m=\u001b[39m [], []\n",
      "File \u001b[0;32m~/anaconda3/envs/msr/lib/python3.8/site-packages/torch/nn/modules/conv.py:613\u001b[0m, in \u001b[0;36mConv3d.forward\u001b[0;34m(self, input)\u001b[0m\n\u001b[1;32m    612\u001b[0m \u001b[39mdef\u001b[39;00m \u001b[39mforward\u001b[39m(\u001b[39mself\u001b[39m, \u001b[39minput\u001b[39m: Tensor) \u001b[39m-\u001b[39m\u001b[39m>\u001b[39m Tensor:\n\u001b[0;32m--> 613\u001b[0m     \u001b[39mreturn\u001b[39;00m \u001b[39mself\u001b[39;49m\u001b[39m.\u001b[39;49m_conv_forward(\u001b[39minput\u001b[39;49m, \u001b[39mself\u001b[39;49m\u001b[39m.\u001b[39;49mweight, \u001b[39mself\u001b[39;49m\u001b[39m.\u001b[39;49mbias)\n",
      "File \u001b[0;32m~/anaconda3/envs/msr/lib/python3.8/site-packages/torch/nn/modules/conv.py:608\u001b[0m, in \u001b[0;36mConv3d._conv_forward\u001b[0;34m(self, input, weight, bias)\u001b[0m\n\u001b[1;32m    596\u001b[0m \u001b[39mif\u001b[39;00m \u001b[39mself\u001b[39m\u001b[39m.\u001b[39mpadding_mode \u001b[39m!=\u001b[39m \u001b[39m\"\u001b[39m\u001b[39mzeros\u001b[39m\u001b[39m\"\u001b[39m:\n\u001b[1;32m    597\u001b[0m     \u001b[39mreturn\u001b[39;00m F\u001b[39m.\u001b[39mconv3d(\n\u001b[1;32m    598\u001b[0m         F\u001b[39m.\u001b[39mpad(\n\u001b[1;32m    599\u001b[0m             \u001b[39minput\u001b[39m, \u001b[39mself\u001b[39m\u001b[39m.\u001b[39m_reversed_padding_repeated_twice, mode\u001b[39m=\u001b[39m\u001b[39mself\u001b[39m\u001b[39m.\u001b[39mpadding_mode\n\u001b[0;32m   (...)\u001b[0m\n\u001b[1;32m    606\u001b[0m         \u001b[39mself\u001b[39m\u001b[39m.\u001b[39mgroups,\n\u001b[1;32m    607\u001b[0m     )\n\u001b[0;32m--> 608\u001b[0m \u001b[39mreturn\u001b[39;00m F\u001b[39m.\u001b[39;49mconv3d(\n\u001b[1;32m    609\u001b[0m     \u001b[39minput\u001b[39;49m, weight, bias, \u001b[39mself\u001b[39;49m\u001b[39m.\u001b[39;49mstride, \u001b[39mself\u001b[39;49m\u001b[39m.\u001b[39;49mpadding, \u001b[39mself\u001b[39;49m\u001b[39m.\u001b[39;49mdilation, \u001b[39mself\u001b[39;49m\u001b[39m.\u001b[39;49mgroups\n\u001b[1;32m    610\u001b[0m )\n",
      "\u001b[0;31mOutOfMemoryError\u001b[0m: CUDA out of memory. Tried to allocate 1.12 GiB (GPU 0; 1.96 GiB total capacity; 561.36 MiB already allocated; 934.38 MiB free; 574.00 MiB reserved in total by PyTorch) If reserved memory is >> allocated memory try setting max_split_size_mb to avoid fragmentation.  See documentation for Memory Management and PYTORCH_CUDA_ALLOC_CONF"
     ]
    }
   ],
   "source": [
    "# I can use any img since all .faces() are the same\n",
    "ex_img = os.path.join(\n",
    "    path_imgs, 'CQ500-CT-0_CT PLAIN THIN_decimated_1perc_dfm.vtk'\n",
    ")\n",
    "faces = vedo.Mesh(ex_img).faces()\n",
    "\n",
    "out_pth_tst = os.path.join(path_test, f'PCA_im2mesh')  # Predictions subfolder\n",
    "out_pth_sim = os.path.join(path_sim, f'PCA_im2mesh')  # Predictions subfolder\n",
    "os.makedirs(out_pth_tst, exist_ok=True)\n",
    "os.makedirs(out_pth_sim, exist_ok=True)\n",
    "\n",
    "for samples, out_path, fnames in zip([dtset_tst, dtset_tst_sim],\n",
    "                                     [out_pth_tst, out_pth_sim],\n",
    "                                     [images_test, images_sim]):\n",
    "    print(f\"saving in: {out_path}.\")\n",
    "    for i, sample in enumerate(samples):\n",
    "        test_im = sample['image'].unsqueeze(0)\n",
    "        out_img = pcaNet(test_im.to(config['device']))\n",
    "        points = out_img.reshape(-1, 3).detach().cpu().numpy()\n",
    "\n",
    "        f_name = fnames[i].replace('.nii.gz', '.stl')\n",
    "        out_fpath = os.path.join(out_path, f_name)\n",
    "\n",
    "        restored_mesh = vedo.Mesh([points, faces])\n",
    "        restored_mesh.write(out_fpath)\n",
    "        print(f'  saved mesh {f_name}')\n",
    "        del test_im, out_img"
   ]
  },
  {
   "cell_type": "markdown",
   "metadata": {
    "collapsed": false
   },
   "source": [
    "## Convert meshes to volumes\n",
    "Using as a reference the image CQ500-CT-0_CT PLAIN THIN.nii.gz of the training split (for dims/metadata), binarize the meshes and save them as volumes."
   ]
  },
  {
   "cell_type": "code",
   "execution_count": 8,
   "metadata": {
    "collapsed": false
   },
   "outputs": [],
   "source": [
    "import vedo\n",
    "\n",
    "mesh_pth = 'test.vtk'  # Mesh to binarize\n",
    "refv_path = 'test.nii.gz'  # Reference volume\n",
    "\n",
    "mesh = vedo.Mesh(mesh_pth)\n",
    "volm = vedo.Volume(refv_path)\n",
    "\n",
    "spacing = volm._data.GetSpacing()\n",
    "# volm._data.GetOrigin() gives 0,0,0 origin when it's not this one :(\n",
    "origin = (-110.5, -135.6, -4)\n",
    "direction_matrix = (-1, 0, 0, 0, -1, 0, 0, 0, 1)\n",
    "fg_val = 1\n",
    "bg_val = 0\n",
    "image_size = volm.tonumpy().shape\n",
    "\n",
    "bin_vol = mesh.binarize(spacing, False, direction_matrix, image_size, origin, fg_val, bg_val)\n",
    "bin_vol.write('bin_vol.nii')"
   ]
  },
  {
   "cell_type": "code",
   "execution_count": 2,
   "metadata": {
    "collapsed": false
   },
   "outputs": [
    {
     "name": "stdout",
     "output_type": "stream",
     "text": [
      "Binarizing /media/fmatzkin/data/franco/Code/datasets/cq500mesh/test/sim_defects/PCA_im2mesh/CQ500-CT-47_CT PRE CONTRAST THIN0_sim.stl..  file /media/fmatzkin/data/franco/Code/datasets/cq500mesh/test/sim_defects/PCA_im2mesh/CQ500-CT-47_CT PRE CONTRAST THIN0_sim_binMesh.nii.gz already exists.\n",
      "Binarizing /media/fmatzkin/data/franco/Code/datasets/cq500mesh/test/sim_defects/PCA_im2mesh/CQ500-CT-49_CT PRE CONTRAST THIN0_sim.stl..  file /media/fmatzkin/data/franco/Code/datasets/cq500mesh/test/sim_defects/PCA_im2mesh/CQ500-CT-49_CT PRE CONTRAST THIN0_sim_binMesh.nii.gz already exists.\n",
      "Binarizing /media/fmatzkin/data/franco/Code/datasets/cq500mesh/test/sim_defects/PCA_im2mesh/CQ500-CT-462_CT Thin Plain0_sim.stl..  file /media/fmatzkin/data/franco/Code/datasets/cq500mesh/test/sim_defects/PCA_im2mesh/CQ500-CT-462_CT Thin Plain0_sim_binMesh.nii.gz already exists.\n",
      "Binarizing /media/fmatzkin/data/franco/Code/datasets/cq500mesh/test/sim_defects/PCA_im2mesh/CQ500-CT-356_CT PLAIN THIN0_sim.stl..  file /media/fmatzkin/data/franco/Code/datasets/cq500mesh/test/sim_defects/PCA_im2mesh/CQ500-CT-356_CT PLAIN THIN0_sim_binMesh.nii.gz already exists.\n",
      "Binarizing /media/fmatzkin/data/franco/Code/datasets/cq500mesh/test/sim_defects/PCA_im2mesh/CQ500-CT-384_CT PLAIN THIN0_sim.stl..  file /media/fmatzkin/data/franco/Code/datasets/cq500mesh/test/sim_defects/PCA_im2mesh/CQ500-CT-384_CT PLAIN THIN0_sim_binMesh.nii.gz already exists.\n",
      "Binarizing /media/fmatzkin/data/franco/Code/datasets/cq500mesh/test/sim_defects/PCA_im2mesh/CQ500-CT-292_CT C THIN0_sim.stl..  file /media/fmatzkin/data/franco/Code/datasets/cq500mesh/test/sim_defects/PCA_im2mesh/CQ500-CT-292_CT C THIN0_sim_binMesh.nii.gz already exists.\n",
      "Binarizing /media/fmatzkin/data/franco/Code/datasets/cq500mesh/test/sim_defects/PCA_im2mesh/CQ500-CT-62_CT Thin Plain0_sim.stl..  file /media/fmatzkin/data/franco/Code/datasets/cq500mesh/test/sim_defects/PCA_im2mesh/CQ500-CT-62_CT Thin Plain0_sim_binMesh.nii.gz already exists.\n",
      "Binarizing /media/fmatzkin/data/franco/Code/datasets/cq500mesh/test/sim_defects/PCA_im2mesh/CQ500-CT-370_CT BONE THIN0_sim.stl..  file /media/fmatzkin/data/franco/Code/datasets/cq500mesh/test/sim_defects/PCA_im2mesh/CQ500-CT-370_CT BONE THIN0_sim_binMesh.nii.gz already exists.\n",
      "Binarizing /media/fmatzkin/data/franco/Code/datasets/cq500mesh/test/sim_defects/PCA_im2mesh/CQ500-CT-80_CT 0.625mm0_sim.stl..  file /media/fmatzkin/data/franco/Code/datasets/cq500mesh/test/sim_defects/PCA_im2mesh/CQ500-CT-80_CT 0.625mm0_sim_binMesh.nii.gz already exists.\n",
      "Binarizing /media/fmatzkin/data/franco/Code/datasets/cq500mesh/test/sim_defects/PCA_im2mesh/CQ500-CT-138_CT PRE CONTRAST THIN0_sim.stl..  file /media/fmatzkin/data/franco/Code/datasets/cq500mesh/test/sim_defects/PCA_im2mesh/CQ500-CT-138_CT PRE CONTRAST THIN0_sim_binMesh.nii.gz already exists.\n",
      "Binarizing /media/fmatzkin/data/franco/Code/datasets/cq500mesh/test/sim_defects/PCA_im2mesh/CQ500-CT-39_CT PRE CONTRAST THIN0_sim.stl..  file /media/fmatzkin/data/franco/Code/datasets/cq500mesh/test/sim_defects/PCA_im2mesh/CQ500-CT-39_CT PRE CONTRAST THIN0_sim_binMesh.nii.gz already exists.\n",
      "Binarizing /media/fmatzkin/data/franco/Code/datasets/cq500mesh/test/sim_defects/PCA_im2mesh/CQ500-CT-469_CT 0.625mm0_sim.stl..  file /media/fmatzkin/data/franco/Code/datasets/cq500mesh/test/sim_defects/PCA_im2mesh/CQ500-CT-469_CT 0.625mm0_sim_binMesh.nii.gz already exists.\n",
      "Binarizing /media/fmatzkin/data/franco/Code/datasets/cq500mesh/test/sim_defects/PCA_im2mesh/CQ500-CT-102_CT PLAIN THIN0_sim.stl..  file /media/fmatzkin/data/franco/Code/datasets/cq500mesh/test/sim_defects/PCA_im2mesh/CQ500-CT-102_CT PLAIN THIN0_sim_binMesh.nii.gz already exists.\n",
      "Binarizing /media/fmatzkin/data/franco/Code/datasets/cq500mesh/test/sim_defects/PCA_im2mesh/CQ500-CT-122_CT PRE CONTRAST THIN0_sim.stl..  file /media/fmatzkin/data/franco/Code/datasets/cq500mesh/test/sim_defects/PCA_im2mesh/CQ500-CT-122_CT PRE CONTRAST THIN0_sim_binMesh.nii.gz already exists.\n",
      "Binarizing /media/fmatzkin/data/franco/Code/datasets/cq500mesh/test/sim_defects/PCA_im2mesh/CQ500-CT-228_CT 4cc sec 150cc D3D on-20_sim.stl..done.\n",
      "Binarizing /media/fmatzkin/data/franco/Code/datasets/cq500mesh/test/sim_defects/PCA_im2mesh/CQ500-CT-241_CT PLAIN THIN0_sim.stl..done.\n",
      "Binarizing /media/fmatzkin/data/franco/Code/datasets/cq500mesh/test/sim_defects/PCA_im2mesh/CQ500-CT-458_CT Thin Plain0_sim.stl..done.\n",
      "Binarizing /media/fmatzkin/data/franco/Code/datasets/cq500mesh/test/sim_defects/PCA_im2mesh/CQ500-CT-392_CT PLAIN THIN0_sim.stl..done.\n",
      "Binarizing /media/fmatzkin/data/franco/Code/datasets/cq500mesh/test/sim_defects/PCA_im2mesh/CQ500-CT-373_CT Thin Plain0_sim.stl..done.\n",
      "Binarizing /media/fmatzkin/data/franco/Code/datasets/cq500mesh/test/sim_defects/PCA_im2mesh/CQ500-CT-328_CT 0.625mm0_sim.stl..done.\n",
      "Binarizing /media/fmatzkin/data/franco/Code/datasets/cq500mesh/test/sim_defects/PCA_im2mesh/CQ500-CT-262_CT PLAIN THIN0_sim.stl..done.\n",
      "Binarizing /media/fmatzkin/data/franco/Code/datasets/cq500mesh/test/sim_defects/PCA_im2mesh/CQ500-CT-33_CT 4cc sec 150cc D3D on0_sim.stl..done.\n",
      "Binarizing /media/fmatzkin/data/franco/Code/datasets/cq500mesh/test/sim_defects/PCA_im2mesh/CQ500-CT-453_CT PLAIN THIN0_sim.stl..done.\n",
      "Binarizing /media/fmatzkin/data/franco/Code/datasets/cq500mesh/test/sim_defects/PCA_im2mesh/CQ500-CT-105_CT I To S0_sim.stl..done.\n",
      "Binarizing /media/fmatzkin/data/franco/Code/datasets/cq500mesh/test/sim_defects/PCA_im2mesh/CQ500-CT-257_CT 0.625mm0_sim.stl..done.\n",
      "Binarizing /media/fmatzkin/data/franco/Code/datasets/cq500mesh/test/sim_defects/PCA_im2mesh/CQ500-CT-488_CT 0.625mm0_sim.stl..done.\n",
      "Binarizing /media/fmatzkin/data/franco/Code/datasets/cq500mesh/test/sim_defects/PCA_im2mesh/CQ500-CT-195_CT PRE CONTRAST THIN0_sim.stl..done.\n",
      "Binarizing /media/fmatzkin/data/franco/Code/datasets/cq500mesh/test/sim_defects/PCA_im2mesh/CQ500-CT-308_CT PLAIN THIN0_sim.stl..done.\n",
      "Binarizing /media/fmatzkin/data/franco/Code/datasets/cq500mesh/test/sim_defects/PCA_im2mesh/CQ500-CT-444_CT Thin Plain0_sim.stl..done.\n",
      "Binarizing /media/fmatzkin/data/franco/Code/datasets/cq500mesh/test/sim_defects/PCA_im2mesh/CQ500-CT-465_CT Thin Plain0_sim.stl..done.\n",
      "Binarizing /media/fmatzkin/data/franco/Code/datasets/cq500mesh/test/sim_defects/PCA_im2mesh/CQ500-CT-287_CT Thin Plain0_sim.stl..done.\n",
      "Binarizing /media/fmatzkin/data/franco/Code/datasets/cq500mesh/test/sim_defects/PCA_im2mesh/CQ500-CT-12_CT Thin Plain0_sim.stl..done.\n",
      "Binarizing /media/fmatzkin/data/franco/Code/datasets/cq500mesh/test/sim_defects/PCA_im2mesh/CQ500-CT-365_CT Thin Plain0_sim.stl..done.\n",
      "Binarizing /media/fmatzkin/data/franco/Code/datasets/cq500mesh/test/sim_defects/PCA_im2mesh/CQ500-CT-67_CT BONE0_sim.stl..done.\n",
      "Binarizing /media/fmatzkin/data/franco/Code/datasets/cq500mesh/test/sim_defects/PCA_im2mesh/CQ500-CT-103_CT Thin Plain0_sim.stl..done.\n",
      "Binarizing /media/fmatzkin/data/franco/Code/datasets/cq500mesh/test/sim_defects/PCA_im2mesh/CQ500-CT-485_CT PLAIN THIN0_sim.stl..done.\n"
     ]
    }
   ],
   "source": [
    "from headrecbaselines.utils.utils import mesh2vol\n",
    "import os\n",
    "\n",
    "absp = os.path.abspath\n",
    "m_fld = absp('../datasets/cq500mesh/test/sim_defects/PCA_im2mesh/')\n",
    "ref_im = absp('../datasets/cq500mesh/CQ500-CT-0_CT PLAIN THIN.nii.gz')\n",
    "meshes_paths = [os.path.join(m_fld, f)\n",
    "                for f in os.listdir(m_fld) if f.endswith('.stl')]\n",
    "\n",
    "for mesh in meshes_paths:\n",
    "    mesh2vol(mesh, ref_im)"
   ]
  },
  {
   "attachments": {},
   "cell_type": "markdown",
   "id": "645715ac",
   "metadata": {},
   "source": [
    "### Align the predictions to the inputs"
   ]
  },
  {
   "attachments": {},
   "cell_type": "markdown",
   "id": "65d6c6ab",
   "metadata": {},
   "source": [
    "The prections may be disaligned in the edges, so with this I warp the output mesh to the input"
   ]
  },
  {
   "cell_type": "code",
   "execution_count": 1,
   "metadata": {
    "collapsed": false
   },
   "outputs": [],
   "source": [
    "import os\n",
    "from headctools.preprocessing import utils\n",
    "\n",
    "preds_folder = os.path.abspath('../datasets/cq500mesh/test/sim_defects/PCA_im2mesh/')\n",
    "vols_folder = os.path.abspath('../datasets/cq500mesh/test/sim_defects/')"
   ]
  },
  {
   "cell_type": "code",
   "execution_count": 2,
   "metadata": {
    "collapsed": false
   },
   "outputs": [
    {
     "name": "stdout",
     "output_type": "stream",
     "text": [
      "    Saved mesh in /media/fmatzkin/data/franco/Code/datasets/cq500mesh/test/sim_defects/CQ500-CT-392_CT PLAIN THIN0_sim.stl\n",
      "    Saved mesh in /media/fmatzkin/data/franco/Code/datasets/cq500mesh/test/sim_defects/CQ500-CT-49_CT PRE CONTRAST THIN0_sim.stl\n",
      "    Saved mesh in /media/fmatzkin/data/franco/Code/datasets/cq500mesh/test/sim_defects/CQ500-CT-287_CT Thin Plain0_sim.stl\n",
      "    Saved mesh in /media/fmatzkin/data/franco/Code/datasets/cq500mesh/test/sim_defects/CQ500-CT-195_CT PRE CONTRAST THIN0_sim.stl\n",
      "    Saved mesh in /media/fmatzkin/data/franco/Code/datasets/cq500mesh/test/sim_defects/CQ500-CT-373_CT Thin Plain0_sim.stl\n",
      "    Saved mesh in /media/fmatzkin/data/franco/Code/datasets/cq500mesh/test/sim_defects/CQ500-CT-444_CT Thin Plain0_sim.stl\n",
      "    Saved mesh in /media/fmatzkin/data/franco/Code/datasets/cq500mesh/test/sim_defects/CQ500-CT-103_CT Thin Plain0_sim.stl\n",
      "    Saved mesh in /media/fmatzkin/data/franco/Code/datasets/cq500mesh/test/sim_defects/CQ500-CT-384_CT PLAIN THIN0_sim.stl\n",
      "    Saved mesh in /media/fmatzkin/data/franco/Code/datasets/cq500mesh/test/sim_defects/CQ500-CT-241_CT PLAIN THIN0_sim.stl\n",
      "    Saved mesh in /media/fmatzkin/data/franco/Code/datasets/cq500mesh/test/sim_defects/CQ500-CT-67_CT BONE0_sim.stl\n",
      "    Saved mesh in /media/fmatzkin/data/franco/Code/datasets/cq500mesh/test/sim_defects/CQ500-CT-458_CT Thin Plain0_sim.stl\n",
      "    Saved mesh in /media/fmatzkin/data/franco/Code/datasets/cq500mesh/test/sim_defects/CQ500-CT-105_CT I To S0_sim.stl\n",
      "    Saved mesh in /media/fmatzkin/data/franco/Code/datasets/cq500mesh/test/sim_defects/CQ500-CT-308_CT PLAIN THIN0_sim.stl\n",
      "    Saved mesh in /media/fmatzkin/data/franco/Code/datasets/cq500mesh/test/sim_defects/CQ500-CT-469_CT 0.625mm0_sim.stl\n",
      "    Saved mesh in /media/fmatzkin/data/franco/Code/datasets/cq500mesh/test/sim_defects/CQ500-CT-370_CT BONE THIN0_sim.stl\n",
      "    Saved mesh in /media/fmatzkin/data/franco/Code/datasets/cq500mesh/test/sim_defects/CQ500-CT-80_CT 0.625mm0_sim.stl\n",
      "    Saved mesh in /media/fmatzkin/data/franco/Code/datasets/cq500mesh/test/sim_defects/CQ500-CT-39_CT PRE CONTRAST THIN0_sim.stl\n",
      "    Saved mesh in /media/fmatzkin/data/franco/Code/datasets/cq500mesh/test/sim_defects/CQ500-CT-328_CT 0.625mm0_sim.stl\n",
      "    Saved mesh in /media/fmatzkin/data/franco/Code/datasets/cq500mesh/test/sim_defects/CQ500-CT-102_CT PLAIN THIN0_sim.stl\n",
      "    Saved mesh in /media/fmatzkin/data/franco/Code/datasets/cq500mesh/test/sim_defects/CQ500-CT-365_CT Thin Plain0_sim.stl\n",
      "    Saved mesh in /media/fmatzkin/data/franco/Code/datasets/cq500mesh/test/sim_defects/CQ500-CT-138_CT PRE CONTRAST THIN0_sim.stl\n",
      "    Saved mesh in /media/fmatzkin/data/franco/Code/datasets/cq500mesh/test/sim_defects/CQ500-CT-262_CT PLAIN THIN0_sim.stl\n",
      "    Saved mesh in /media/fmatzkin/data/franco/Code/datasets/cq500mesh/test/sim_defects/CQ500-CT-462_CT Thin Plain0_sim.stl\n",
      "    Saved mesh in /media/fmatzkin/data/franco/Code/datasets/cq500mesh/test/sim_defects/CQ500-CT-257_CT 0.625mm0_sim.stl\n",
      "    Saved mesh in /media/fmatzkin/data/franco/Code/datasets/cq500mesh/test/sim_defects/CQ500-CT-465_CT Thin Plain0_sim.stl\n",
      "    Saved mesh in /media/fmatzkin/data/franco/Code/datasets/cq500mesh/test/sim_defects/CQ500-CT-122_CT PRE CONTRAST THIN0_sim.stl\n",
      "    Saved mesh in /media/fmatzkin/data/franco/Code/datasets/cq500mesh/test/sim_defects/CQ500-CT-356_CT PLAIN THIN0_sim.stl\n",
      "    Saved mesh in /media/fmatzkin/data/franco/Code/datasets/cq500mesh/test/sim_defects/CQ500-CT-228_CT 4cc sec 150cc D3D on-20_sim.stl\n",
      "    Saved mesh in /media/fmatzkin/data/franco/Code/datasets/cq500mesh/test/sim_defects/CQ500-CT-292_CT C THIN0_sim.stl\n",
      "    Saved mesh in /media/fmatzkin/data/franco/Code/datasets/cq500mesh/test/sim_defects/CQ500-CT-488_CT 0.625mm0_sim.stl\n",
      "    Saved mesh in /media/fmatzkin/data/franco/Code/datasets/cq500mesh/test/sim_defects/CQ500-CT-453_CT PLAIN THIN0_sim.stl\n",
      "    Saved mesh in /media/fmatzkin/data/franco/Code/datasets/cq500mesh/test/sim_defects/CQ500-CT-12_CT Thin Plain0_sim.stl\n",
      "    Saved mesh in /media/fmatzkin/data/franco/Code/datasets/cq500mesh/test/sim_defects/CQ500-CT-62_CT Thin Plain0_sim.stl\n",
      "    Saved mesh in /media/fmatzkin/data/franco/Code/datasets/cq500mesh/test/sim_defects/CQ500-CT-485_CT PLAIN THIN0_sim.stl\n",
      "    Saved mesh in /media/fmatzkin/data/franco/Code/datasets/cq500mesh/test/sim_defects/CQ500-CT-33_CT 4cc sec 150cc D3D on0_sim.stl\n",
      "    Saved mesh in /media/fmatzkin/data/franco/Code/datasets/cq500mesh/test/sim_defects/CQ500-CT-47_CT PRE CONTRAST THIN0_sim.stl\n"
     ]
    }
   ],
   "source": [
    "# Convert the input volumes to meshes so I can align the output meshes later\n",
    "utils.nii_to_stl_marching_cubes(vols_folder, vols_folder, False, '_sim.nii.gz')\n",
    "paths_inp_mshs = [os.path.join(vols_folder, f) for f in os.listdir(vols_folder)\n",
    "                  if f.endswith('_sim.stl')]"
   ]
  },
  {
   "cell_type": "code",
   "execution_count": 10,
   "id": "42e4f5d9",
   "metadata": {
    "collapsed": false,
    "pycharm": {
     "is_executing": true
    }
   },
   "outputs": [],
   "source": [
    "import vedo\n",
    "import SimpleITK as sitk\n",
    "from headrecbaselines.utils.VedoMorpher3 import fit_mesh_dmap\n",
    "import os\n",
    "\n",
    "basef = os.path.expanduser('~/Code/datasets/cq500mesh/')\n",
    "pred = basef + 'test/sim_defects/PCA_im2mesh/CQ500-CT-444_CT Thin Plain0_sim.stl'\n",
    "inp = basef + 'test/sim_defects/CQ500-CT-444_CT Thin Plain0_sim_decimated_1perc.vtk'\n",
    "# reg = basef + 'reg_CQ500-CT-444_CT Thin Plain0_sim_decimated_1perc/DeterministicAtlas__Reconstruction__skull__subject_CQ500-CT-444_CT Thin Plain0_sim_decimated_1perc.vtk'\n",
    "distmap = basef + 'test/sim_defects/CQ500-CT-444_CT Thin Plain0_sim_distmap.nii.gz'\n",
    "\n",
    "predmesh = vedo.Mesh(pred)\n",
    "inpmesh = vedo.Mesh(inp)\n",
    "# regmesh = vedo.Mesh(reg).decimate(.1)\n",
    "distmap = sitk.ReadImage(distmap)"
   ]
  },
  {
   "cell_type": "code",
   "execution_count": 11,
   "id": "79a95e7e",
   "metadata": {},
   "outputs": [
    {
     "data": {
      "text/plain": [
       "<Mesh(0x561526619860) at 0x7ff233f45580>"
      ]
     },
     "execution_count": 11,
     "metadata": {},
     "output_type": "execute_result"
    }
   ],
   "source": [
    "predmesh.write('predmesh_b.vtk')\n",
    "predmesh.align_to(inpmesh, use_centroids=True)\n",
    "predmesh.write('predmesh_a_c.vtk')\n",
    "inpmesh.write('inpmesh.vtk')"
   ]
  },
  {
   "cell_type": "code",
   "execution_count": 7,
   "id": "61ac03f1",
   "metadata": {
    "collapsed": false,
    "pycharm": {
     "is_executing": true
    }
   },
   "outputs": [
    {
     "name": "stdout",
     "output_type": "stream",
     "text": [
      "No near point found point 648\n",
      "No near point found point 1057\n",
      "No near point found point 1397\n",
      "No near point found point 1908\n",
      "Morphed mesh saved to /home/franco/Code/datasets/cq500mesh/test/sim_defects/PCA_im2mesh/CQ500-CT-444_CT Thin Plain0_sim_morphed.stl\n"
     ]
    }
   ],
   "source": [
    "pm = {\n",
    "        'dm_threshold': 0,  # distance map threshold\n",
    "        'save_path': pred.replace('.stl', f'_morphed.stl'),  # path to save the morphed mesh\n",
    "        'no_angle' : 35,  # Angle threshold for normals\n",
    "        'n_points' : 100,  # Number of points to use for the closest point search\n",
    "        \n",
    "    }\n",
    "\n",
    "mr = fit_mesh_dmap(predmesh, inpmesh, distmap, pm)"
   ]
  },
  {
   "cell_type": "code",
   "execution_count": 10,
   "id": "a1dd32ba",
   "metadata": {},
   "outputs": [],
   "source": [
    "# Draw an arrow for each normal of the inpmesh\n",
    "arrs = []\n",
    "for i, pt in enumerate(inpmesh.points()):\n",
    "    arrs.append([pt, pt + inpmesh.normals()[i] * 10])\n",
    "v_arrs = vedo.Arrows(arrs)\n",
    "vedo.show(inpmesh, v_arrs).close()"
   ]
  },
  {
   "cell_type": "code",
   "execution_count": 8,
   "id": "7b61f01d",
   "metadata": {},
   "outputs": [],
   "source": [
    "# Draw an arrow for each normal of the prediction meshq\n",
    "arrs = []\n",
    "for i, pt in enumerate(predmesh.points()):\n",
    "    arrs.append([pt, pt + predmesh.normals()[i] * 10])\n",
    "v_arrs = vedo.Arrows(arrs)\n",
    "vedo.show(predmesh, v_arrs).close()"
   ]
  },
  {
   "cell_type": "code",
   "execution_count": 9,
   "id": "f4118c94",
   "metadata": {},
   "outputs": [
    {
     "ename": "AttributeError",
     "evalue": "'Arrows' object has no attribute 'save'",
     "output_type": "error",
     "traceback": [
      "\u001b[0;31m---------------------------------------------------------------------------\u001b[0m",
      "\u001b[0;31mAttributeError\u001b[0m                            Traceback (most recent call last)",
      "\u001b[1;32m/home/franco/Code/head-rec-baselines/04-Predict.ipynb Cell 26\u001b[0m in \u001b[0;36m<cell line: 1>\u001b[0;34m()\u001b[0m\n\u001b[0;32m----> <a href='vscode-notebook-cell:/home/franco/Code/head-rec-baselines/04-Predict.ipynb#X35sZmlsZQ%3D%3D?line=0'>1</a>\u001b[0m v_arrs\u001b[39m.\u001b[39;49msave(basef \u001b[39m+\u001b[39m \u001b[39m'\u001b[39m\u001b[39mtest/sim_defects/PCA_im2mesh/CQ500-CT-444_CT Thin Plain0_sim_normals.vtk\u001b[39m\u001b[39m'\u001b[39m)\n",
      "\u001b[0;31mAttributeError\u001b[0m: 'Arrows' object has no attribute 'save'"
     ]
    }
   ],
   "source": [
    "v_arrs.save(basef + 'test/sim_defects/PCA_im2mesh/CQ500-CT-444_CT Thin Plain0_sim_normals.vtk')"
   ]
  },
  {
   "cell_type": "code",
   "execution_count": 4,
   "id": "b8a9a450",
   "metadata": {},
   "outputs": [],
   "source": [
    "# Draw an arrow for each normal of the morphed mesh\n",
    "arrs = []\n",
    "for i, pt in enumerate(mr.morphed.points()):\n",
    "    arrs.append([pt, pt + mr.morphed.normals()[i] * 10])\n",
    "v_arrs = vedo.Arrows(arrs)\n",
    "vedo.show(mr.morphed, v_arrs).close()"
   ]
  }
 ],
 "metadata": {
  "kernelspec": {
   "display_name": "msr",
   "language": "python",
   "name": "python3"
  },
  "language_info": {
   "codemirror_mode": {
    "name": "ipython",
    "version": 3
   },
   "file_extension": ".py",
   "mimetype": "text/x-python",
   "name": "python",
   "nbconvert_exporter": "python",
   "pygments_lexer": "ipython3",
   "version": "3.8.13"
  },
  "vscode": {
   "interpreter": {
    "hash": "159c917228f05416d9b819fe32ed20dc8363f68fb18cb83ee7ae4737bd8f0b32"
   }
  }
 },
 "nbformat": 4,
 "nbformat_minor": 5
}
