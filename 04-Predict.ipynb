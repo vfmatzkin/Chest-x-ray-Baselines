{
 "cells": [
  {
   "cell_type": "code",
   "execution_count": null,
   "id": "7257c989",
   "metadata": {},
   "outputs": [],
   "source": [
    "% load_ext autoreload\n",
    "% autoreload 2"
   ]
  },
  {
   "cell_type": "markdown",
   "metadata": {
    "collapsed": false
   },
   "source": [
    "## Test convolutional PCA reconstruction"
   ]
  },
  {
   "cell_type": "code",
   "execution_count": 3,
   "id": "02278c69",
   "metadata": {},
   "outputs": [],
   "source": [
    "import os\n",
    "\n",
    "import torch\n",
    "import vedo\n",
    "\n",
    "from headrecbaselines.models.PCAH import PCAH_Net\n",
    "from headrecbaselines.utils.datasetHeads import MeshHeadsDataset"
   ]
  },
  {
   "cell_type": "markdown",
   "metadata": {
    "collapsed": false
   },
   "source": [
    "### Load test images"
   ]
  },
  {
   "cell_type": "code",
   "execution_count": 4,
   "id": "7084379a",
   "metadata": {},
   "outputs": [
    {
     "name": "stdout",
     "output_type": "stream",
     "text": [
      "Test images: 36. Simulated defect skulls: 36\n"
     ]
    }
   ],
   "source": [
    "img_path = os.path.abspath('../datasets/cq500mesh')\n",
    "path_test = os.path.join(img_path, 'test')\n",
    "path_sim = os.path.join(path_test, 'sim_defects')\n",
    "images_test = open(\"partitions/test.txt\", 'r').read().splitlines()\n",
    "images_sim = open(\"partitions/test_sim.txt\", 'r').read().splitlines()\n",
    "\n",
    "dtset_tst = MeshHeadsDataset(images_test, path_test, test=True)\n",
    "dtset_tst_sim = MeshHeadsDataset(images_sim, path_sim, test=True)\n",
    "print(f\"Test images: {len(dtset_tst)}. \"\n",
    "      f\"Simulated defect skulls: {len(dtset_tst_sim)}\")"
   ]
  },
  {
   "cell_type": "code",
   "execution_count": 5,
   "id": "a70b5eed-0c89-4f77-b1d4-8699aa326395",
   "metadata": {},
   "outputs": [
    {
     "name": "stdout",
     "output_type": "stream",
     "text": [
      "Model loaded\n"
     ]
    }
   ],
   "source": [
    "interp_factor = 0.85\n",
    "config = {\n",
    "    'device': 'cuda:0',\n",
    "    'latents': 60,\n",
    "    'inputsize': 1024,\n",
    "    'interpolate': True,\n",
    "    'h': int(512 * interp_factor),\n",
    "    'w': int(512 * interp_factor),\n",
    "    'slices': int(233 * interp_factor),\n",
    "}\n",
    "\n",
    "pcaNet = PCAH_Net(config.copy()).to(config['device'])\n",
    "pcaNet.load_state_dict(torch.load('trained/PCAH/bestMSE.pt'))\n",
    "pcaNet.eval()\n",
    "print('Model loaded')"
   ]
  },
  {
   "cell_type": "markdown",
   "metadata": {
    "collapsed": false
   },
   "source": [
    "### Predict on test and simulated imgs"
   ]
  },
  {
   "cell_type": "code",
   "execution_count": 6,
   "metadata": {
    "collapsed": false
   },
   "outputs": [
    {
     "name": "stdout",
     "output_type": "stream",
     "text": [
      "saving in: /media/fmatzkin/data/franco/Code/datasets/cq500mesh/test/PCA_im2mesh.\n",
      "  saved mesh CQ500-CT-370_CT BONE THIN.stl\n",
      "  saved mesh CQ500-CT-356_CT PLAIN THIN.stl\n",
      "  saved mesh CQ500-CT-469_CT 0.625mm.stl\n",
      "  saved mesh CQ500-CT-241_CT PLAIN THIN.stl\n",
      "  saved mesh CQ500-CT-228_CT 4cc sec 150cc D3D on-2.stl\n",
      "  saved mesh CQ500-CT-328_CT 0.625mm.stl\n",
      "  saved mesh CQ500-CT-105_CT I To S.stl\n",
      "  saved mesh CQ500-CT-67_CT BONE.stl\n",
      "  saved mesh CQ500-CT-122_CT PRE CONTRAST THIN.stl\n",
      "  saved mesh CQ500-CT-33_CT 4cc sec 150cc D3D on.stl\n",
      "  saved mesh CQ500-CT-287_CT Thin Plain.stl\n",
      "  saved mesh CQ500-CT-365_CT Thin Plain.stl\n",
      "  saved mesh CQ500-CT-373_CT Thin Plain.stl\n",
      "  saved mesh CQ500-CT-485_CT PLAIN THIN.stl\n",
      "  saved mesh CQ500-CT-80_CT 0.625mm.stl\n",
      "  saved mesh CQ500-CT-103_CT Thin Plain.stl\n",
      "  saved mesh CQ500-CT-39_CT PRE CONTRAST THIN.stl\n",
      "  saved mesh CQ500-CT-453_CT PLAIN THIN.stl\n",
      "  saved mesh CQ500-CT-384_CT PLAIN THIN.stl\n",
      "  saved mesh CQ500-CT-49_CT PRE CONTRAST THIN.stl\n",
      "  saved mesh CQ500-CT-195_CT PRE CONTRAST THIN.stl\n",
      "  saved mesh CQ500-CT-292_CT C THIN.stl\n",
      "  saved mesh CQ500-CT-458_CT Thin Plain.stl\n",
      "  saved mesh CQ500-CT-488_CT 0.625mm.stl\n",
      "  saved mesh CQ500-CT-47_CT PRE CONTRAST THIN.stl\n",
      "  saved mesh CQ500-CT-392_CT PLAIN THIN.stl\n",
      "  saved mesh CQ500-CT-462_CT Thin Plain.stl\n",
      "  saved mesh CQ500-CT-465_CT Thin Plain.stl\n",
      "  saved mesh CQ500-CT-62_CT Thin Plain.stl\n",
      "  saved mesh CQ500-CT-12_CT Thin Plain.stl\n",
      "  saved mesh CQ500-CT-257_CT 0.625mm.stl\n",
      "  saved mesh CQ500-CT-308_CT PLAIN THIN.stl\n",
      "  saved mesh CQ500-CT-138_CT PRE CONTRAST THIN.stl\n",
      "  saved mesh CQ500-CT-444_CT Thin Plain.stl\n",
      "  saved mesh CQ500-CT-102_CT PLAIN THIN.stl\n",
      "  saved mesh CQ500-CT-262_CT PLAIN THIN.stl\n",
      "saving in: /media/fmatzkin/data/franco/Code/datasets/cq500mesh/test/sim_defects/PCA_im2mesh.\n",
      "  saved mesh CQ500-CT-392_CT PLAIN THIN0_sim.stl\n",
      "  saved mesh CQ500-CT-49_CT PRE CONTRAST THIN0_sim.stl\n",
      "  saved mesh CQ500-CT-287_CT Thin Plain0_sim.stl\n",
      "  saved mesh CQ500-CT-195_CT PRE CONTRAST THIN0_sim.stl\n",
      "  saved mesh CQ500-CT-373_CT Thin Plain0_sim.stl\n",
      "  saved mesh CQ500-CT-444_CT Thin Plain0_sim.stl\n",
      "  saved mesh CQ500-CT-103_CT Thin Plain0_sim.stl\n",
      "  saved mesh CQ500-CT-384_CT PLAIN THIN0_sim.stl\n",
      "  saved mesh CQ500-CT-241_CT PLAIN THIN0_sim.stl\n",
      "  saved mesh CQ500-CT-67_CT BONE0_sim.stl\n",
      "  saved mesh CQ500-CT-458_CT Thin Plain0_sim.stl\n",
      "  saved mesh CQ500-CT-105_CT I To S0_sim.stl\n",
      "  saved mesh CQ500-CT-308_CT PLAIN THIN0_sim.stl\n",
      "  saved mesh CQ500-CT-469_CT 0.625mm0_sim.stl\n",
      "  saved mesh CQ500-CT-370_CT BONE THIN0_sim.stl\n",
      "  saved mesh CQ500-CT-80_CT 0.625mm0_sim.stl\n",
      "  saved mesh CQ500-CT-39_CT PRE CONTRAST THIN0_sim.stl\n",
      "  saved mesh CQ500-CT-328_CT 0.625mm0_sim.stl\n",
      "  saved mesh CQ500-CT-102_CT PLAIN THIN0_sim.stl\n",
      "  saved mesh CQ500-CT-365_CT Thin Plain0_sim.stl\n",
      "  saved mesh CQ500-CT-138_CT PRE CONTRAST THIN0_sim.stl\n",
      "  saved mesh CQ500-CT-262_CT PLAIN THIN0_sim.stl\n",
      "  saved mesh CQ500-CT-462_CT Thin Plain0_sim.stl\n",
      "  saved mesh CQ500-CT-257_CT 0.625mm0_sim.stl\n",
      "  saved mesh CQ500-CT-465_CT Thin Plain0_sim.stl\n",
      "  saved mesh CQ500-CT-122_CT PRE CONTRAST THIN0_sim.stl\n",
      "  saved mesh CQ500-CT-356_CT PLAIN THIN0_sim.stl\n",
      "  saved mesh CQ500-CT-228_CT 4cc sec 150cc D3D on-20_sim.stl\n",
      "  saved mesh CQ500-CT-292_CT C THIN0_sim.stl\n",
      "  saved mesh CQ500-CT-488_CT 0.625mm0_sim.stl\n",
      "  saved mesh CQ500-CT-453_CT PLAIN THIN0_sim.stl\n",
      "  saved mesh CQ500-CT-12_CT Thin Plain0_sim.stl\n",
      "  saved mesh CQ500-CT-62_CT Thin Plain0_sim.stl\n",
      "  saved mesh CQ500-CT-485_CT PLAIN THIN0_sim.stl\n",
      "  saved mesh CQ500-CT-33_CT 4cc sec 150cc D3D on0_sim.stl\n",
      "  saved mesh CQ500-CT-47_CT PRE CONTRAST THIN0_sim.stl\n"
     ]
    }
   ],
   "source": [
    "# I can use any img since all .faces() are the same\n",
    "ex_img = os.path.join(\n",
    "    img_path, 'CQ500-CT-0_CT PLAIN THIN_decimated_1perc_dfm.vtk'\n",
    ")\n",
    "faces = vedo.Mesh(ex_img).faces()\n",
    "\n",
    "out_pth_tst = os.path.join(path_test, f'PCA_im2mesh')  # Predictions subfolder\n",
    "out_pth_sim = os.path.join(path_sim, f'PCA_im2mesh')  # Predictions subfolder\n",
    "os.makedirs(out_pth_tst, exist_ok=True)\n",
    "os.makedirs(out_pth_sim, exist_ok=True)\n",
    "\n",
    "for samples, out_path, fnames in zip([dtset_tst, dtset_tst_sim],\n",
    "                                     [out_pth_tst, out_pth_sim],\n",
    "                                     [images_test, images_sim]):\n",
    "    print(f\"saving in: {out_path}.\")\n",
    "    for i, sample in enumerate(samples):\n",
    "        test_im = sample['image'].unsqueeze(0)\n",
    "        out_img = pcaNet(test_im.to(config['device']))\n",
    "        points = out_img.reshape(-1, 3).detach().cpu().numpy()\n",
    "\n",
    "        f_name = fnames[i].replace('.nii.gz', '.stl')\n",
    "        out_fpath = os.path.join(out_path, f_name)\n",
    "\n",
    "        restored_mesh = vedo.Mesh([points, faces])\n",
    "        restored_mesh.write(out_fpath)\n",
    "        print(f'  saved mesh {f_name}')\n",
    "        del test_im, out_img"
   ]
  },
  {
   "cell_type": "markdown",
   "metadata": {
    "collapsed": false
   },
   "source": [
    "## Convert meshes to volumes\n",
    "Using as a reference the image CQ500-CT-0_CT PLAIN THIN.nii.gz of the training split (for dims/metadata), binarize the meshes and save them as volumes."
   ]
  },
  {
   "cell_type": "code",
   "execution_count": 8,
   "metadata": {
    "collapsed": false
   },
   "outputs": [],
   "source": [
    "import vedo\n",
    "\n",
    "mesh_pth = 'test.vtk'  # Mesh to binarize\n",
    "refv_path = 'test.nii.gz'  # Reference volume\n",
    "\n",
    "mesh = vedo.Mesh(mesh_pth)\n",
    "volm = vedo.Volume(refv_path)\n",
    "\n",
    "spacing = volm._data.GetSpacing()\n",
    "# volm._data.GetOrigin() gives 0,0,0 origin when it's not this one :(\n",
    "origin = (-110.5, -135.6, -4)\n",
    "direction_matrix = (-1, 0, 0, 0, -1, 0, 0, 0, 1)\n",
    "fg_val = 1\n",
    "bg_val = 0\n",
    "image_size = volm.tonumpy().shape\n",
    "\n",
    "bin_vol = mesh.binarize(spacing, False, direction_matrix, image_size, origin, fg_val, bg_val)\n",
    "bin_vol.write('bin_vol.nii')"
   ]
  },
  {
   "cell_type": "code",
   "execution_count": 3,
   "metadata": {
    "collapsed": false
   },
   "outputs": [
    {
     "data": {
      "text/plain": [
       "(0.0, 0.0, 0.0)"
      ]
     },
     "execution_count": 3,
     "metadata": {},
     "output_type": "execute_result"
    }
   ],
   "source": [
    "origin"
   ]
  },
  {
   "cell_type": "code",
   "execution_count": 2,
   "metadata": {
    "collapsed": false
   },
   "outputs": [
    {
     "name": "stdout",
     "output_type": "stream",
     "text": [
      "Binarizing /media/fmatzkin/data/franco/Code/datasets/cq500mesh/test/sim_defects/PCA_im2mesh/CQ500-CT-47_CT PRE CONTRAST THIN0_sim.stl..  file /media/fmatzkin/data/franco/Code/datasets/cq500mesh/test/sim_defects/PCA_im2mesh/CQ500-CT-47_CT PRE CONTRAST THIN0_sim_binMesh.nii.gz already exists.\n",
      "Binarizing /media/fmatzkin/data/franco/Code/datasets/cq500mesh/test/sim_defects/PCA_im2mesh/CQ500-CT-49_CT PRE CONTRAST THIN0_sim.stl..  file /media/fmatzkin/data/franco/Code/datasets/cq500mesh/test/sim_defects/PCA_im2mesh/CQ500-CT-49_CT PRE CONTRAST THIN0_sim_binMesh.nii.gz already exists.\n",
      "Binarizing /media/fmatzkin/data/franco/Code/datasets/cq500mesh/test/sim_defects/PCA_im2mesh/CQ500-CT-462_CT Thin Plain0_sim.stl..  file /media/fmatzkin/data/franco/Code/datasets/cq500mesh/test/sim_defects/PCA_im2mesh/CQ500-CT-462_CT Thin Plain0_sim_binMesh.nii.gz already exists.\n",
      "Binarizing /media/fmatzkin/data/franco/Code/datasets/cq500mesh/test/sim_defects/PCA_im2mesh/CQ500-CT-356_CT PLAIN THIN0_sim.stl..  file /media/fmatzkin/data/franco/Code/datasets/cq500mesh/test/sim_defects/PCA_im2mesh/CQ500-CT-356_CT PLAIN THIN0_sim_binMesh.nii.gz already exists.\n",
      "Binarizing /media/fmatzkin/data/franco/Code/datasets/cq500mesh/test/sim_defects/PCA_im2mesh/CQ500-CT-384_CT PLAIN THIN0_sim.stl..  file /media/fmatzkin/data/franco/Code/datasets/cq500mesh/test/sim_defects/PCA_im2mesh/CQ500-CT-384_CT PLAIN THIN0_sim_binMesh.nii.gz already exists.\n",
      "Binarizing /media/fmatzkin/data/franco/Code/datasets/cq500mesh/test/sim_defects/PCA_im2mesh/CQ500-CT-292_CT C THIN0_sim.stl..  file /media/fmatzkin/data/franco/Code/datasets/cq500mesh/test/sim_defects/PCA_im2mesh/CQ500-CT-292_CT C THIN0_sim_binMesh.nii.gz already exists.\n",
      "Binarizing /media/fmatzkin/data/franco/Code/datasets/cq500mesh/test/sim_defects/PCA_im2mesh/CQ500-CT-62_CT Thin Plain0_sim.stl..  file /media/fmatzkin/data/franco/Code/datasets/cq500mesh/test/sim_defects/PCA_im2mesh/CQ500-CT-62_CT Thin Plain0_sim_binMesh.nii.gz already exists.\n",
      "Binarizing /media/fmatzkin/data/franco/Code/datasets/cq500mesh/test/sim_defects/PCA_im2mesh/CQ500-CT-370_CT BONE THIN0_sim.stl..  file /media/fmatzkin/data/franco/Code/datasets/cq500mesh/test/sim_defects/PCA_im2mesh/CQ500-CT-370_CT BONE THIN0_sim_binMesh.nii.gz already exists.\n",
      "Binarizing /media/fmatzkin/data/franco/Code/datasets/cq500mesh/test/sim_defects/PCA_im2mesh/CQ500-CT-80_CT 0.625mm0_sim.stl..  file /media/fmatzkin/data/franco/Code/datasets/cq500mesh/test/sim_defects/PCA_im2mesh/CQ500-CT-80_CT 0.625mm0_sim_binMesh.nii.gz already exists.\n",
      "Binarizing /media/fmatzkin/data/franco/Code/datasets/cq500mesh/test/sim_defects/PCA_im2mesh/CQ500-CT-138_CT PRE CONTRAST THIN0_sim.stl..  file /media/fmatzkin/data/franco/Code/datasets/cq500mesh/test/sim_defects/PCA_im2mesh/CQ500-CT-138_CT PRE CONTRAST THIN0_sim_binMesh.nii.gz already exists.\n",
      "Binarizing /media/fmatzkin/data/franco/Code/datasets/cq500mesh/test/sim_defects/PCA_im2mesh/CQ500-CT-39_CT PRE CONTRAST THIN0_sim.stl..  file /media/fmatzkin/data/franco/Code/datasets/cq500mesh/test/sim_defects/PCA_im2mesh/CQ500-CT-39_CT PRE CONTRAST THIN0_sim_binMesh.nii.gz already exists.\n",
      "Binarizing /media/fmatzkin/data/franco/Code/datasets/cq500mesh/test/sim_defects/PCA_im2mesh/CQ500-CT-469_CT 0.625mm0_sim.stl..  file /media/fmatzkin/data/franco/Code/datasets/cq500mesh/test/sim_defects/PCA_im2mesh/CQ500-CT-469_CT 0.625mm0_sim_binMesh.nii.gz already exists.\n",
      "Binarizing /media/fmatzkin/data/franco/Code/datasets/cq500mesh/test/sim_defects/PCA_im2mesh/CQ500-CT-102_CT PLAIN THIN0_sim.stl..  file /media/fmatzkin/data/franco/Code/datasets/cq500mesh/test/sim_defects/PCA_im2mesh/CQ500-CT-102_CT PLAIN THIN0_sim_binMesh.nii.gz already exists.\n",
      "Binarizing /media/fmatzkin/data/franco/Code/datasets/cq500mesh/test/sim_defects/PCA_im2mesh/CQ500-CT-122_CT PRE CONTRAST THIN0_sim.stl..  file /media/fmatzkin/data/franco/Code/datasets/cq500mesh/test/sim_defects/PCA_im2mesh/CQ500-CT-122_CT PRE CONTRAST THIN0_sim_binMesh.nii.gz already exists.\n",
      "Binarizing /media/fmatzkin/data/franco/Code/datasets/cq500mesh/test/sim_defects/PCA_im2mesh/CQ500-CT-228_CT 4cc sec 150cc D3D on-20_sim.stl..done.\n",
      "Binarizing /media/fmatzkin/data/franco/Code/datasets/cq500mesh/test/sim_defects/PCA_im2mesh/CQ500-CT-241_CT PLAIN THIN0_sim.stl..done.\n",
      "Binarizing /media/fmatzkin/data/franco/Code/datasets/cq500mesh/test/sim_defects/PCA_im2mesh/CQ500-CT-458_CT Thin Plain0_sim.stl..done.\n",
      "Binarizing /media/fmatzkin/data/franco/Code/datasets/cq500mesh/test/sim_defects/PCA_im2mesh/CQ500-CT-392_CT PLAIN THIN0_sim.stl..done.\n",
      "Binarizing /media/fmatzkin/data/franco/Code/datasets/cq500mesh/test/sim_defects/PCA_im2mesh/CQ500-CT-373_CT Thin Plain0_sim.stl..done.\n",
      "Binarizing /media/fmatzkin/data/franco/Code/datasets/cq500mesh/test/sim_defects/PCA_im2mesh/CQ500-CT-328_CT 0.625mm0_sim.stl..done.\n",
      "Binarizing /media/fmatzkin/data/franco/Code/datasets/cq500mesh/test/sim_defects/PCA_im2mesh/CQ500-CT-262_CT PLAIN THIN0_sim.stl..done.\n",
      "Binarizing /media/fmatzkin/data/franco/Code/datasets/cq500mesh/test/sim_defects/PCA_im2mesh/CQ500-CT-33_CT 4cc sec 150cc D3D on0_sim.stl..done.\n",
      "Binarizing /media/fmatzkin/data/franco/Code/datasets/cq500mesh/test/sim_defects/PCA_im2mesh/CQ500-CT-453_CT PLAIN THIN0_sim.stl..done.\n",
      "Binarizing /media/fmatzkin/data/franco/Code/datasets/cq500mesh/test/sim_defects/PCA_im2mesh/CQ500-CT-105_CT I To S0_sim.stl..done.\n",
      "Binarizing /media/fmatzkin/data/franco/Code/datasets/cq500mesh/test/sim_defects/PCA_im2mesh/CQ500-CT-257_CT 0.625mm0_sim.stl..done.\n",
      "Binarizing /media/fmatzkin/data/franco/Code/datasets/cq500mesh/test/sim_defects/PCA_im2mesh/CQ500-CT-488_CT 0.625mm0_sim.stl..done.\n",
      "Binarizing /media/fmatzkin/data/franco/Code/datasets/cq500mesh/test/sim_defects/PCA_im2mesh/CQ500-CT-195_CT PRE CONTRAST THIN0_sim.stl..done.\n",
      "Binarizing /media/fmatzkin/data/franco/Code/datasets/cq500mesh/test/sim_defects/PCA_im2mesh/CQ500-CT-308_CT PLAIN THIN0_sim.stl..done.\n",
      "Binarizing /media/fmatzkin/data/franco/Code/datasets/cq500mesh/test/sim_defects/PCA_im2mesh/CQ500-CT-444_CT Thin Plain0_sim.stl..done.\n",
      "Binarizing /media/fmatzkin/data/franco/Code/datasets/cq500mesh/test/sim_defects/PCA_im2mesh/CQ500-CT-465_CT Thin Plain0_sim.stl..done.\n",
      "Binarizing /media/fmatzkin/data/franco/Code/datasets/cq500mesh/test/sim_defects/PCA_im2mesh/CQ500-CT-287_CT Thin Plain0_sim.stl..done.\n",
      "Binarizing /media/fmatzkin/data/franco/Code/datasets/cq500mesh/test/sim_defects/PCA_im2mesh/CQ500-CT-12_CT Thin Plain0_sim.stl..done.\n",
      "Binarizing /media/fmatzkin/data/franco/Code/datasets/cq500mesh/test/sim_defects/PCA_im2mesh/CQ500-CT-365_CT Thin Plain0_sim.stl..done.\n",
      "Binarizing /media/fmatzkin/data/franco/Code/datasets/cq500mesh/test/sim_defects/PCA_im2mesh/CQ500-CT-67_CT BONE0_sim.stl..done.\n",
      "Binarizing /media/fmatzkin/data/franco/Code/datasets/cq500mesh/test/sim_defects/PCA_im2mesh/CQ500-CT-103_CT Thin Plain0_sim.stl..done.\n",
      "Binarizing /media/fmatzkin/data/franco/Code/datasets/cq500mesh/test/sim_defects/PCA_im2mesh/CQ500-CT-485_CT PLAIN THIN0_sim.stl..done.\n"
     ]
    }
   ],
   "source": [
    "from headrecbaselines.utils.utils import mesh2vol\n",
    "import os\n",
    "\n",
    "absp = os.path.abspath\n",
    "m_fld = absp('../datasets/cq500mesh/test/sim_defects/PCA_im2mesh/')\n",
    "ref_im = absp('../datasets/cq500mesh/CQ500-CT-0_CT PLAIN THIN.nii.gz')\n",
    "meshes_paths = [os.path.join(m_fld, f)\n",
    "                for f in os.listdir(m_fld) if f.endswith('.stl')]\n",
    "\n",
    "for mesh in meshes_paths:\n",
    "    mesh2vol(mesh, ref_im)"
   ]
  },
  {
   "cell_type": "markdown",
   "metadata": {
    "collapsed": false
   },
   "source": [
    "### Fit results with deformetrica"
   ]
  },
  {
   "cell_type": "code",
   "execution_count": 1,
   "metadata": {
    "collapsed": false
   },
   "outputs": [],
   "source": [
    "import os\n",
    "from headctools.preprocessing import utils\n",
    "\n",
    "preds_folder = os.path.abspath('../datasets/cq500mesh/test/sim_defects/PCA_im2mesh/')\n",
    "vols_folder = os.path.abspath('../datasets/cq500mesh/test/sim_defects/')"
   ]
  },
  {
   "cell_type": "markdown",
   "metadata": {
    "collapsed": false
   },
   "source": [
    "Since deformetrica needs vtk meshes, I convert the volumes to this format."
   ]
  },
  {
   "cell_type": "code",
   "execution_count": 2,
   "metadata": {
    "collapsed": false
   },
   "outputs": [
    {
     "name": "stdout",
     "output_type": "stream",
     "text": [
      "    Saved mesh in /media/fmatzkin/data/franco/Code/datasets/cq500mesh/test/sim_defects/CQ500-CT-392_CT PLAIN THIN0_sim.stl\n",
      "    Saved mesh in /media/fmatzkin/data/franco/Code/datasets/cq500mesh/test/sim_defects/CQ500-CT-49_CT PRE CONTRAST THIN0_sim.stl\n",
      "    Saved mesh in /media/fmatzkin/data/franco/Code/datasets/cq500mesh/test/sim_defects/CQ500-CT-287_CT Thin Plain0_sim.stl\n",
      "    Saved mesh in /media/fmatzkin/data/franco/Code/datasets/cq500mesh/test/sim_defects/CQ500-CT-195_CT PRE CONTRAST THIN0_sim.stl\n",
      "    Saved mesh in /media/fmatzkin/data/franco/Code/datasets/cq500mesh/test/sim_defects/CQ500-CT-373_CT Thin Plain0_sim.stl\n",
      "    Saved mesh in /media/fmatzkin/data/franco/Code/datasets/cq500mesh/test/sim_defects/CQ500-CT-444_CT Thin Plain0_sim.stl\n",
      "    Saved mesh in /media/fmatzkin/data/franco/Code/datasets/cq500mesh/test/sim_defects/CQ500-CT-103_CT Thin Plain0_sim.stl\n",
      "    Saved mesh in /media/fmatzkin/data/franco/Code/datasets/cq500mesh/test/sim_defects/CQ500-CT-384_CT PLAIN THIN0_sim.stl\n",
      "    Saved mesh in /media/fmatzkin/data/franco/Code/datasets/cq500mesh/test/sim_defects/CQ500-CT-241_CT PLAIN THIN0_sim.stl\n",
      "    Saved mesh in /media/fmatzkin/data/franco/Code/datasets/cq500mesh/test/sim_defects/CQ500-CT-67_CT BONE0_sim.stl\n",
      "    Saved mesh in /media/fmatzkin/data/franco/Code/datasets/cq500mesh/test/sim_defects/CQ500-CT-458_CT Thin Plain0_sim.stl\n",
      "    Saved mesh in /media/fmatzkin/data/franco/Code/datasets/cq500mesh/test/sim_defects/CQ500-CT-105_CT I To S0_sim.stl\n",
      "    Saved mesh in /media/fmatzkin/data/franco/Code/datasets/cq500mesh/test/sim_defects/CQ500-CT-308_CT PLAIN THIN0_sim.stl\n",
      "    Saved mesh in /media/fmatzkin/data/franco/Code/datasets/cq500mesh/test/sim_defects/CQ500-CT-469_CT 0.625mm0_sim.stl\n",
      "    Saved mesh in /media/fmatzkin/data/franco/Code/datasets/cq500mesh/test/sim_defects/CQ500-CT-370_CT BONE THIN0_sim.stl\n",
      "    Saved mesh in /media/fmatzkin/data/franco/Code/datasets/cq500mesh/test/sim_defects/CQ500-CT-80_CT 0.625mm0_sim.stl\n",
      "    Saved mesh in /media/fmatzkin/data/franco/Code/datasets/cq500mesh/test/sim_defects/CQ500-CT-39_CT PRE CONTRAST THIN0_sim.stl\n",
      "    Saved mesh in /media/fmatzkin/data/franco/Code/datasets/cq500mesh/test/sim_defects/CQ500-CT-328_CT 0.625mm0_sim.stl\n",
      "    Saved mesh in /media/fmatzkin/data/franco/Code/datasets/cq500mesh/test/sim_defects/CQ500-CT-102_CT PLAIN THIN0_sim.stl\n",
      "    Saved mesh in /media/fmatzkin/data/franco/Code/datasets/cq500mesh/test/sim_defects/CQ500-CT-365_CT Thin Plain0_sim.stl\n",
      "    Saved mesh in /media/fmatzkin/data/franco/Code/datasets/cq500mesh/test/sim_defects/CQ500-CT-138_CT PRE CONTRAST THIN0_sim.stl\n",
      "    Saved mesh in /media/fmatzkin/data/franco/Code/datasets/cq500mesh/test/sim_defects/CQ500-CT-262_CT PLAIN THIN0_sim.stl\n",
      "    Saved mesh in /media/fmatzkin/data/franco/Code/datasets/cq500mesh/test/sim_defects/CQ500-CT-462_CT Thin Plain0_sim.stl\n",
      "    Saved mesh in /media/fmatzkin/data/franco/Code/datasets/cq500mesh/test/sim_defects/CQ500-CT-257_CT 0.625mm0_sim.stl\n",
      "    Saved mesh in /media/fmatzkin/data/franco/Code/datasets/cq500mesh/test/sim_defects/CQ500-CT-465_CT Thin Plain0_sim.stl\n",
      "    Saved mesh in /media/fmatzkin/data/franco/Code/datasets/cq500mesh/test/sim_defects/CQ500-CT-122_CT PRE CONTRAST THIN0_sim.stl\n",
      "    Saved mesh in /media/fmatzkin/data/franco/Code/datasets/cq500mesh/test/sim_defects/CQ500-CT-356_CT PLAIN THIN0_sim.stl\n",
      "    Saved mesh in /media/fmatzkin/data/franco/Code/datasets/cq500mesh/test/sim_defects/CQ500-CT-228_CT 4cc sec 150cc D3D on-20_sim.stl\n",
      "    Saved mesh in /media/fmatzkin/data/franco/Code/datasets/cq500mesh/test/sim_defects/CQ500-CT-292_CT C THIN0_sim.stl\n",
      "    Saved mesh in /media/fmatzkin/data/franco/Code/datasets/cq500mesh/test/sim_defects/CQ500-CT-488_CT 0.625mm0_sim.stl\n",
      "    Saved mesh in /media/fmatzkin/data/franco/Code/datasets/cq500mesh/test/sim_defects/CQ500-CT-453_CT PLAIN THIN0_sim.stl\n",
      "    Saved mesh in /media/fmatzkin/data/franco/Code/datasets/cq500mesh/test/sim_defects/CQ500-CT-12_CT Thin Plain0_sim.stl\n",
      "    Saved mesh in /media/fmatzkin/data/franco/Code/datasets/cq500mesh/test/sim_defects/CQ500-CT-62_CT Thin Plain0_sim.stl\n",
      "    Saved mesh in /media/fmatzkin/data/franco/Code/datasets/cq500mesh/test/sim_defects/CQ500-CT-485_CT PLAIN THIN0_sim.stl\n",
      "    Saved mesh in /media/fmatzkin/data/franco/Code/datasets/cq500mesh/test/sim_defects/CQ500-CT-33_CT 4cc sec 150cc D3D on0_sim.stl\n",
      "    Saved mesh in /media/fmatzkin/data/franco/Code/datasets/cq500mesh/test/sim_defects/CQ500-CT-47_CT PRE CONTRAST THIN0_sim.stl\n"
     ]
    }
   ],
   "source": [
    "utils.nii_to_stl_marching_cubes(vols_folder, vols_folder, False, '_sim.nii.gz')"
   ]
  },
  {
   "cell_type": "code",
   "execution_count": 3,
   "metadata": {
    "collapsed": false
   },
   "outputs": [
    {
     "name": "stdout",
     "output_type": "stream",
     "text": [
      "Decimating meshes...\n",
      "  Input folder: /media/fmatzkin/data/franco/Code/datasets/cq500mesh/test/sim_defects\n",
      "  Found 36 meshes\n",
      "    [1/36] Input mesh: CQ500-CT-47_CT PRE CONTRAST THIN0_sim.stl\n",
      "      Decimated mesh saved in /media/fmatzkin/data/franco/Code/datasets/cq500mesh/test/sim_defects/CQ500-CT-47_CT PRE CONTRAST THIN0_sim_decimated_1perc.stl\n",
      "    [2/36] Input mesh: CQ500-CT-49_CT PRE CONTRAST THIN0_sim.stl\n",
      "      Decimated mesh saved in /media/fmatzkin/data/franco/Code/datasets/cq500mesh/test/sim_defects/CQ500-CT-49_CT PRE CONTRAST THIN0_sim_decimated_1perc.stl\n",
      "    [3/36] Input mesh: CQ500-CT-462_CT Thin Plain0_sim.stl\n",
      "      Decimated mesh saved in /media/fmatzkin/data/franco/Code/datasets/cq500mesh/test/sim_defects/CQ500-CT-462_CT Thin Plain0_sim_decimated_1perc.stl\n",
      "    [4/36] Input mesh: CQ500-CT-356_CT PLAIN THIN0_sim.stl\n",
      "      Decimated mesh saved in /media/fmatzkin/data/franco/Code/datasets/cq500mesh/test/sim_defects/CQ500-CT-356_CT PLAIN THIN0_sim_decimated_1perc.stl\n",
      "    [5/36] Input mesh: CQ500-CT-384_CT PLAIN THIN0_sim.stl\n",
      "      Decimated mesh saved in /media/fmatzkin/data/franco/Code/datasets/cq500mesh/test/sim_defects/CQ500-CT-384_CT PLAIN THIN0_sim_decimated_1perc.stl\n",
      "    [6/36] Input mesh: CQ500-CT-292_CT C THIN0_sim.stl\n",
      "      Decimated mesh saved in /media/fmatzkin/data/franco/Code/datasets/cq500mesh/test/sim_defects/CQ500-CT-292_CT C THIN0_sim_decimated_1perc.stl\n",
      "    [7/36] Input mesh: CQ500-CT-62_CT Thin Plain0_sim.stl\n",
      "      Decimated mesh saved in /media/fmatzkin/data/franco/Code/datasets/cq500mesh/test/sim_defects/CQ500-CT-62_CT Thin Plain0_sim_decimated_1perc.stl\n",
      "    [8/36] Input mesh: CQ500-CT-370_CT BONE THIN0_sim.stl\n",
      "      Decimated mesh saved in /media/fmatzkin/data/franco/Code/datasets/cq500mesh/test/sim_defects/CQ500-CT-370_CT BONE THIN0_sim_decimated_1perc.stl\n",
      "    [9/36] Input mesh: CQ500-CT-80_CT 0.625mm0_sim.stl\n",
      "      Decimated mesh saved in /media/fmatzkin/data/franco/Code/datasets/cq500mesh/test/sim_defects/CQ500-CT-80_CT 0.625mm0_sim_decimated_1perc.stl\n",
      "    [10/36] Input mesh: CQ500-CT-138_CT PRE CONTRAST THIN0_sim.stl\n",
      "      Decimated mesh saved in /media/fmatzkin/data/franco/Code/datasets/cq500mesh/test/sim_defects/CQ500-CT-138_CT PRE CONTRAST THIN0_sim_decimated_1perc.stl\n",
      "    [11/36] Input mesh: CQ500-CT-39_CT PRE CONTRAST THIN0_sim.stl\n",
      "      Decimated mesh saved in /media/fmatzkin/data/franco/Code/datasets/cq500mesh/test/sim_defects/CQ500-CT-39_CT PRE CONTRAST THIN0_sim_decimated_1perc.stl\n",
      "    [12/36] Input mesh: CQ500-CT-469_CT 0.625mm0_sim.stl\n",
      "      Decimated mesh saved in /media/fmatzkin/data/franco/Code/datasets/cq500mesh/test/sim_defects/CQ500-CT-469_CT 0.625mm0_sim_decimated_1perc.stl\n",
      "    [13/36] Input mesh: CQ500-CT-102_CT PLAIN THIN0_sim.stl\n",
      "      Decimated mesh saved in /media/fmatzkin/data/franco/Code/datasets/cq500mesh/test/sim_defects/CQ500-CT-102_CT PLAIN THIN0_sim_decimated_1perc.stl\n",
      "    [14/36] Input mesh: CQ500-CT-122_CT PRE CONTRAST THIN0_sim.stl\n",
      "      Decimated mesh saved in /media/fmatzkin/data/franco/Code/datasets/cq500mesh/test/sim_defects/CQ500-CT-122_CT PRE CONTRAST THIN0_sim_decimated_1perc.stl\n",
      "    [15/36] Input mesh: CQ500-CT-228_CT 4cc sec 150cc D3D on-20_sim.stl\n",
      "      Decimated mesh saved in /media/fmatzkin/data/franco/Code/datasets/cq500mesh/test/sim_defects/CQ500-CT-228_CT 4cc sec 150cc D3D on-20_sim_decimated_1perc.stl\n",
      "    [16/36] Input mesh: CQ500-CT-241_CT PLAIN THIN0_sim.stl\n",
      "      Decimated mesh saved in /media/fmatzkin/data/franco/Code/datasets/cq500mesh/test/sim_defects/CQ500-CT-241_CT PLAIN THIN0_sim_decimated_1perc.stl\n",
      "    [17/36] Input mesh: CQ500-CT-458_CT Thin Plain0_sim.stl\n",
      "      Decimated mesh saved in /media/fmatzkin/data/franco/Code/datasets/cq500mesh/test/sim_defects/CQ500-CT-458_CT Thin Plain0_sim_decimated_1perc.stl\n",
      "    [18/36] Input mesh: CQ500-CT-392_CT PLAIN THIN0_sim.stl\n",
      "      Decimated mesh saved in /media/fmatzkin/data/franco/Code/datasets/cq500mesh/test/sim_defects/CQ500-CT-392_CT PLAIN THIN0_sim_decimated_1perc.stl\n",
      "    [19/36] Input mesh: CQ500-CT-373_CT Thin Plain0_sim.stl\n",
      "      Decimated mesh saved in /media/fmatzkin/data/franco/Code/datasets/cq500mesh/test/sim_defects/CQ500-CT-373_CT Thin Plain0_sim_decimated_1perc.stl\n",
      "    [20/36] Input mesh: CQ500-CT-328_CT 0.625mm0_sim.stl\n",
      "      Decimated mesh saved in /media/fmatzkin/data/franco/Code/datasets/cq500mesh/test/sim_defects/CQ500-CT-328_CT 0.625mm0_sim_decimated_1perc.stl\n",
      "    [21/36] Input mesh: CQ500-CT-262_CT PLAIN THIN0_sim.stl\n",
      "      Decimated mesh saved in /media/fmatzkin/data/franco/Code/datasets/cq500mesh/test/sim_defects/CQ500-CT-262_CT PLAIN THIN0_sim_decimated_1perc.stl\n",
      "    [22/36] Input mesh: CQ500-CT-33_CT 4cc sec 150cc D3D on0_sim.stl\n",
      "      Decimated mesh saved in /media/fmatzkin/data/franco/Code/datasets/cq500mesh/test/sim_defects/CQ500-CT-33_CT 4cc sec 150cc D3D on0_sim_decimated_1perc.stl\n",
      "    [23/36] Input mesh: CQ500-CT-453_CT PLAIN THIN0_sim.stl\n",
      "      Decimated mesh saved in /media/fmatzkin/data/franco/Code/datasets/cq500mesh/test/sim_defects/CQ500-CT-453_CT PLAIN THIN0_sim_decimated_1perc.stl\n",
      "    [24/36] Input mesh: CQ500-CT-105_CT I To S0_sim.stl\n",
      "      Decimated mesh saved in /media/fmatzkin/data/franco/Code/datasets/cq500mesh/test/sim_defects/CQ500-CT-105_CT I To S0_sim_decimated_1perc.stl\n",
      "    [25/36] Input mesh: CQ500-CT-257_CT 0.625mm0_sim.stl\n",
      "      Decimated mesh saved in /media/fmatzkin/data/franco/Code/datasets/cq500mesh/test/sim_defects/CQ500-CT-257_CT 0.625mm0_sim_decimated_1perc.stl\n",
      "    [26/36] Input mesh: CQ500-CT-488_CT 0.625mm0_sim.stl\n",
      "      Decimated mesh saved in /media/fmatzkin/data/franco/Code/datasets/cq500mesh/test/sim_defects/CQ500-CT-488_CT 0.625mm0_sim_decimated_1perc.stl\n",
      "    [27/36] Input mesh: CQ500-CT-195_CT PRE CONTRAST THIN0_sim.stl\n",
      "      Decimated mesh saved in /media/fmatzkin/data/franco/Code/datasets/cq500mesh/test/sim_defects/CQ500-CT-195_CT PRE CONTRAST THIN0_sim_decimated_1perc.stl\n",
      "    [28/36] Input mesh: CQ500-CT-308_CT PLAIN THIN0_sim.stl\n",
      "      Decimated mesh saved in /media/fmatzkin/data/franco/Code/datasets/cq500mesh/test/sim_defects/CQ500-CT-308_CT PLAIN THIN0_sim_decimated_1perc.stl\n",
      "    [29/36] Input mesh: CQ500-CT-444_CT Thin Plain0_sim.stl\n",
      "      Decimated mesh saved in /media/fmatzkin/data/franco/Code/datasets/cq500mesh/test/sim_defects/CQ500-CT-444_CT Thin Plain0_sim_decimated_1perc.stl\n",
      "    [30/36] Input mesh: CQ500-CT-465_CT Thin Plain0_sim.stl\n",
      "      Decimated mesh saved in /media/fmatzkin/data/franco/Code/datasets/cq500mesh/test/sim_defects/CQ500-CT-465_CT Thin Plain0_sim_decimated_1perc.stl\n",
      "    [31/36] Input mesh: CQ500-CT-287_CT Thin Plain0_sim.stl\n",
      "      Decimated mesh saved in /media/fmatzkin/data/franco/Code/datasets/cq500mesh/test/sim_defects/CQ500-CT-287_CT Thin Plain0_sim_decimated_1perc.stl\n",
      "    [32/36] Input mesh: CQ500-CT-12_CT Thin Plain0_sim.stl\n",
      "      Decimated mesh saved in /media/fmatzkin/data/franco/Code/datasets/cq500mesh/test/sim_defects/CQ500-CT-12_CT Thin Plain0_sim_decimated_1perc.stl\n",
      "    [33/36] Input mesh: CQ500-CT-365_CT Thin Plain0_sim.stl\n",
      "      Decimated mesh saved in /media/fmatzkin/data/franco/Code/datasets/cq500mesh/test/sim_defects/CQ500-CT-365_CT Thin Plain0_sim_decimated_1perc.stl\n",
      "    [34/36] Input mesh: CQ500-CT-67_CT BONE0_sim.stl\n",
      "      Decimated mesh saved in /media/fmatzkin/data/franco/Code/datasets/cq500mesh/test/sim_defects/CQ500-CT-67_CT BONE0_sim_decimated_1perc.stl\n",
      "    [35/36] Input mesh: CQ500-CT-103_CT Thin Plain0_sim.stl\n",
      "      Decimated mesh saved in /media/fmatzkin/data/franco/Code/datasets/cq500mesh/test/sim_defects/CQ500-CT-103_CT Thin Plain0_sim_decimated_1perc.stl\n",
      "    [36/36] Input mesh: CQ500-CT-485_CT PLAIN THIN0_sim.stl\n",
      "      Decimated mesh saved in /media/fmatzkin/data/franco/Code/datasets/cq500mesh/test/sim_defects/CQ500-CT-485_CT PLAIN THIN0_sim_decimated_1perc.stl\n"
     ]
    }
   ],
   "source": [
    "from headrecbaselines.utils.utils import decimate_meshes\n",
    "\n",
    "decimate_factor = 0.01\n",
    "decimated_meshes_full = decimate_meshes(vols_folder, decimate_factor, False, ending='_sim.stl')"
   ]
  },
  {
   "cell_type": "code",
   "execution_count": 2,
   "metadata": {
    "collapsed": false
   },
   "outputs": [],
   "source": [
    "meshes = [utils.stl_to_vtk(os.path.join(preds_folder, m))\n",
    "          for m in os.listdir(preds_folder) if m.endswith('.stl')]"
   ]
  },
  {
   "cell_type": "code",
   "execution_count": 3,
   "metadata": {
    "collapsed": false
   },
   "outputs": [
    {
     "name": "stdout",
     "output_type": "stream",
     "text": [
      "Fitting mesh /media/fmatzkin/data/franco/Code/datasets/cq500mesh/test/sim_defects/PCA_im2mesh/CQ500-CT-356_CT PLAIN THIN0_sim.vtk to volume /media/fmatzkin/data/franco/Code/datasets/cq500mesh/test/sim_defects/CQ500-CT-356_CT PLAIN THIN0_sim_decimated_1perc.vtk\n",
      "Output path: /media/fmatzkin/data/franco/Code/datasets/cq500mesh/test/sim_defects/PCA_im2mesh/reg_CQ500-CT-356_CT PLAIN THIN0_sim_decimated_1perc\n",
      "Logger has been set to: INFO\n",
      ">> No initial CP spacing given: using diffeo kernel width of 200.0\n",
      "OMP_NUM_THREADS found in environment variables. Using value OMP_NUM_THREADS=4\n",
      "context has already been set\n",
      ">> No specified state-file. By default, Deformetrica state will by saved in file: /media/fmatzkin/data/franco/Code/datasets/cq500mesh/test/sim_defects/PCA_im2mesh/reg_CQ500-CT-356_CT PLAIN THIN0_sim_decimated_1perc/deformetrica-state.p.\n",
      ">> Set of 1 control points defined.\n",
      ">> Momenta initialized to zero, for 1 subjects.\n",
      ">> Started estimator: GradientAscent\n",
      "------------------------------------- Iteration: 0 -------------------------------------\n",
      ">> Log-likelihood = -5.302E+04 \t [ attachment = -5.302E+04 ; regularity = 0.000E+00 ]\n",
      ">> Step size and gradient norm: \n",
      "\t\t1.710E-03   and   5.849E+02 \t[ momenta ]\n",
      "------------------------------------- Iteration: 1 -------------------------------------\n",
      ">> Log-likelihood = -5.276E+04 \t [ attachment = -5.276E+04 ; regularity = -1.000E+00 ]\n",
      ">> Step size and gradient norm: \n",
      "\t\t2.565E-03   and   1.720E+02 \t[ momenta ]\n",
      ">> Step size and gradient norm: \n",
      "\t\t1.282E-03   and   1.720E+02 \t[ momenta ]\n",
      "------------------------------------- Iteration: 2 -------------------------------------\n",
      ">> Log-likelihood = -5.275E+04 \t [ attachment = -5.274E+04 ; regularity = -8.952E-01 ]\n",
      ">> Step size and gradient norm: \n",
      "\t\t1.923E-03   and   7.344E+01 \t[ momenta ]\n",
      ">> Step size and gradient norm: \n",
      "\t\t9.617E-04   and   7.344E+01 \t[ momenta ]\n",
      "------------------------------------- Iteration: 3 -------------------------------------\n",
      ">> Log-likelihood = -5.274E+04 \t [ attachment = -5.274E+04 ; regularity = -9.135E-01 ]\n",
      ">> Step size and gradient norm: \n",
      "\t\t1.443E-03   and   6.016E+00 \t[ momenta ]\n",
      "Tolerance threshold met. Stopping the optimization process.\n",
      ">> Estimation took: 36 seconds\n",
      "Fitting mesh /media/fmatzkin/data/franco/Code/datasets/cq500mesh/test/sim_defects/PCA_im2mesh/CQ500-CT-444_CT Thin Plain0_sim.vtk to volume /media/fmatzkin/data/franco/Code/datasets/cq500mesh/test/sim_defects/CQ500-CT-444_CT Thin Plain0_sim_decimated_1perc.vtk\n",
      "Output path: /media/fmatzkin/data/franco/Code/datasets/cq500mesh/test/sim_defects/PCA_im2mesh/reg_CQ500-CT-444_CT Thin Plain0_sim_decimated_1perc\n",
      "Logger has been set to: INFO\n",
      ">> No initial CP spacing given: using diffeo kernel width of 200.0\n",
      "OMP_NUM_THREADS was not found in environment variables. An automatic value will be set.\n",
      "OMP_NUM_THREADS will be set to 4\n",
      "context has already been set\n",
      ">> No specified state-file. By default, Deformetrica state will by saved in file: /media/fmatzkin/data/franco/Code/datasets/cq500mesh/test/sim_defects/PCA_im2mesh/reg_CQ500-CT-444_CT Thin Plain0_sim_decimated_1perc/deformetrica-state.p.\n",
      ">> Set of 1 control points defined.\n",
      ">> Momenta initialized to zero, for 1 subjects.\n",
      ">> Started estimator: GradientAscent\n",
      "------------------------------------- Iteration: 0 -------------------------------------\n",
      ">> Log-likelihood = -5.345E+04 \t [ attachment = -5.345E+04 ; regularity = 0.000E+00 ]\n",
      ">> Step size and gradient norm: \n",
      "\t\t1.187E-03   and   8.422E+02 \t[ momenta ]\n",
      "------------------------------------- Iteration: 1 -------------------------------------\n",
      ">> Log-likelihood = -5.316E+04 \t [ attachment = -5.316E+04 ; regularity = -1.000E+00 ]\n",
      ">> Step size and gradient norm: \n",
      "\t\t1.781E-03   and   2.692E+02 \t[ momenta ]\n",
      "------------------------------------- Iteration: 2 -------------------------------------\n",
      ">> Log-likelihood = -5.315E+04 \t [ attachment = -5.315E+04 ; regularity = -3.457E-01 ]\n",
      ">> Step size and gradient norm: \n",
      "\t\t2.672E-03   and   2.647E+02 \t[ momenta ]\n",
      ">> Step size and gradient norm: \n",
      "\t\t1.336E-03   and   2.647E+02 \t[ momenta ]\n",
      "------------------------------------- Iteration: 3 -------------------------------------\n",
      ">> Log-likelihood = -5.313E+04 \t [ attachment = -5.313E+04 ; regularity = -8.112E-01 ]\n",
      ">> Step size and gradient norm: \n",
      "\t\t2.004E-03   and   1.311E+02 \t[ momenta ]\n",
      ">> Step size and gradient norm: \n",
      "\t\t1.002E-03   and   1.311E+02 \t[ momenta ]\n",
      "------------------------------------- Iteration: 4 -------------------------------------\n",
      ">> Log-likelihood = -5.312E+04 \t [ attachment = -5.312E+04 ; regularity = -6.064E-01 ]\n",
      ">> Step size and gradient norm: \n",
      "\t\t1.503E-03   and   1.622E+01 \t[ momenta ]\n",
      "------------------------------------- Iteration: 5 -------------------------------------\n",
      ">> Log-likelihood = -5.312E+04 \t [ attachment = -5.312E+04 ; regularity = -6.407E-01 ]\n",
      ">> Step size and gradient norm: \n",
      "\t\t2.254E-03   and   1.124E+01 \t[ momenta ]\n",
      ">> Step size and gradient norm: \n",
      "\t\t1.127E-03   and   1.124E+01 \t[ momenta ]\n",
      "------------------------------------- Iteration: 6 -------------------------------------\n",
      ">> Log-likelihood = -5.312E+04 \t [ attachment = -5.312E+04 ; regularity = -6.229E-01 ]\n",
      ">> Step size and gradient norm: \n",
      "\t\t1.691E-03   and   3.071E+00 \t[ momenta ]\n",
      ">> Step size and gradient norm: \n",
      "\t\t8.453E-04   and   3.071E+00 \t[ momenta ]\n",
      ">> Step size and gradient norm: \n",
      "\t\t4.226E-04   and   3.071E+00 \t[ momenta ]\n",
      ">> Step size and gradient norm: \n",
      "\t\t2.113E-04   and   3.071E+00 \t[ momenta ]\n",
      ">> Step size and gradient norm: \n",
      "\t\t1.057E-04   and   3.071E+00 \t[ momenta ]\n",
      ">> Step size and gradient norm: \n",
      "\t\t5.283E-05   and   3.071E+00 \t[ momenta ]\n",
      ">> Step size and gradient norm: \n",
      "\t\t2.641E-05   and   3.071E+00 \t[ momenta ]\n",
      ">> Step size and gradient norm: \n",
      "\t\t1.321E-05   and   3.071E+00 \t[ momenta ]\n",
      ">> Step size and gradient norm: \n",
      "\t\t6.604E-06   and   3.071E+00 \t[ momenta ]\n",
      ">> Step size and gradient norm: \n",
      "\t\t3.302E-06   and   3.071E+00 \t[ momenta ]\n",
      "Number of line search loops exceeded. Stopping.\n",
      ">> Estimation took: 01 minutes and 20 seconds\n",
      "Fitting mesh /media/fmatzkin/data/franco/Code/datasets/cq500mesh/test/sim_defects/PCA_im2mesh/CQ500-CT-62_CT Thin Plain0_sim.vtk to volume /media/fmatzkin/data/franco/Code/datasets/cq500mesh/test/sim_defects/CQ500-CT-62_CT Thin Plain0_sim_decimated_1perc.vtk\n",
      "Output path: /media/fmatzkin/data/franco/Code/datasets/cq500mesh/test/sim_defects/PCA_im2mesh/reg_CQ500-CT-62_CT Thin Plain0_sim_decimated_1perc\n",
      "Logger has been set to: INFO\n",
      ">> No initial CP spacing given: using diffeo kernel width of 200.0\n",
      "OMP_NUM_THREADS was not found in environment variables. An automatic value will be set.\n",
      "OMP_NUM_THREADS will be set to 4\n",
      "context has already been set\n",
      ">> No specified state-file. By default, Deformetrica state will by saved in file: /media/fmatzkin/data/franco/Code/datasets/cq500mesh/test/sim_defects/PCA_im2mesh/reg_CQ500-CT-62_CT Thin Plain0_sim_decimated_1perc/deformetrica-state.p.\n",
      ">> Set of 1 control points defined.\n",
      ">> Momenta initialized to zero, for 1 subjects.\n",
      ">> Started estimator: GradientAscent\n",
      "------------------------------------- Iteration: 0 -------------------------------------\n",
      ">> Log-likelihood = -2.719E+04 \t [ attachment = -2.719E+04 ; regularity = 0.000E+00 ]\n",
      ">> Step size and gradient norm: \n",
      "\t\t1.912E-03   and   5.229E+02 \t[ momenta ]\n",
      "------------------------------------- Iteration: 1 -------------------------------------\n",
      ">> Log-likelihood = -2.711E+04 \t [ attachment = -2.711E+04 ; regularity = -1.000E+00 ]\n",
      ">> Step size and gradient norm: \n",
      "\t\t2.868E-03   and   3.747E+02 \t[ momenta ]\n",
      ">> Step size and gradient norm: \n",
      "\t\t1.434E-03   and   3.747E+02 \t[ momenta ]\n",
      "------------------------------------- Iteration: 2 -------------------------------------\n",
      ">> Log-likelihood = -2.704E+04 \t [ attachment = -2.704E+04 ; regularity = -2.178E-01 ]\n",
      ">> Step size and gradient norm: \n",
      "\t\t2.151E-03   and   1.097E+02 \t[ momenta ]\n",
      "------------------------------------- Iteration: 3 -------------------------------------\n",
      ">> Log-likelihood = -2.704E+04 \t [ attachment = -2.704E+04 ; regularity = -4.852E-01 ]\n",
      ">> Step size and gradient norm: \n",
      "\t\t3.227E-03   and   1.037E+02 \t[ momenta ]\n",
      ">> Step size and gradient norm: \n",
      "\t\t1.613E-03   and   1.037E+02 \t[ momenta ]\n",
      "------------------------------------- Iteration: 4 -------------------------------------\n",
      ">> Log-likelihood = -2.704E+04 \t [ attachment = -2.704E+04 ; regularity = -2.851E-01 ]\n",
      ">> Step size and gradient norm: \n",
      "\t\t2.420E-03   and   4.776E+01 \t[ momenta ]\n",
      ">> Step size and gradient norm: \n",
      "\t\t1.210E-03   and   4.776E+01 \t[ momenta ]\n",
      "------------------------------------- Iteration: 5 -------------------------------------\n",
      ">> Log-likelihood = -2.704E+04 \t [ attachment = -2.704E+04 ; regularity = -3.473E-01 ]\n",
      ">> Step size and gradient norm: \n",
      "\t\t1.815E-03   and   4.670E+00 \t[ momenta ]\n",
      "------------------------------------- Iteration: 6 -------------------------------------\n",
      ">> Log-likelihood = -2.704E+04 \t [ attachment = -2.704E+04 ; regularity = -3.382E-01 ]\n",
      ">> Step size and gradient norm: \n",
      "\t\t2.723E-03   and   3.046E+00 \t[ momenta ]\n",
      ">> Step size and gradient norm: \n",
      "\t\t1.361E-03   and   3.046E+00 \t[ momenta ]\n",
      ">> Step size and gradient norm: \n",
      "\t\t6.807E-04   and   3.046E+00 \t[ momenta ]\n",
      "------------------------------------- Iteration: 7 -------------------------------------\n",
      ">> Log-likelihood = -2.704E+04 \t [ attachment = -2.704E+04 ; regularity = -3.404E-01 ]\n",
      ">> Step size and gradient norm: \n",
      "\t\t1.021E-03   and   1.159E+00 \t[ momenta ]\n",
      ">> Step size and gradient norm: \n",
      "\t\t5.105E-04   and   1.159E+00 \t[ momenta ]\n",
      ">> Step size and gradient norm: \n",
      "\t\t2.553E-04   and   1.159E+00 \t[ momenta ]\n",
      ">> Step size and gradient norm: \n",
      "\t\t1.276E-04   and   1.159E+00 \t[ momenta ]\n",
      ">> Step size and gradient norm: \n",
      "\t\t6.382E-05   and   1.159E+00 \t[ momenta ]\n",
      ">> Step size and gradient norm: \n",
      "\t\t3.191E-05   and   1.159E+00 \t[ momenta ]\n",
      "------------------------------------- Iteration: 8 -------------------------------------\n",
      ">> Log-likelihood = -2.704E+04 \t [ attachment = -2.704E+04 ; regularity = -3.404E-01 ]\n",
      ">> Step size and gradient norm: \n",
      "\t\t4.786E-05   and   1.125E+00 \t[ momenta ]\n",
      ">> Step size and gradient norm: \n",
      "\t\t2.393E-05   and   1.125E+00 \t[ momenta ]\n",
      ">> Step size and gradient norm: \n",
      "\t\t1.197E-05   and   1.125E+00 \t[ momenta ]\n",
      ">> Step size and gradient norm: \n",
      "\t\t5.983E-06   and   1.125E+00 \t[ momenta ]\n",
      ">> Step size and gradient norm: \n",
      "\t\t2.991E-06   and   1.125E+00 \t[ momenta ]\n",
      ">> Step size and gradient norm: \n",
      "\t\t1.496E-06   and   1.125E+00 \t[ momenta ]\n",
      ">> Step size and gradient norm: \n",
      "\t\t7.478E-07   and   1.125E+00 \t[ momenta ]\n",
      ">> Step size and gradient norm: \n",
      "\t\t3.739E-07   and   1.125E+00 \t[ momenta ]\n",
      ">> Step size and gradient norm: \n",
      "\t\t1.870E-07   and   1.125E+00 \t[ momenta ]\n",
      ">> Step size and gradient norm: \n",
      "\t\t9.348E-08   and   1.125E+00 \t[ momenta ]\n",
      "Number of line search loops exceeded. Stopping.\n",
      ">> Estimation took: 01 minutes and 58 seconds\n",
      "Fitting mesh /media/fmatzkin/data/franco/Code/datasets/cq500mesh/test/sim_defects/PCA_im2mesh/CQ500-CT-287_CT Thin Plain0_sim.vtk to volume /media/fmatzkin/data/franco/Code/datasets/cq500mesh/test/sim_defects/CQ500-CT-287_CT Thin Plain0_sim_decimated_1perc.vtk\n",
      "Output path: /media/fmatzkin/data/franco/Code/datasets/cq500mesh/test/sim_defects/PCA_im2mesh/reg_CQ500-CT-287_CT Thin Plain0_sim_decimated_1perc\n",
      "Logger has been set to: INFO\n",
      ">> No initial CP spacing given: using diffeo kernel width of 200.0\n",
      "OMP_NUM_THREADS was not found in environment variables. An automatic value will be set.\n",
      "OMP_NUM_THREADS will be set to 4\n",
      "context has already been set\n",
      ">> No specified state-file. By default, Deformetrica state will by saved in file: /media/fmatzkin/data/franco/Code/datasets/cq500mesh/test/sim_defects/PCA_im2mesh/reg_CQ500-CT-287_CT Thin Plain0_sim_decimated_1perc/deformetrica-state.p.\n",
      ">> Set of 1 control points defined.\n",
      ">> Momenta initialized to zero, for 1 subjects.\n",
      ">> Started estimator: GradientAscent\n",
      "------------------------------------- Iteration: 0 -------------------------------------\n",
      ">> Log-likelihood = -5.867E+04 \t [ attachment = -5.867E+04 ; regularity = 0.000E+00 ]\n",
      ">> Step size and gradient norm: \n",
      "\t\t2.892E-03   and   3.458E+02 \t[ momenta ]\n",
      ">> Step size and gradient norm: \n",
      "\t\t1.446E-03   and   3.458E+02 \t[ momenta ]\n",
      "------------------------------------- Iteration: 1 -------------------------------------\n",
      ">> Log-likelihood = -5.859E+04 \t [ attachment = -5.859E+04 ; regularity = -2.500E-01 ]\n",
      ">> Step size and gradient norm: \n",
      "\t\t2.169E-03   and   7.587E+01 \t[ momenta ]\n",
      ">> Step size and gradient norm: \n",
      "\t\t1.084E-03   and   7.587E+01 \t[ momenta ]\n",
      "------------------------------------- Iteration: 2 -------------------------------------\n",
      ">> Log-likelihood = -5.858E+04 \t [ attachment = -5.858E+04 ; regularity = -2.297E-01 ]\n",
      ">> Step size and gradient norm: \n",
      "\t\t1.627E-03   and   8.302E+00 \t[ momenta ]\n",
      ">> Step size and gradient norm: \n",
      "\t\t8.134E-04   and   8.302E+00 \t[ momenta ]\n",
      ">> Step size and gradient norm: \n",
      "\t\t4.067E-04   and   8.302E+00 \t[ momenta ]\n",
      "------------------------------------- Iteration: 3 -------------------------------------\n",
      ">> Log-likelihood = -5.858E+04 \t [ attachment = -5.858E+04 ; regularity = -2.318E-01 ]\n",
      ">> Step size and gradient norm: \n",
      "\t\t6.100E-04   and   5.034E+00 \t[ momenta ]\n",
      "------------------------------------- Iteration: 4 -------------------------------------\n",
      ">> Log-likelihood = -5.858E+04 \t [ attachment = -5.858E+04 ; regularity = -2.338E-01 ]\n",
      ">> Step size and gradient norm: \n",
      "\t\t9.150E-04   and   2.153E+00 \t[ momenta ]\n",
      ">> Step size and gradient norm: \n",
      "\t\t4.575E-04   and   2.153E+00 \t[ momenta ]\n",
      ">> Step size and gradient norm: \n",
      "\t\t2.288E-04   and   2.153E+00 \t[ momenta ]\n",
      ">> Step size and gradient norm: \n",
      "\t\t1.144E-04   and   2.153E+00 \t[ momenta ]\n",
      ">> Step size and gradient norm: \n",
      "\t\t5.719E-05   and   2.153E+00 \t[ momenta ]\n",
      ">> Step size and gradient norm: \n",
      "\t\t2.859E-05   and   2.153E+00 \t[ momenta ]\n",
      ">> Step size and gradient norm: \n",
      "\t\t1.430E-05   and   2.153E+00 \t[ momenta ]\n",
      ">> Step size and gradient norm: \n",
      "\t\t7.149E-06   and   2.153E+00 \t[ momenta ]\n",
      ">> Step size and gradient norm: \n",
      "\t\t3.574E-06   and   2.153E+00 \t[ momenta ]\n",
      ">> Step size and gradient norm: \n",
      "\t\t1.787E-06   and   2.153E+00 \t[ momenta ]\n",
      "Number of line search loops exceeded. Stopping.\n"
     ]
    },
    {
     "ename": "KeyboardInterrupt",
     "evalue": "",
     "output_type": "error",
     "traceback": [
      "\u001b[0;31m---------------------------------------------------------------------------\u001b[0m",
      "\u001b[0;31mKeyboardInterrupt\u001b[0m                         Traceback (most recent call last)",
      "Input \u001b[0;32mIn [3]\u001b[0m, in \u001b[0;36m<cell line: 3>\u001b[0;34m()\u001b[0m\n\u001b[1;32m      1\u001b[0m \u001b[38;5;28;01mfrom\u001b[39;00m \u001b[38;5;21;01mheadrecbaselines\u001b[39;00m\u001b[38;5;21;01m.\u001b[39;00m\u001b[38;5;21;01mutils\u001b[39;00m\u001b[38;5;21;01m.\u001b[39;00m\u001b[38;5;21;01minferencereg\u001b[39;00m \u001b[38;5;28;01mimport\u001b[39;00m fit_meshes_to_vol\n\u001b[0;32m----> 3\u001b[0m \u001b[43mfit_meshes_to_vol\u001b[49m\u001b[43m(\u001b[49m\u001b[43mpreds_folder\u001b[49m\u001b[43m,\u001b[49m\u001b[43m \u001b[49m\u001b[43mvols_folder\u001b[49m\u001b[43m,\u001b[49m\u001b[43m \u001b[49m\u001b[38;5;124;43m'\u001b[39;49m\u001b[38;5;124;43m_sim.vtk\u001b[39;49m\u001b[38;5;124;43m'\u001b[39;49m\u001b[43m,\u001b[49m\u001b[43m \u001b[49m\u001b[38;5;124;43m'\u001b[39;49m\u001b[38;5;124;43m_sim_decimated_1perc.vtk\u001b[39;49m\u001b[38;5;124;43m'\u001b[39;49m\u001b[43m)\u001b[49m\n",
      "File \u001b[0;32m/media/fmatzkin/data/franco/Code/head-rec-baselines/headrecbaselines/utils/inferencereg.py:37\u001b[0m, in \u001b[0;36mfit_meshes_to_vol\u001b[0;34m(preds_folder, vols_folder, pred_suffix, vol_suffix, overwrite)\u001b[0m\n\u001b[1;32m     35\u001b[0m         \u001b[38;5;28;01mcontinue\u001b[39;00m\n\u001b[1;32m     36\u001b[0m     \u001b[38;5;28mprint\u001b[39m(\u001b[38;5;124mf\u001b[39m\u001b[38;5;124m'\u001b[39m\u001b[38;5;124mFitting mesh \u001b[39m\u001b[38;5;132;01m{\u001b[39;00mpred_path\u001b[38;5;132;01m}\u001b[39;00m\u001b[38;5;124m to volume \u001b[39m\u001b[38;5;132;01m{\u001b[39;00mvol_path\u001b[38;5;132;01m}\u001b[39;00m\u001b[38;5;124m'\u001b[39m)\n\u001b[0;32m---> 37\u001b[0m     fitted \u001b[38;5;241m=\u001b[39m \u001b[43mfit_mesh_to_vol\u001b[49m\u001b[43m(\u001b[49m\u001b[43mpred_path\u001b[49m\u001b[43m,\u001b[49m\u001b[43m \u001b[49m\u001b[43mvol_path\u001b[49m\u001b[43m,\u001b[49m\u001b[43m \u001b[49m\u001b[43moverwrite\u001b[49m\u001b[43m)\u001b[49m\n\u001b[1;32m     38\u001b[0m     fitted_mshs_folders\u001b[38;5;241m.\u001b[39mappend(fitted)\n\u001b[1;32m     40\u001b[0m \u001b[38;5;28;01mreturn\u001b[39;00m fitted_mshs_folders\n",
      "File \u001b[0;32m/media/fmatzkin/data/franco/Code/head-rec-baselines/headrecbaselines/utils/inferencereg.py:55\u001b[0m, in \u001b[0;36mfit_mesh_to_vol\u001b[0;34m(pred_path, vol_path, owrt)\u001b[0m\n\u001b[1;32m     53\u001b[0m vol_fname_noext \u001b[38;5;241m=\u001b[39m os\u001b[38;5;241m.\u001b[39mpath\u001b[38;5;241m.\u001b[39msplitext(os\u001b[38;5;241m.\u001b[39mpath\u001b[38;5;241m.\u001b[39msplit(vol_path)[\u001b[38;5;241m1\u001b[39m])[\u001b[38;5;241m0\u001b[39m]\n\u001b[1;32m     54\u001b[0m out_path \u001b[38;5;241m=\u001b[39m os\u001b[38;5;241m.\u001b[39mpath\u001b[38;5;241m.\u001b[39mjoin(pred_folder, \u001b[38;5;124m'\u001b[39m\u001b[38;5;124mreg_\u001b[39m\u001b[38;5;124m'\u001b[39m \u001b[38;5;241m+\u001b[39m vol_fname_noext)\n\u001b[0;32m---> 55\u001b[0m \u001b[43mestimate_registration\u001b[49m\u001b[43m(\u001b[49m\u001b[43mpred_path\u001b[49m\u001b[43m,\u001b[49m\u001b[43m \u001b[49m\u001b[43m[\u001b[49m\u001b[43mvol_path\u001b[49m\u001b[43m]\u001b[49m\u001b[43m,\u001b[49m\u001b[43m \u001b[49m\u001b[43mout_path\u001b[49m\u001b[43m,\u001b[49m\u001b[43m \u001b[49m\u001b[43moverwrite\u001b[49m\u001b[38;5;241;43m=\u001b[39;49m\u001b[43mowrt\u001b[49m\u001b[43m)\u001b[49m\n\u001b[1;32m     56\u001b[0m \u001b[38;5;28;01mreturn\u001b[39;00m out_path\n",
      "File \u001b[0;32m/media/fmatzkin/data/franco/Code/head-rec-baselines/headrecbaselines/utils/deformetrica.py:29\u001b[0m, in \u001b[0;36mestimate_registration\u001b[0;34m(template_path, dataset_paths, output_path, template_specifications, dataset_specifications, model_options, estimator_options, verbosity, overwrite)\u001b[0m\n\u001b[1;32m     12\u001b[0m \u001b[38;5;28;01mdef\u001b[39;00m \u001b[38;5;21mestimate_registration\u001b[39m(template_path, dataset_paths, output_path\u001b[38;5;241m=\u001b[39m\u001b[38;5;28;01mNone\u001b[39;00m,\n\u001b[1;32m     13\u001b[0m                           template_specifications\u001b[38;5;241m=\u001b[39m\u001b[38;5;28;01mNone\u001b[39;00m,\n\u001b[1;32m     14\u001b[0m                           dataset_specifications\u001b[38;5;241m=\u001b[39m\u001b[38;5;28;01mNone\u001b[39;00m, model_options\u001b[38;5;241m=\u001b[39m\u001b[38;5;28;01mNone\u001b[39;00m,\n\u001b[1;32m     15\u001b[0m                           estimator_options\u001b[38;5;241m=\u001b[39m\u001b[38;5;28;01mNone\u001b[39;00m, verbosity\u001b[38;5;241m=\u001b[39m\u001b[38;5;124m'\u001b[39m\u001b[38;5;124mINFO\u001b[39m\u001b[38;5;124m'\u001b[39m,\n\u001b[1;32m     16\u001b[0m                           overwrite\u001b[38;5;241m=\u001b[39m\u001b[38;5;28;01mTrue\u001b[39;00m):\n\u001b[1;32m     17\u001b[0m     \u001b[38;5;124;03m\"\"\" Estimate a registration model from a template and a dataset.\u001b[39;00m\n\u001b[1;32m     18\u001b[0m \n\u001b[1;32m     19\u001b[0m \u001b[38;5;124;03m    :param template_path: path to the template file\u001b[39;00m\n\u001b[0;32m   (...)\u001b[0m\n\u001b[1;32m     27\u001b[0m \u001b[38;5;124;03m    :param overwrite: boolean to overwrite existing files\u001b[39;00m\n\u001b[1;32m     28\u001b[0m \u001b[38;5;124;03m    \"\"\"\u001b[39;00m\n\u001b[0;32m---> 29\u001b[0m     \u001b[43mdeform_atlas_reg\u001b[49m\u001b[43m(\u001b[49m\u001b[43mtemplate_path\u001b[49m\u001b[43m,\u001b[49m\u001b[43m \u001b[49m\u001b[43mdataset_paths\u001b[49m\u001b[43m,\u001b[49m\u001b[43m \u001b[49m\u001b[43moutput_path\u001b[49m\u001b[43m,\u001b[49m\n\u001b[1;32m     30\u001b[0m \u001b[43m                     \u001b[49m\u001b[43mtemplate_specifications\u001b[49m\u001b[43m,\u001b[49m\u001b[43m \u001b[49m\u001b[43mdataset_specifications\u001b[49m\u001b[43m,\u001b[49m\n\u001b[1;32m     31\u001b[0m \u001b[43m                     \u001b[49m\u001b[43mmodel_options\u001b[49m\u001b[43m,\u001b[49m\u001b[43m \u001b[49m\u001b[43mestimator_options\u001b[49m\u001b[43m,\u001b[49m\u001b[43m \u001b[49m\u001b[43mverbosity\u001b[49m\u001b[43m,\u001b[49m\u001b[43m \u001b[49m\u001b[38;5;28;43;01mFalse\u001b[39;49;00m\u001b[43m,\u001b[49m\n\u001b[1;32m     32\u001b[0m \u001b[43m                     \u001b[49m\u001b[43moverwrite\u001b[49m\u001b[43m)\u001b[49m\n",
      "File \u001b[0;32m/media/fmatzkin/data/franco/Code/head-rec-baselines/headrecbaselines/utils/deformetrica.py:136\u001b[0m, in \u001b[0;36mdeform_atlas_reg\u001b[0;34m(template_path, dataset_paths, output_path, template_specifications, dataset_specifications, model_options, estimator_options, verbosity, atlas_creation, overwrite)\u001b[0m\n\u001b[1;32m    131\u001b[0m     model \u001b[38;5;241m=\u001b[39m deformetrica\u001b[38;5;241m.\u001b[39mestimate_deterministic_atlas(\n\u001b[1;32m    132\u001b[0m         tmpl, dtset, mopt, eopt\n\u001b[1;32m    133\u001b[0m     )\n\u001b[1;32m    134\u001b[0m \u001b[38;5;28;01melse\u001b[39;00m:\n\u001b[1;32m    135\u001b[0m     \u001b[38;5;66;03m# perform a registration estimation\u001b[39;00m\n\u001b[0;32m--> 136\u001b[0m     model \u001b[38;5;241m=\u001b[39m \u001b[43mdeformetrica\u001b[49m\u001b[38;5;241;43m.\u001b[39;49m\u001b[43mestimate_registration\u001b[49m\u001b[43m(\u001b[49m\u001b[43mtmpl\u001b[49m\u001b[43m,\u001b[49m\u001b[43m \u001b[49m\u001b[43mdtset\u001b[49m\u001b[43m,\u001b[49m\u001b[43m \u001b[49m\u001b[43mmopt\u001b[49m\u001b[43m,\u001b[49m\u001b[43m \u001b[49m\u001b[43meopt\u001b[49m\u001b[43m)\u001b[49m\n\u001b[1;32m    138\u001b[0m \u001b[38;5;28;01mreturn\u001b[39;00m model\n",
      "File \u001b[0;32m~/Code/envs/anaconda3/envs/msr/lib/python3.8/site-packages/deformetrica/api/deformetrica.py:147\u001b[0m, in \u001b[0;36mDeformetrica.estimate_registration\u001b[0;34m(self, template_specifications, dataset_specifications, model_options, estimator_options, write_output)\u001b[0m\n\u001b[1;32m    143\u001b[0m estimator \u001b[38;5;241m=\u001b[39m \u001b[38;5;28mself\u001b[39m\u001b[38;5;241m.\u001b[39m__instantiate_estimator(statistical_model, dataset, estimator_options, default\u001b[38;5;241m=\u001b[39mScipyOptimize)\n\u001b[1;32m    145\u001b[0m \u001b[38;5;28;01mtry\u001b[39;00m:\n\u001b[1;32m    146\u001b[0m     \u001b[38;5;66;03m# Launch.\u001b[39;00m\n\u001b[0;32m--> 147\u001b[0m     \u001b[38;5;28;43mself\u001b[39;49m\u001b[38;5;241;43m.\u001b[39;49m\u001b[43m__launch_estimator\u001b[49m\u001b[43m(\u001b[49m\u001b[43mestimator\u001b[49m\u001b[43m,\u001b[49m\u001b[43m \u001b[49m\u001b[43mwrite_output\u001b[49m\u001b[43m)\u001b[49m\n\u001b[1;32m    148\u001b[0m \u001b[38;5;28;01mfinally\u001b[39;00m:\n\u001b[1;32m    149\u001b[0m     statistical_model\u001b[38;5;241m.\u001b[39mcleanup()\n",
      "File \u001b[0;32m~/Code/envs/anaconda3/envs/msr/lib/python3.8/site-packages/deformetrica/api/deformetrica.py:510\u001b[0m, in \u001b[0;36mDeformetrica.__launch_estimator\u001b[0;34m(estimator, write_output)\u001b[0m\n\u001b[1;32m    507\u001b[0m end_time \u001b[38;5;241m=\u001b[39m time\u001b[38;5;241m.\u001b[39mtime()\n\u001b[1;32m    509\u001b[0m \u001b[38;5;28;01mif\u001b[39;00m write_output:\n\u001b[0;32m--> 510\u001b[0m     \u001b[43mestimator\u001b[49m\u001b[38;5;241;43m.\u001b[39;49m\u001b[43mwrite\u001b[49m\u001b[43m(\u001b[49m\u001b[43m)\u001b[49m\n\u001b[1;32m    512\u001b[0m \u001b[38;5;28;01mif\u001b[39;00m end_time \u001b[38;5;241m-\u001b[39m start_time \u001b[38;5;241m>\u001b[39m \u001b[38;5;241m60\u001b[39m \u001b[38;5;241m*\u001b[39m \u001b[38;5;241m60\u001b[39m \u001b[38;5;241m*\u001b[39m \u001b[38;5;241m24\u001b[39m:\n\u001b[1;32m    513\u001b[0m     logger\u001b[38;5;241m.\u001b[39minfo(\u001b[38;5;124m'\u001b[39m\u001b[38;5;124m>> Estimation took: \u001b[39m\u001b[38;5;132;01m%s\u001b[39;00m\u001b[38;5;124m'\u001b[39m \u001b[38;5;241m%\u001b[39m\n\u001b[1;32m    514\u001b[0m                 time\u001b[38;5;241m.\u001b[39mstrftime(\u001b[38;5;124m\"\u001b[39m\u001b[38;5;132;01m%d\u001b[39;00m\u001b[38;5;124m days, \u001b[39m\u001b[38;5;124m%\u001b[39m\u001b[38;5;124mH hours, \u001b[39m\u001b[38;5;124m%\u001b[39m\u001b[38;5;124mM minutes and \u001b[39m\u001b[38;5;124m%\u001b[39m\u001b[38;5;124mS seconds\u001b[39m\u001b[38;5;124m\"\u001b[39m,\n\u001b[1;32m    515\u001b[0m                               time\u001b[38;5;241m.\u001b[39mgmtime(end_time \u001b[38;5;241m-\u001b[39m start_time)))\n",
      "File \u001b[0;32m~/Code/envs/anaconda3/envs/msr/lib/python3.8/site-packages/deformetrica/core/estimators/gradient_ascent.py:207\u001b[0m, in \u001b[0;36mGradientAscent.write\u001b[0;34m(self)\u001b[0m\n\u001b[1;32m    203\u001b[0m \u001b[38;5;124;03m\"\"\"\u001b[39;00m\n\u001b[1;32m    204\u001b[0m \u001b[38;5;124;03mSave the current results.\u001b[39;00m\n\u001b[1;32m    205\u001b[0m \u001b[38;5;124;03m\"\"\"\u001b[39;00m\n\u001b[1;32m    206\u001b[0m \u001b[38;5;66;03m# pass\u001b[39;00m\n\u001b[0;32m--> 207\u001b[0m \u001b[38;5;28;43mself\u001b[39;49m\u001b[38;5;241;43m.\u001b[39;49m\u001b[43mstatistical_model\u001b[49m\u001b[38;5;241;43m.\u001b[39;49m\u001b[43mwrite\u001b[49m\u001b[43m(\u001b[49m\u001b[38;5;28;43mself\u001b[39;49m\u001b[38;5;241;43m.\u001b[39;49m\u001b[43mdataset\u001b[49m\u001b[43m,\u001b[49m\u001b[43m \u001b[49m\u001b[38;5;28;43mself\u001b[39;49m\u001b[38;5;241;43m.\u001b[39;49m\u001b[43mpopulation_RER\u001b[49m\u001b[43m,\u001b[49m\u001b[43m \u001b[49m\u001b[38;5;28;43mself\u001b[39;49m\u001b[38;5;241;43m.\u001b[39;49m\u001b[43mindividual_RER\u001b[49m\u001b[43m,\u001b[49m\u001b[43m \u001b[49m\u001b[38;5;28;43mself\u001b[39;49m\u001b[38;5;241;43m.\u001b[39;49m\u001b[43moutput_dir\u001b[49m\u001b[43m)\u001b[49m\n\u001b[1;32m    208\u001b[0m \u001b[38;5;28mself\u001b[39m\u001b[38;5;241m.\u001b[39m_dump_state_file()\n",
      "File \u001b[0;32m~/Code/envs/anaconda3/envs/msr/lib/python3.8/site-packages/deformetrica/core/models/deterministic_atlas.py:492\u001b[0m, in \u001b[0;36mDeterministicAtlas.write\u001b[0;34m(self, dataset, population_RER, individual_RER, output_dir, write_residuals)\u001b[0m\n\u001b[1;32m    489\u001b[0m \u001b[38;5;28;01mdef\u001b[39;00m \u001b[38;5;21mwrite\u001b[39m(\u001b[38;5;28mself\u001b[39m, dataset, population_RER, individual_RER, output_dir, write_residuals\u001b[38;5;241m=\u001b[39m\u001b[38;5;28;01mTrue\u001b[39;00m):\n\u001b[1;32m    490\u001b[0m \n\u001b[1;32m    491\u001b[0m     \u001b[38;5;66;03m# Write the model predictions, and compute the residuals at the same time.\u001b[39;00m\n\u001b[0;32m--> 492\u001b[0m     residuals \u001b[38;5;241m=\u001b[39m \u001b[38;5;28;43mself\u001b[39;49m\u001b[38;5;241;43m.\u001b[39;49m\u001b[43m_write_model_predictions\u001b[49m\u001b[43m(\u001b[49m\u001b[43mdataset\u001b[49m\u001b[43m,\u001b[49m\u001b[43m \u001b[49m\u001b[43mindividual_RER\u001b[49m\u001b[43m,\u001b[49m\u001b[43m \u001b[49m\u001b[43moutput_dir\u001b[49m\u001b[43m,\u001b[49m\n\u001b[1;32m    493\u001b[0m \u001b[43m                                              \u001b[49m\u001b[43mcompute_residuals\u001b[49m\u001b[38;5;241;43m=\u001b[39;49m\u001b[43mwrite_residuals\u001b[49m\u001b[43m)\u001b[49m\n\u001b[1;32m    495\u001b[0m     \u001b[38;5;66;03m# Write residuals.\u001b[39;00m\n\u001b[1;32m    496\u001b[0m     \u001b[38;5;28;01mif\u001b[39;00m write_residuals:\n",
      "File \u001b[0;32m~/Code/envs/anaconda3/envs/msr/lib/python3.8/site-packages/deformetrica/core/models/deterministic_atlas.py:530\u001b[0m, in \u001b[0;36mDeterministicAtlas._write_model_predictions\u001b[0;34m(self, dataset, individual_RER, output_dir, compute_residuals)\u001b[0m\n\u001b[1;32m    527\u001b[0m deformed_data \u001b[38;5;241m=\u001b[39m \u001b[38;5;28mself\u001b[39m\u001b[38;5;241m.\u001b[39mtemplate\u001b[38;5;241m.\u001b[39mget_deformed_data(deformed_points, template_data)\n\u001b[1;32m    529\u001b[0m \u001b[38;5;28;01mif\u001b[39;00m compute_residuals:\n\u001b[0;32m--> 530\u001b[0m     residuals\u001b[38;5;241m.\u001b[39mappend(\u001b[38;5;28;43mself\u001b[39;49m\u001b[38;5;241;43m.\u001b[39;49m\u001b[43mmulti_object_attachment\u001b[49m\u001b[38;5;241;43m.\u001b[39;49m\u001b[43mcompute_distances\u001b[49m\u001b[43m(\u001b[49m\n\u001b[1;32m    531\u001b[0m \u001b[43m        \u001b[49m\u001b[43mdeformed_data\u001b[49m\u001b[43m,\u001b[49m\u001b[43m \u001b[49m\u001b[38;5;28;43mself\u001b[39;49m\u001b[38;5;241;43m.\u001b[39;49m\u001b[43mtemplate\u001b[49m\u001b[43m,\u001b[49m\u001b[43m \u001b[49m\u001b[43mdataset\u001b[49m\u001b[38;5;241;43m.\u001b[39;49m\u001b[43mdeformable_objects\u001b[49m\u001b[43m[\u001b[49m\u001b[43mi\u001b[49m\u001b[43m]\u001b[49m\u001b[43m[\u001b[49m\u001b[38;5;241;43m0\u001b[39;49m\u001b[43m]\u001b[49m\u001b[43m)\u001b[49m)\n\u001b[1;32m    533\u001b[0m names \u001b[38;5;241m=\u001b[39m []\n\u001b[1;32m    534\u001b[0m \u001b[38;5;28;01mfor\u001b[39;00m k, (object_name, object_extension) \\\n\u001b[1;32m    535\u001b[0m         \u001b[38;5;129;01min\u001b[39;00m \u001b[38;5;28menumerate\u001b[39m(\u001b[38;5;28mzip\u001b[39m(\u001b[38;5;28mself\u001b[39m\u001b[38;5;241m.\u001b[39mobjects_name, \u001b[38;5;28mself\u001b[39m\u001b[38;5;241m.\u001b[39mobjects_name_extension)):\n",
      "File \u001b[0;32m~/Code/envs/anaconda3/envs/msr/lib/python3.8/site-packages/deformetrica/core/model_tools/attachments/multi_object_attachment.py:50\u001b[0m, in \u001b[0;36mMultiObjectAttachment.compute_distances\u001b[0;34m(self, data, multi_obj1, multi_obj2)\u001b[0m\n\u001b[1;32m     47\u001b[0m obj2 \u001b[38;5;241m=\u001b[39m multi_obj2\u001b[38;5;241m.\u001b[39mobject_list[i]\n\u001b[1;32m     49\u001b[0m \u001b[38;5;28;01mif\u001b[39;00m \u001b[38;5;28mself\u001b[39m\u001b[38;5;241m.\u001b[39mattachment_types[i]\u001b[38;5;241m.\u001b[39mlower() \u001b[38;5;241m==\u001b[39m \u001b[38;5;124m'\u001b[39m\u001b[38;5;124mcurrent\u001b[39m\u001b[38;5;124m'\u001b[39m:\n\u001b[0;32m---> 50\u001b[0m     distances[i] \u001b[38;5;241m=\u001b[39m \u001b[38;5;28;43mself\u001b[39;49m\u001b[38;5;241;43m.\u001b[39;49m\u001b[43mcurrent_distance\u001b[49m\u001b[43m(\u001b[49m\n\u001b[1;32m     51\u001b[0m \u001b[43m        \u001b[49m\u001b[43mdata\u001b[49m\u001b[43m[\u001b[49m\u001b[38;5;124;43m'\u001b[39;49m\u001b[38;5;124;43mlandmark_points\u001b[39;49m\u001b[38;5;124;43m'\u001b[39;49m\u001b[43m]\u001b[49m\u001b[43m[\u001b[49m\u001b[43mpos\u001b[49m\u001b[43m:\u001b[49m\u001b[43mpos\u001b[49m\u001b[43m \u001b[49m\u001b[38;5;241;43m+\u001b[39;49m\u001b[43m \u001b[49m\u001b[43mobj1\u001b[49m\u001b[38;5;241;43m.\u001b[39;49m\u001b[43mget_number_of_points\u001b[49m\u001b[43m(\u001b[49m\u001b[43m)\u001b[49m\u001b[43m]\u001b[49m\u001b[43m,\u001b[49m\u001b[43m \u001b[49m\u001b[43mobj1\u001b[49m\u001b[43m,\u001b[49m\u001b[43m \u001b[49m\u001b[43mobj2\u001b[49m\u001b[43m,\u001b[49m\u001b[43m \u001b[49m\u001b[38;5;28;43mself\u001b[39;49m\u001b[38;5;241;43m.\u001b[39;49m\u001b[43mkernels\u001b[49m\u001b[43m[\u001b[49m\u001b[43mi\u001b[49m\u001b[43m]\u001b[49m\u001b[43m)\u001b[49m\n\u001b[1;32m     52\u001b[0m     pos \u001b[38;5;241m+\u001b[39m\u001b[38;5;241m=\u001b[39m obj1\u001b[38;5;241m.\u001b[39mget_number_of_points()\n\u001b[1;32m     54\u001b[0m \u001b[38;5;28;01melif\u001b[39;00m \u001b[38;5;28mself\u001b[39m\u001b[38;5;241m.\u001b[39mattachment_types[i]\u001b[38;5;241m.\u001b[39mlower() \u001b[38;5;241m==\u001b[39m \u001b[38;5;124m'\u001b[39m\u001b[38;5;124mpointcloud\u001b[39m\u001b[38;5;124m'\u001b[39m:\n",
      "File \u001b[0;32m~/Code/envs/anaconda3/envs/msr/lib/python3.8/site-packages/deformetrica/core/model_tools/attachments/multi_object_attachment.py:99\u001b[0m, in \u001b[0;36mMultiObjectAttachment.current_distance\u001b[0;34m(points, source, target, kernel)\u001b[0m\n\u001b[1;32m     96\u001b[0m \u001b[38;5;28;01mif\u001b[39;00m target\u001b[38;5;241m.\u001b[39mnorm \u001b[38;5;129;01mis\u001b[39;00m \u001b[38;5;28;01mNone\u001b[39;00m:\n\u001b[1;32m     97\u001b[0m     target\u001b[38;5;241m.\u001b[39mnorm \u001b[38;5;241m=\u001b[39m current_scalar_product(c2, c2, n2, n2)\n\u001b[0;32m---> 99\u001b[0m \u001b[38;5;28;01mreturn\u001b[39;00m current_scalar_product(c1, c1, n1, n1) \u001b[38;5;241m+\u001b[39m target\u001b[38;5;241m.\u001b[39mnorm\u001b[38;5;241m.\u001b[39mto(c1\u001b[38;5;241m.\u001b[39mdevice) \u001b[38;5;241m-\u001b[39m \u001b[38;5;241m2\u001b[39m \u001b[38;5;241m*\u001b[39m \u001b[43mcurrent_scalar_product\u001b[49m\u001b[43m(\u001b[49m\u001b[43mc1\u001b[49m\u001b[43m,\u001b[49m\u001b[43m \u001b[49m\u001b[43mc2\u001b[49m\u001b[43m,\u001b[49m\u001b[43m \u001b[49m\u001b[43mn1\u001b[49m\u001b[43m,\u001b[49m\u001b[43m \u001b[49m\u001b[43mn2\u001b[49m\u001b[43m)\u001b[49m\n",
      "File \u001b[0;32m~/Code/envs/anaconda3/envs/msr/lib/python3.8/site-packages/deformetrica/core/model_tools/attachments/multi_object_attachment.py:94\u001b[0m, in \u001b[0;36mMultiObjectAttachment.current_distance.<locals>.current_scalar_product\u001b[0;34m(points_1, points_2, normals_1, normals_2)\u001b[0m\n\u001b[1;32m     92\u001b[0m \u001b[38;5;28;01mdef\u001b[39;00m \u001b[38;5;21mcurrent_scalar_product\u001b[39m(points_1, points_2, normals_1, normals_2):\n\u001b[1;32m     93\u001b[0m     \u001b[38;5;28;01massert\u001b[39;00m points_1\u001b[38;5;241m.\u001b[39mdevice \u001b[38;5;241m==\u001b[39m points_2\u001b[38;5;241m.\u001b[39mdevice \u001b[38;5;241m==\u001b[39m normals_1\u001b[38;5;241m.\u001b[39mdevice \u001b[38;5;241m==\u001b[39m normals_2\u001b[38;5;241m.\u001b[39mdevice, \u001b[38;5;124m'\u001b[39m\u001b[38;5;124mtensors must be on the same device\u001b[39m\u001b[38;5;124m'\u001b[39m\n\u001b[0;32m---> 94\u001b[0m     \u001b[38;5;28;01mreturn\u001b[39;00m torch\u001b[38;5;241m.\u001b[39mdot(normals_1\u001b[38;5;241m.\u001b[39mview(\u001b[38;5;241m-\u001b[39m\u001b[38;5;241m1\u001b[39m), \u001b[43mkernel\u001b[49m\u001b[38;5;241;43m.\u001b[39;49m\u001b[43mconvolve\u001b[49m\u001b[43m(\u001b[49m\u001b[43mpoints_1\u001b[49m\u001b[43m,\u001b[49m\u001b[43m \u001b[49m\u001b[43mpoints_2\u001b[49m\u001b[43m,\u001b[49m\u001b[43m \u001b[49m\u001b[43mnormals_2\u001b[49m\u001b[43m)\u001b[49m\u001b[38;5;241m.\u001b[39mview(\u001b[38;5;241m-\u001b[39m\u001b[38;5;241m1\u001b[39m))\n",
      "File \u001b[0;32m~/Code/envs/anaconda3/envs/msr/lib/python3.8/site-packages/deformetrica/support/kernels/torch_kernel.py:38\u001b[0m, in \u001b[0;36mTorchKernel.convolve\u001b[0;34m(self, x, y, p, mode)\u001b[0m\n\u001b[1;32m     35\u001b[0m x, y, p \u001b[38;5;241m=\u001b[39m (\u001b[38;5;28mself\u001b[39m\u001b[38;5;241m.\u001b[39m_move_to_device(t, gpu_mode\u001b[38;5;241m=\u001b[39m\u001b[38;5;28mself\u001b[39m\u001b[38;5;241m.\u001b[39mgpu_mode) \u001b[38;5;28;01mfor\u001b[39;00m t \u001b[38;5;129;01min\u001b[39;00m [x, y, p])\n\u001b[1;32m     36\u001b[0m \u001b[38;5;28;01massert\u001b[39;00m x\u001b[38;5;241m.\u001b[39mdevice \u001b[38;5;241m==\u001b[39m y\u001b[38;5;241m.\u001b[39mdevice \u001b[38;5;241m==\u001b[39m p\u001b[38;5;241m.\u001b[39mdevice, \u001b[38;5;124m'\u001b[39m\u001b[38;5;124mx, y and p must be on the same device\u001b[39m\u001b[38;5;124m'\u001b[39m\n\u001b[0;32m---> 38\u001b[0m sq \u001b[38;5;241m=\u001b[39m \u001b[38;5;28;43mself\u001b[39;49m\u001b[38;5;241;43m.\u001b[39;49m\u001b[43m_squared_distances\u001b[49m\u001b[43m(\u001b[49m\u001b[43mx\u001b[49m\u001b[43m,\u001b[49m\u001b[43m \u001b[49m\u001b[43my\u001b[49m\u001b[43m)\u001b[49m\n\u001b[1;32m     39\u001b[0m res \u001b[38;5;241m=\u001b[39m torch\u001b[38;5;241m.\u001b[39mmm(torch\u001b[38;5;241m.\u001b[39mexp(\u001b[38;5;241m-\u001b[39msq \u001b[38;5;241m/\u001b[39m (\u001b[38;5;28mself\u001b[39m\u001b[38;5;241m.\u001b[39mkernel_width \u001b[38;5;241m*\u001b[39m\u001b[38;5;241m*\u001b[39m \u001b[38;5;241m2\u001b[39m)), p)\n\u001b[1;32m     40\u001b[0m \u001b[38;5;66;03m# res = torch.mm(1.0 / (1 + sq / self.kernel_width ** 2), p)\u001b[39;00m\n",
      "File \u001b[0;32m~/Code/envs/anaconda3/envs/msr/lib/python3.8/site-packages/deformetrica/support/kernels/abstract_kernel.py:53\u001b[0m, in \u001b[0;36mAbstractKernel._squared_distances\u001b[0;34m(x, y)\u001b[0m\n\u001b[1;32m     50\u001b[0m x_norm \u001b[38;5;241m=\u001b[39m (x \u001b[38;5;241m*\u001b[39m\u001b[38;5;241m*\u001b[39m \u001b[38;5;241m2\u001b[39m)\u001b[38;5;241m.\u001b[39msum(\u001b[38;5;241m1\u001b[39m)\u001b[38;5;241m.\u001b[39mview(\u001b[38;5;241m-\u001b[39m\u001b[38;5;241m1\u001b[39m, \u001b[38;5;241m1\u001b[39m)\n\u001b[1;32m     51\u001b[0m y_norm \u001b[38;5;241m=\u001b[39m (y \u001b[38;5;241m*\u001b[39m\u001b[38;5;241m*\u001b[39m \u001b[38;5;241m2\u001b[39m)\u001b[38;5;241m.\u001b[39msum(\u001b[38;5;241m1\u001b[39m)\u001b[38;5;241m.\u001b[39mview(\u001b[38;5;241m1\u001b[39m, \u001b[38;5;241m-\u001b[39m\u001b[38;5;241m1\u001b[39m)\n\u001b[0;32m---> 53\u001b[0m dist \u001b[38;5;241m=\u001b[39m x_norm \u001b[38;5;241m+\u001b[39m y_norm \u001b[38;5;241m-\u001b[39m \u001b[38;5;241;43m2.0\u001b[39;49m\u001b[43m \u001b[49m\u001b[38;5;241;43m*\u001b[39;49m\u001b[43m \u001b[49m\u001b[43mtorch\u001b[49m\u001b[38;5;241;43m.\u001b[39;49m\u001b[43mmm\u001b[49m\u001b[43m(\u001b[49m\u001b[43mx\u001b[49m\u001b[43m,\u001b[49m\u001b[43m \u001b[49m\u001b[43mtorch\u001b[49m\u001b[38;5;241;43m.\u001b[39;49m\u001b[43mtranspose\u001b[49m\u001b[43m(\u001b[49m\u001b[43my\u001b[49m\u001b[43m,\u001b[49m\u001b[43m \u001b[49m\u001b[38;5;241;43m0\u001b[39;49m\u001b[43m,\u001b[49m\u001b[43m \u001b[49m\u001b[38;5;241;43m1\u001b[39;49m\u001b[43m)\u001b[49m\u001b[43m)\u001b[49m\n\u001b[1;32m     54\u001b[0m \u001b[38;5;28;01mreturn\u001b[39;00m dist\n",
      "\u001b[0;31mKeyboardInterrupt\u001b[0m: "
     ]
    }
   ],
   "source": [
    "from headrecbaselines.utils.inferencereg import fit_meshes\n",
    "\n",
    "fit_meshes(preds_folder, vols_folder, '_sim.vtk', '_sim_decimated_1perc.vtk')"
   ]
  },
  {
   "cell_type": "code",
   "execution_count": 3,
   "metadata": {
    "collapsed": false
   },
   "outputs": [
    {
     "name": "stdout",
     "output_type": "stream",
     "text": [
      "saving CQ500-CT-392_CT PLAIN THIN0_sim.nii.gz distance map..\n",
      "saving CQ500-CT-49_CT PRE CONTRAST THIN0_sim.nii.gz distance map..\n",
      "saving CQ500-CT-287_CT Thin Plain0_sim.nii.gz distance map..\n",
      "saving CQ500-CT-195_CT PRE CONTRAST THIN0_sim.nii.gz distance map..\n",
      "saving CQ500-CT-373_CT Thin Plain0_sim.nii.gz distance map..\n",
      "saving CQ500-CT-444_CT Thin Plain0_sim.nii.gz distance map..\n",
      "saving CQ500-CT-103_CT Thin Plain0_sim.nii.gz distance map..\n",
      "saving CQ500-CT-384_CT PLAIN THIN0_sim.nii.gz distance map..\n",
      "saving CQ500-CT-241_CT PLAIN THIN0_sim.nii.gz distance map..\n",
      "saving CQ500-CT-67_CT BONE0_sim.nii.gz distance map..\n",
      "saving CQ500-CT-458_CT Thin Plain0_sim.nii.gz distance map..\n",
      "saving CQ500-CT-105_CT I To S0_sim.nii.gz distance map..\n",
      "saving CQ500-CT-308_CT PLAIN THIN0_sim.nii.gz distance map..\n",
      "saving CQ500-CT-469_CT 0.625mm0_sim.nii.gz distance map..\n",
      "saving CQ500-CT-370_CT BONE THIN0_sim.nii.gz distance map..\n",
      "saving CQ500-CT-80_CT 0.625mm0_sim.nii.gz distance map..\n",
      "saving CQ500-CT-39_CT PRE CONTRAST THIN0_sim.nii.gz distance map..\n",
      "saving CQ500-CT-328_CT 0.625mm0_sim.nii.gz distance map..\n",
      "saving CQ500-CT-102_CT PLAIN THIN0_sim.nii.gz distance map..\n",
      "saving CQ500-CT-365_CT Thin Plain0_sim.nii.gz distance map..\n",
      "saving CQ500-CT-138_CT PRE CONTRAST THIN0_sim.nii.gz distance map..\n",
      "saving CQ500-CT-262_CT PLAIN THIN0_sim.nii.gz distance map..\n",
      "saving CQ500-CT-462_CT Thin Plain0_sim.nii.gz distance map..\n",
      "saving CQ500-CT-257_CT 0.625mm0_sim.nii.gz distance map..\n",
      "saving CQ500-CT-465_CT Thin Plain0_sim.nii.gz distance map..\n",
      "saving CQ500-CT-122_CT PRE CONTRAST THIN0_sim.nii.gz distance map..\n",
      "saving CQ500-CT-356_CT PLAIN THIN0_sim.nii.gz distance map..\n",
      "saving CQ500-CT-228_CT 4cc sec 150cc D3D on-20_sim.nii.gz distance map..\n",
      "saving CQ500-CT-292_CT C THIN0_sim.nii.gz distance map..\n",
      "saving CQ500-CT-488_CT 0.625mm0_sim.nii.gz distance map..\n",
      "saving CQ500-CT-453_CT PLAIN THIN0_sim.nii.gz distance map..\n",
      "saving CQ500-CT-12_CT Thin Plain0_sim.nii.gz distance map..\n",
      "saving CQ500-CT-62_CT Thin Plain0_sim.nii.gz distance map..\n",
      "saving CQ500-CT-485_CT PLAIN THIN0_sim.nii.gz distance map..\n",
      "saving CQ500-CT-33_CT 4cc sec 150cc D3D on0_sim.nii.gz distance map..\n",
      "saving CQ500-CT-47_CT PRE CONTRAST THIN0_sim.nii.gz distance map..\n"
     ]
    }
   ],
   "source": [
    "import os\n",
    "import SimpleITK as sitk\n",
    "\n",
    "ppath = '/home/fmatzkin/Code/datasets/cq500mesh/test/sim_defects/'\n",
    "imagess = [f for f in os.listdir(ppath) if f.endswith('0_sim.nii.gz')]\n",
    "for imname in imagess:\n",
    "    impath = os.path.join(ppath, imname)\n",
    "    im = sitk.ReadImage(impath)\n",
    "    dm = sitk.DanielssonDistanceMap(im, inputIsBinary=True, squaredDistance=False, useImageSpacing=False)\n",
    "    print(f'saving {imname} distance map..')\n",
    "    sitk.WriteImage(dm, impath.replace('.nii.gz', '_distmap.nii.gz'))"
   ]
  },
  {
   "cell_type": "code",
   "execution_count": 28,
   "id": "b3b7e2c0",
   "metadata": {},
   "outputs": [
    {
     "data": {
      "text/plain": [
       "'/home/franco/Code/datasets/cq500mesh/test/sim_defects/CQ500-CT-444_CT Thin Plain0_sim_distmap.nii.gz'"
      ]
     },
     "execution_count": 28,
     "metadata": {},
     "output_type": "execute_result"
    }
   ],
   "source": [
    "distmap"
   ]
  },
  {
   "cell_type": "code",
   "execution_count": 3,
   "metadata": {
    "collapsed": false,
    "pycharm": {
     "is_executing": true
    }
   },
   "outputs": [],
   "source": [
    "import vedo\n",
    "import SimpleITK as sitk\n",
    "from headrecbaselines.utils.VedoMorpher import fit_mesh_dmap\n",
    "import os\n",
    "\n",
    "basef = os.path.expanduser('~/Code/datasets/cq500mesh/')\n",
    "pred = basef + 'test/sim_defects/PCA_im2mesh/CQ500-CT-444_CT Thin Plain0_sim.stl'\n",
    "inp = basef + 'test/sim_defects/CQ500-CT-444_CT Thin Plain0_sim_decimated_1perc.vtk'\n",
    "# reg = basef + 'reg_CQ500-CT-444_CT Thin Plain0_sim_decimated_1perc/DeterministicAtlas__Reconstruction__skull__subject_CQ500-CT-444_CT Thin Plain0_sim_decimated_1perc.vtk'\n",
    "distmap = basef + 'test/sim_defects/CQ500-CT-444_CT Thin Plain0_sim_distmap.nii.gz'\n",
    "\n",
    "predmesh = vedo.Mesh(pred)\n",
    "inpmesh = vedo.Mesh(inp)\n",
    "# regmesh = vedo.Mesh(reg).decimate(.1)\n",
    "distmap = sitk.ReadImage(distmap)\n",
    "\n",
    "dmap_thres = 1.5\n",
    "save_path = pred.replace('.stl', f'_morphed{dmap_thres}.stl')\n"
   ]
  },
  {
   "cell_type": "code",
   "execution_count": 4,
   "metadata": {
    "collapsed": false,
    "pycharm": {
     "is_executing": true
    }
   },
   "outputs": [
    {
     "name": "stdout",
     "output_type": "stream",
     "text": [
      "\n",
      "..minimizing with SLSQP\n",
      "Emin -> 2.571811417653375\n",
      "Emin -> 2.4216390079705694\n",
      "Emin -> 2.342353881351018\n",
      "\n",
      "Final fit score 2.2724048060540727\n",
      "Result of parameter fit:\n",
      " [ 0.0128587   0.01633508 -0.00850208  0.00773882 -0.02233305 -0.0051249\n",
      "  0.01326552  0.00628393 -0.01655297 -0.02711079 -0.0108147  -0.01171687\n",
      "  0.00929631  0.01006704 -0.00485001 -0.02065032 -0.00673882 -0.00702988\n",
      "  1.        ]\n"
     ]
    }
   ],
   "source": [
    "mr = fit_mesh_dmap(predmesh, inpmesh, distmap, save_path, dmap_thres, True, \n",
    "                   False)"
   ]
  },
  {
   "cell_type": "code",
   "execution_count": 3,
   "id": "eb1eddbe",
   "metadata": {},
   "outputs": [
    {
     "data": {
      "text/plain": [
       "'/home/franco/Code/datasets/cq500mesh/test/sim_defects/PCA_im2mesh/CQ500-CT-444_CT Thin Plain0_sim_morphed30.stl'"
      ]
     },
     "execution_count": 3,
     "metadata": {},
     "output_type": "execute_result"
    }
   ],
   "source": [
    "save_path"
   ]
  }
 ],
 "metadata": {
  "kernelspec": {
   "display_name": "Python 3.8.13 ('msr')",
   "language": "python",
   "name": "python3"
  },
  "language_info": {
   "codemirror_mode": {
    "name": "ipython",
    "version": 3
   },
   "file_extension": ".py",
   "mimetype": "text/x-python",
   "name": "python",
   "nbconvert_exporter": "python",
   "pygments_lexer": "ipython3",
   "version": "3.8.13"
  },
  "vscode": {
   "interpreter": {
    "hash": "159c917228f05416d9b819fe32ed20dc8363f68fb18cb83ee7ae4737bd8f0b32"
   }
  }
 },
 "nbformat": 4,
 "nbformat_minor": 5
}
