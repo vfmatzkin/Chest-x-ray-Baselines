{
 "cells": [
  {
   "cell_type": "code",
   "execution_count": null,
   "id": "7257c989",
   "metadata": {},
   "outputs": [],
   "source": [
    "% load_ext autoreload\n",
    "% autoreload 2"
   ]
  },
  {
   "cell_type": "markdown",
   "source": [
    "## Test convolutional PCA reconstruction"
   ],
   "metadata": {
    "collapsed": false
   }
  },
  {
   "cell_type": "code",
   "execution_count": 3,
   "id": "02278c69",
   "metadata": {},
   "outputs": [],
   "source": [
    "import os\n",
    "\n",
    "import torch\n",
    "import vedo\n",
    "\n",
    "from headrecbaselines.models.PCAH import PCAH_Net\n",
    "from headrecbaselines.utils.datasetHeads import MeshHeadsDataset"
   ]
  },
  {
   "cell_type": "markdown",
   "source": [
    "### Load test images"
   ],
   "metadata": {
    "collapsed": false
   }
  },
  {
   "cell_type": "code",
   "execution_count": 4,
   "id": "7084379a",
   "metadata": {},
   "outputs": [
    {
     "name": "stdout",
     "output_type": "stream",
     "text": [
      "Test images: 36. Simulated defect skulls: 36\n"
     ]
    }
   ],
   "source": [
    "img_path = os.path.abspath('../datasets/cq500mesh')\n",
    "path_test = os.path.join(img_path, 'test')\n",
    "path_sim = os.path.join(path_test, 'sim_defects')\n",
    "images_test = open(\"partitions/test.txt\", 'r').read().splitlines()\n",
    "images_sim = open(\"partitions/test_sim.txt\", 'r').read().splitlines()\n",
    "\n",
    "dtset_tst = MeshHeadsDataset(images_test, path_test, test=True)\n",
    "dtset_tst_sim = MeshHeadsDataset(images_sim, path_sim, test=True)\n",
    "print(\n",
    "    f\"Test images: {len(dtset_tst)}. Simulated defect skulls: {len(dtset_tst_sim)}\")"
   ]
  },
  {
   "cell_type": "code",
   "execution_count": 5,
   "id": "a70b5eed-0c89-4f77-b1d4-8699aa326395",
   "metadata": {},
   "outputs": [
    {
     "name": "stdout",
     "output_type": "stream",
     "text": [
      "Model loaded\n"
     ]
    }
   ],
   "source": [
    "interp_factor = 0.85\n",
    "config = {\n",
    "    'device': 'cuda:0',\n",
    "    'latents': 60,\n",
    "    'inputsize': 1024,\n",
    "    'interpolate': True,\n",
    "    'h': int(512 * interp_factor),\n",
    "    'w': int(512 * interp_factor),\n",
    "    'slices': int(233 * interp_factor),\n",
    "}\n",
    "\n",
    "pcaNet = PCAH_Net(config.copy()).to(config['device'])\n",
    "pcaNet.load_state_dict(torch.load('trained/PCAH/bestMSE.pt'))\n",
    "pcaNet.eval()\n",
    "print('Model loaded')"
   ]
  },
  {
   "cell_type": "markdown",
   "source": [
    "### Predict on test and simulated imgs"
   ],
   "metadata": {
    "collapsed": false
   }
  },
  {
   "cell_type": "code",
   "execution_count": 6,
   "outputs": [
    {
     "name": "stdout",
     "output_type": "stream",
     "text": [
      "saving in: /media/fmatzkin/data/franco/Code/datasets/cq500mesh/test/PCA_im2mesh.\n",
      "  saved mesh CQ500-CT-370_CT BONE THIN.stl\n",
      "  saved mesh CQ500-CT-356_CT PLAIN THIN.stl\n",
      "  saved mesh CQ500-CT-469_CT 0.625mm.stl\n",
      "  saved mesh CQ500-CT-241_CT PLAIN THIN.stl\n",
      "  saved mesh CQ500-CT-228_CT 4cc sec 150cc D3D on-2.stl\n",
      "  saved mesh CQ500-CT-328_CT 0.625mm.stl\n",
      "  saved mesh CQ500-CT-105_CT I To S.stl\n",
      "  saved mesh CQ500-CT-67_CT BONE.stl\n",
      "  saved mesh CQ500-CT-122_CT PRE CONTRAST THIN.stl\n",
      "  saved mesh CQ500-CT-33_CT 4cc sec 150cc D3D on.stl\n",
      "  saved mesh CQ500-CT-287_CT Thin Plain.stl\n",
      "  saved mesh CQ500-CT-365_CT Thin Plain.stl\n",
      "  saved mesh CQ500-CT-373_CT Thin Plain.stl\n",
      "  saved mesh CQ500-CT-485_CT PLAIN THIN.stl\n",
      "  saved mesh CQ500-CT-80_CT 0.625mm.stl\n",
      "  saved mesh CQ500-CT-103_CT Thin Plain.stl\n",
      "  saved mesh CQ500-CT-39_CT PRE CONTRAST THIN.stl\n",
      "  saved mesh CQ500-CT-453_CT PLAIN THIN.stl\n",
      "  saved mesh CQ500-CT-384_CT PLAIN THIN.stl\n",
      "  saved mesh CQ500-CT-49_CT PRE CONTRAST THIN.stl\n",
      "  saved mesh CQ500-CT-195_CT PRE CONTRAST THIN.stl\n",
      "  saved mesh CQ500-CT-292_CT C THIN.stl\n",
      "  saved mesh CQ500-CT-458_CT Thin Plain.stl\n",
      "  saved mesh CQ500-CT-488_CT 0.625mm.stl\n",
      "  saved mesh CQ500-CT-47_CT PRE CONTRAST THIN.stl\n",
      "  saved mesh CQ500-CT-392_CT PLAIN THIN.stl\n",
      "  saved mesh CQ500-CT-462_CT Thin Plain.stl\n",
      "  saved mesh CQ500-CT-465_CT Thin Plain.stl\n",
      "  saved mesh CQ500-CT-62_CT Thin Plain.stl\n",
      "  saved mesh CQ500-CT-12_CT Thin Plain.stl\n",
      "  saved mesh CQ500-CT-257_CT 0.625mm.stl\n",
      "  saved mesh CQ500-CT-308_CT PLAIN THIN.stl\n",
      "  saved mesh CQ500-CT-138_CT PRE CONTRAST THIN.stl\n",
      "  saved mesh CQ500-CT-444_CT Thin Plain.stl\n",
      "  saved mesh CQ500-CT-102_CT PLAIN THIN.stl\n",
      "  saved mesh CQ500-CT-262_CT PLAIN THIN.stl\n",
      "saving in: /media/fmatzkin/data/franco/Code/datasets/cq500mesh/test/sim_defects/PCA_im2mesh.\n",
      "  saved mesh CQ500-CT-392_CT PLAIN THIN0_sim.stl\n",
      "  saved mesh CQ500-CT-49_CT PRE CONTRAST THIN0_sim.stl\n",
      "  saved mesh CQ500-CT-287_CT Thin Plain0_sim.stl\n",
      "  saved mesh CQ500-CT-195_CT PRE CONTRAST THIN0_sim.stl\n",
      "  saved mesh CQ500-CT-373_CT Thin Plain0_sim.stl\n",
      "  saved mesh CQ500-CT-444_CT Thin Plain0_sim.stl\n",
      "  saved mesh CQ500-CT-103_CT Thin Plain0_sim.stl\n",
      "  saved mesh CQ500-CT-384_CT PLAIN THIN0_sim.stl\n",
      "  saved mesh CQ500-CT-241_CT PLAIN THIN0_sim.stl\n",
      "  saved mesh CQ500-CT-67_CT BONE0_sim.stl\n",
      "  saved mesh CQ500-CT-458_CT Thin Plain0_sim.stl\n",
      "  saved mesh CQ500-CT-105_CT I To S0_sim.stl\n",
      "  saved mesh CQ500-CT-308_CT PLAIN THIN0_sim.stl\n",
      "  saved mesh CQ500-CT-469_CT 0.625mm0_sim.stl\n",
      "  saved mesh CQ500-CT-370_CT BONE THIN0_sim.stl\n",
      "  saved mesh CQ500-CT-80_CT 0.625mm0_sim.stl\n",
      "  saved mesh CQ500-CT-39_CT PRE CONTRAST THIN0_sim.stl\n",
      "  saved mesh CQ500-CT-328_CT 0.625mm0_sim.stl\n",
      "  saved mesh CQ500-CT-102_CT PLAIN THIN0_sim.stl\n",
      "  saved mesh CQ500-CT-365_CT Thin Plain0_sim.stl\n",
      "  saved mesh CQ500-CT-138_CT PRE CONTRAST THIN0_sim.stl\n",
      "  saved mesh CQ500-CT-262_CT PLAIN THIN0_sim.stl\n",
      "  saved mesh CQ500-CT-462_CT Thin Plain0_sim.stl\n",
      "  saved mesh CQ500-CT-257_CT 0.625mm0_sim.stl\n",
      "  saved mesh CQ500-CT-465_CT Thin Plain0_sim.stl\n",
      "  saved mesh CQ500-CT-122_CT PRE CONTRAST THIN0_sim.stl\n",
      "  saved mesh CQ500-CT-356_CT PLAIN THIN0_sim.stl\n",
      "  saved mesh CQ500-CT-228_CT 4cc sec 150cc D3D on-20_sim.stl\n",
      "  saved mesh CQ500-CT-292_CT C THIN0_sim.stl\n",
      "  saved mesh CQ500-CT-488_CT 0.625mm0_sim.stl\n",
      "  saved mesh CQ500-CT-453_CT PLAIN THIN0_sim.stl\n",
      "  saved mesh CQ500-CT-12_CT Thin Plain0_sim.stl\n",
      "  saved mesh CQ500-CT-62_CT Thin Plain0_sim.stl\n",
      "  saved mesh CQ500-CT-485_CT PLAIN THIN0_sim.stl\n",
      "  saved mesh CQ500-CT-33_CT 4cc sec 150cc D3D on0_sim.stl\n",
      "  saved mesh CQ500-CT-47_CT PRE CONTRAST THIN0_sim.stl\n"
     ]
    }
   ],
   "source": [
    "# I can use any img since all .faces() are the same\n",
    "ex_img = os.path.join(\n",
    "    img_path, 'CQ500-CT-0_CT PLAIN THIN_decimated_1perc_dfm.vtk'\n",
    ")\n",
    "faces = vedo.Mesh(ex_img).faces()\n",
    "\n",
    "out_pth_tst = os.path.join(path_test, f'PCA_im2mesh')  # Predictions subfolder\n",
    "out_pth_sim = os.path.join(path_sim, f'PCA_im2mesh')  # Predictions subfolder\n",
    "os.makedirs(out_pth_tst, exist_ok=True)\n",
    "os.makedirs(out_pth_sim, exist_ok=True)\n",
    "\n",
    "for samples, out_path, fnames in zip([dtset_tst, dtset_tst_sim],\n",
    "                                     [out_pth_tst, out_pth_sim],\n",
    "                                     [images_test, images_sim]):\n",
    "    print(f\"saving in: {out_path}.\")\n",
    "    for i, sample in enumerate(samples):\n",
    "        test_im = sample['image'].unsqueeze(0)\n",
    "        out_img = pcaNet(test_im.to(config['device']))\n",
    "        points = out_img.reshape(-1, 3).detach().cpu().numpy()\n",
    "\n",
    "        f_name = fnames[i].replace('.nii.gz', '.stl')\n",
    "        out_fpath = os.path.join(out_path, f_name)\n",
    "\n",
    "        restored_mesh = vedo.Mesh([points, faces])\n",
    "        restored_mesh.write(out_fpath)\n",
    "        print(f'  saved mesh {f_name}')\n",
    "        del test_im, out_img"
   ],
   "metadata": {
    "collapsed": false
   }
  },
  {
   "cell_type": "markdown",
   "source": [
    "## Convert meshes to volumes"
   ],
   "metadata": {
    "collapsed": false
   }
  },
  {
   "cell_type": "code",
   "execution_count": null,
   "outputs": [],
   "source": [
    "def binarize_franco(self, source_img, invert=False):\n",
    "    if type(source_img) != sitk.Image:\n",
    "        print('source_img must be a SimpleITK image')\n",
    "        return\n",
    "\n",
    "    pd = self.polydata()\n",
    "\n",
    "    whiteImage = vtk.vtkImageData()\n",
    "    whiteImage.SetDirectionMatrix(-1,0,0,0,-1,0,0,0,1)\n",
    "    bounds = pd.GetBounds()\n",
    "\n",
    "    whiteImage.SetSpacing(source_img.GetSpacing())\n",
    "\n",
    "    dim = source_img.GetSize()\n",
    "    whiteImage.SetDimensions(dim)\n",
    "    whiteImage.SetExtent(0, dim[0] - 1, 0, dim[1] - 1, 0, dim[2] - 1)\n",
    "\n",
    "    whiteImage.SetOrigin(source_img.GetOrigin())\n",
    "    whiteImage.AllocateScalars(vtk.VTK_UNSIGNED_CHAR, 1)\n",
    "\n",
    "    # fill the image with foreground voxels:\n",
    "    if invert:\n",
    "        inval = 0\n",
    "    else:\n",
    "        inval = 1\n",
    "    count = whiteImage.GetNumberOfPoints()\n",
    "    for i in range(count):\n",
    "        whiteImage.GetPointData().GetScalars().SetTuple1(i, inval)\n",
    "\n",
    "    # polygonal data --> image stencil:\n",
    "    pol2stenc = vtk.vtkPolyDataToImageStencil()\n",
    "    pol2stenc.SetInputData(pd)\n",
    "    pol2stenc.SetOutputOrigin(whiteImage.GetOrigin())\n",
    "    pol2stenc.SetOutputSpacing(whiteImage.GetSpacing())\n",
    "    pol2stenc.SetOutputWholeExtent(whiteImage.GetExtent())\n",
    "    pol2stenc.Update()\n",
    "\n",
    "    # cut the corresponding white image and set the background:\n",
    "    if invert:\n",
    "        outval = 1\n",
    "    else:\n",
    "        outval = 0\n",
    "    imgstenc = vtk.vtkImageStencil()\n",
    "    imgstenc.SetInputData(whiteImage)\n",
    "    imgstenc.SetStencilConnection(pol2stenc.GetOutputPort())\n",
    "    imgstenc.SetReverseStencil(invert)\n",
    "    imgstenc.SetBackgroundValue(outval)\n",
    "    imgstenc.Update()\n",
    "    return vedo.Volume(imgstenc.GetOutput())"
   ],
   "metadata": {
    "collapsed": false
   }
  },
  {
   "cell_type": "code",
   "execution_count": 1,
   "outputs": [],
   "source": [
    "import vedo\n",
    "import SimpleITK as sitk\n",
    "import numpy as np\n",
    "from headctools.preprocessing.utils import fixed_pad_sitk\n",
    "import os\n",
    "\n",
    "jp = os.path.join\n",
    "im_p = os.path.abspath('../datasets/cq500mesh/test/')\n",
    "preds_sim_fld = jp(im_p, 'sim_defects/PCA_im2mesh/')\n",
    "\n",
    "src_Img = sitk.ReadImage('/home/fmatzkin/Code/datasets/cq500mesh/test/CQ500-CT-62_CT Thin Plain.nii.gz')\n",
    "\n",
    "inp_mesh = vedo.Mesh(jp(preds_sim_fld, 'CQ500-CT-12_CT Thin Plain0_sim.stl'))\n",
    "binarized_vol = inp_mesh.binarize_franco(src_Img)"
   ],
   "metadata": {
    "collapsed": false
   }
  },
  {
   "cell_type": "code",
   "execution_count": 5,
   "outputs": [
    {
     "data": {
      "text/plain": "(233, 512, 512)"
     },
     "execution_count": 5,
     "metadata": {},
     "output_type": "execute_result"
    }
   ],
   "source": [
    "array = binarized_vol.tonumpy().astype(np.uint8)\n",
    "array = np.transpose(array, (2, 1, 0))\n",
    "array.shape"
   ],
   "metadata": {
    "collapsed": false
   }
  },
  {
   "cell_type": "code",
   "execution_count": 6,
   "outputs": [],
   "source": [
    "vol_sitk = sitk.GetImageFromArray(array)\n",
    "\n",
    "vol_sitk.CopyInformation(src_Img)\n",
    "sitk.WriteImage(vol_sitk, '/home/fmatzkin/Code/datasets/cq500mesh/test/sim_defects/PCA_im2mesh/CQ500-CT-12_CT Thin Plain0_sim.nii')\n",
    "# binarized_vol.write('/home/fmatzkin/Code/datasets/cq500mesh/test/sim_defects/PCA_im2mesh/CQ500-CT-62_CT Thin Plain0_sim.nii')"
   ],
   "metadata": {
    "collapsed": false
   }
  },
  {
   "cell_type": "code",
   "execution_count": 63,
   "outputs": [],
   "source": [
    "sitkimg = sitk.GetImageFromArray(binarized_vol.tonumpy())\n",
    "sitkimg.SetSpacing(src_Img.GetSpacing())\n",
    "sitkimg.SetOrigin(src_Img.GetOrigin())\n",
    "sitk.Show(sitkimg)"
   ],
   "metadata": {
    "collapsed": false
   }
  },
  {
   "cell_type": "code",
   "execution_count": null,
   "outputs": [],
   "source": [
    "vol_sitk = fixed_pad_sitk(vol_sitk, tuple(np.roll(src_Img.GetSize(), 1)))\n",
    "vol_sitk.CopyInformation(src_Img)\n",
    "sitk.WriteImage(\n",
    "    vol_sitk,\n",
    "    '/home/fmatzkin/Code/datasets/cq500mesh/test/sim_defects/PCA_im2mesh/CQ500-CT-62_CT Thin Plain0_sim_vedo.nii.gz'\n",
    ")"
   ],
   "metadata": {
    "collapsed": false
   }
  },
  {
   "cell_type": "code",
   "execution_count": null,
   "outputs": [],
   "source": [
    "vol_sitk = fixed_pad_sitk(vol_sitk, tuple(np.roll(src_Img.GetSize(), 1)))"
   ],
   "metadata": {
    "collapsed": false
   }
  },
  {
   "cell_type": "code",
   "execution_count": 66,
   "outputs": [],
   "source": [
    "from headctools.tools.img_processing import FillDefects\n",
    "\n",
    "ch = FillDefects.convex_hull\n",
    "\n",
    "src_ImgCh = ch(src_Img)"
   ],
   "metadata": {
    "collapsed": false
   }
  },
  {
   "cell_type": "code",
   "execution_count": 67,
   "outputs": [
    {
     "name": "stderr",
     "output_type": "stream",
     "text": [
      "WARNING: In /tmp/SimpleITK-build/ITK/Modules/IO/Meta/src/itkMetaImageIO.cxx, line 669\n",
      "MetaImageIO (0x55f6a5d18800): Unsupported or empty metaData item ITK_FileNotes of type Ssfound, won't be written to image file\n",
      "\n",
      "WARNING: In /tmp/SimpleITK-build/ITK/Modules/IO/Meta/src/itkMetaImageIO.cxx, line 669\n",
      "MetaImageIO (0x55f6a5d18800): Unsupported or empty metaData item aux_file of type Ssfound, won't be written to image file\n",
      "\n",
      "WARNING: In /tmp/SimpleITK-build/ITK/Modules/IO/Meta/src/itkMetaImageIO.cxx, line 669\n",
      "MetaImageIO (0x55f6a5d18800): Unsupported or empty metaData item descrip of type Ssfound, won't be written to image file\n",
      "\n",
      "WARNING: In /tmp/SimpleITK-build/ITK/Modules/IO/Meta/src/itkMetaImageIO.cxx, line 669\n",
      "MetaImageIO (0x55f6a5d18800): Unsupported or empty metaData item intent_name of type Ssfound, won't be written to image file\n",
      "\n"
     ]
    }
   ],
   "source": [
    "sitk.Show(src_Img)\n",
    "sitk.Show(src_ImgCh)"
   ],
   "metadata": {
    "collapsed": false
   }
  },
  {
   "cell_type": "code",
   "execution_count": 38,
   "outputs": [],
   "source": [
    "import SimpleITK as sitk\n",
    "import numpy as np\n",
    "import trimesh\n",
    "\n",
    "malla = trimesh.load_mesh('CQ500-CT-62_CT Thin Plain0_sim.stl')\n",
    "src_Img = sitk.ReadImage('CQ500-CT-62_CT Thin Plain.nii.gz')\n",
    "\n",
    "# Filling options: base, holes, orthographic\n",
    "v = malla.voxelized(1).fill('base')\n",
    "# Raises \"Can only export binvox with uniform scale\"\n",
    "v.export('CQ500-CT-62_CT Thin Plain0_sim.binvox')\n",
    "\n",
    "vol_sitk = sitk.GetImageFromArray(v.matrix.astype(np.uint8))\n",
    "# o_im.CopyInformation(im_o)\n",
    "sitk.WriteImage(vol_sitk, 'CQ500-CT-62_CT Thin Plain0_sim_base.nii.gz')"
   ],
   "metadata": {
    "collapsed": false
   }
  }
 ],
 "metadata": {
  "kernelspec": {
   "display_name": "Python (torch)",
   "language": "python",
   "name": "torch"
  },
  "language_info": {
   "codemirror_mode": {
    "name": "ipython",
    "version": 3
   },
   "file_extension": ".py",
   "mimetype": "text/x-python",
   "name": "python",
   "nbconvert_exporter": "python",
   "pygments_lexer": "ipython3",
   "version": "3.9.7"
  }
 },
 "nbformat": 4,
 "nbformat_minor": 5
}
