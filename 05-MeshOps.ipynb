{
 "cells": [
  {
   "attachments": {},
   "cell_type": "markdown",
   "id": "9bc58abf",
   "metadata": {},
   "source": [
    "# MeshOps\n",
    "Operate on the meshes (correct nodes) and then convert to volumes (binarize)"
   ]
  },
  {
   "cell_type": "code",
   "execution_count": 2,
   "id": "7257c989",
   "metadata": {},
   "outputs": [
    {
     "name": "stdout",
     "output_type": "stream",
     "text": [
      "The autoreload extension is already loaded. To reload it, use:\n",
      "  %reload_ext autoreload\n"
     ]
    }
   ],
   "source": [
    "%load_ext autoreload\n",
    "%autoreload 2"
   ]
  },
  {
   "cell_type": "code",
   "execution_count": 3,
   "id": "cf9fa1e7",
   "metadata": {},
   "outputs": [
    {
     "name": "stderr",
     "output_type": "stream",
     "text": [
      "/home/fmatzkin/Code/envs/anaconda3/envs/msr/lib/python3.8/site-packages/tqdm/auto.py:22: TqdmWarning: IProgress not found. Please update jupyter and ipywidgets. See https://ipywidgets.readthedocs.io/en/stable/user_install.html\n",
      "  from .autonotebook import tqdm as notebook_tqdm\n"
     ]
    }
   ],
   "source": [
    "import os\n",
    "from headctools.preprocessing import utils\n",
    "\n",
    "path_imgs = os.path.abspath('../datasets/cq500mesh')\n",
    "path_test = os.path.join(path_imgs, 'test')\n",
    "path_sim = os.path.join(path_test, 'sim_defects')\n",
    "path_rec_sim = os.path.join(path_sim, 'PCA_im2mesh')"
   ]
  },
  {
   "attachments": {},
   "cell_type": "markdown",
   "id": "8755df05",
   "metadata": {},
   "source": [
    "## Convert the input volumes to meshes \n",
    "\n",
    "..so I can align the output meshes later"
   ]
  },
  {
   "cell_type": "code",
   "execution_count": 7,
   "id": "16d71455",
   "metadata": {
    "collapsed": false
   },
   "outputs": [
    {
     "name": "stdout",
     "output_type": "stream",
     "text": [
      "    File /media/fmatzkin/data/franco/Code/datasets/cq500mesh/test/sim_defects/CQ500-CT-392_CT PLAIN THIN0_sim.stl already exists. Skipping...\n",
      "    File /media/fmatzkin/data/franco/Code/datasets/cq500mesh/test/sim_defects/CQ500-CT-49_CT PRE CONTRAST THIN0_sim.stl already exists. Skipping...\n",
      "    File /media/fmatzkin/data/franco/Code/datasets/cq500mesh/test/sim_defects/CQ500-CT-287_CT Thin Plain0_sim.stl already exists. Skipping...\n",
      "    File /media/fmatzkin/data/franco/Code/datasets/cq500mesh/test/sim_defects/CQ500-CT-195_CT PRE CONTRAST THIN0_sim.stl already exists. Skipping...\n",
      "    File /media/fmatzkin/data/franco/Code/datasets/cq500mesh/test/sim_defects/CQ500-CT-373_CT Thin Plain0_sim.stl already exists. Skipping...\n",
      "    File /media/fmatzkin/data/franco/Code/datasets/cq500mesh/test/sim_defects/CQ500-CT-444_CT Thin Plain0_sim.stl already exists. Skipping...\n",
      "    File /media/fmatzkin/data/franco/Code/datasets/cq500mesh/test/sim_defects/CQ500-CT-103_CT Thin Plain0_sim.stl already exists. Skipping...\n",
      "    File /media/fmatzkin/data/franco/Code/datasets/cq500mesh/test/sim_defects/CQ500-CT-384_CT PLAIN THIN0_sim.stl already exists. Skipping...\n",
      "    File /media/fmatzkin/data/franco/Code/datasets/cq500mesh/test/sim_defects/CQ500-CT-241_CT PLAIN THIN0_sim.stl already exists. Skipping...\n",
      "    File /media/fmatzkin/data/franco/Code/datasets/cq500mesh/test/sim_defects/CQ500-CT-67_CT BONE0_sim.stl already exists. Skipping...\n",
      "    File /media/fmatzkin/data/franco/Code/datasets/cq500mesh/test/sim_defects/CQ500-CT-458_CT Thin Plain0_sim.stl already exists. Skipping...\n",
      "    File /media/fmatzkin/data/franco/Code/datasets/cq500mesh/test/sim_defects/CQ500-CT-105_CT I To S0_sim.stl already exists. Skipping...\n",
      "    File /media/fmatzkin/data/franco/Code/datasets/cq500mesh/test/sim_defects/CQ500-CT-308_CT PLAIN THIN0_sim.stl already exists. Skipping...\n",
      "    File /media/fmatzkin/data/franco/Code/datasets/cq500mesh/test/sim_defects/CQ500-CT-469_CT 0.625mm0_sim.stl already exists. Skipping...\n",
      "    File /media/fmatzkin/data/franco/Code/datasets/cq500mesh/test/sim_defects/CQ500-CT-370_CT BONE THIN0_sim.stl already exists. Skipping...\n",
      "    File /media/fmatzkin/data/franco/Code/datasets/cq500mesh/test/sim_defects/CQ500-CT-80_CT 0.625mm0_sim.stl already exists. Skipping...\n",
      "    File /media/fmatzkin/data/franco/Code/datasets/cq500mesh/test/sim_defects/CQ500-CT-39_CT PRE CONTRAST THIN0_sim.stl already exists. Skipping...\n",
      "    File /media/fmatzkin/data/franco/Code/datasets/cq500mesh/test/sim_defects/CQ500-CT-328_CT 0.625mm0_sim.stl already exists. Skipping...\n",
      "    File /media/fmatzkin/data/franco/Code/datasets/cq500mesh/test/sim_defects/CQ500-CT-102_CT PLAIN THIN0_sim.stl already exists. Skipping...\n",
      "    File /media/fmatzkin/data/franco/Code/datasets/cq500mesh/test/sim_defects/CQ500-CT-365_CT Thin Plain0_sim.stl already exists. Skipping...\n",
      "    File /media/fmatzkin/data/franco/Code/datasets/cq500mesh/test/sim_defects/CQ500-CT-138_CT PRE CONTRAST THIN0_sim.stl already exists. Skipping...\n",
      "    File /media/fmatzkin/data/franco/Code/datasets/cq500mesh/test/sim_defects/CQ500-CT-262_CT PLAIN THIN0_sim.stl already exists. Skipping...\n",
      "    File /media/fmatzkin/data/franco/Code/datasets/cq500mesh/test/sim_defects/CQ500-CT-462_CT Thin Plain0_sim.stl already exists. Skipping...\n",
      "    File /media/fmatzkin/data/franco/Code/datasets/cq500mesh/test/sim_defects/CQ500-CT-257_CT 0.625mm0_sim.stl already exists. Skipping...\n",
      "    File /media/fmatzkin/data/franco/Code/datasets/cq500mesh/test/sim_defects/CQ500-CT-465_CT Thin Plain0_sim.stl already exists. Skipping...\n",
      "    File /media/fmatzkin/data/franco/Code/datasets/cq500mesh/test/sim_defects/CQ500-CT-122_CT PRE CONTRAST THIN0_sim.stl already exists. Skipping...\n",
      "    File /media/fmatzkin/data/franco/Code/datasets/cq500mesh/test/sim_defects/CQ500-CT-356_CT PLAIN THIN0_sim.stl already exists. Skipping...\n",
      "    File /media/fmatzkin/data/franco/Code/datasets/cq500mesh/test/sim_defects/CQ500-CT-228_CT 4cc sec 150cc D3D on-20_sim.stl already exists. Skipping...\n",
      "    File /media/fmatzkin/data/franco/Code/datasets/cq500mesh/test/sim_defects/CQ500-CT-292_CT C THIN0_sim.stl already exists. Skipping...\n",
      "    File /media/fmatzkin/data/franco/Code/datasets/cq500mesh/test/sim_defects/CQ500-CT-488_CT 0.625mm0_sim.stl already exists. Skipping...\n",
      "    File /media/fmatzkin/data/franco/Code/datasets/cq500mesh/test/sim_defects/CQ500-CT-453_CT PLAIN THIN0_sim.stl already exists. Skipping...\n",
      "    File /media/fmatzkin/data/franco/Code/datasets/cq500mesh/test/sim_defects/CQ500-CT-12_CT Thin Plain0_sim.stl already exists. Skipping...\n",
      "    File /media/fmatzkin/data/franco/Code/datasets/cq500mesh/test/sim_defects/CQ500-CT-62_CT Thin Plain0_sim.stl already exists. Skipping...\n",
      "    File /media/fmatzkin/data/franco/Code/datasets/cq500mesh/test/sim_defects/CQ500-CT-485_CT PLAIN THIN0_sim.stl already exists. Skipping...\n",
      "    File /media/fmatzkin/data/franco/Code/datasets/cq500mesh/test/sim_defects/CQ500-CT-33_CT 4cc sec 150cc D3D on0_sim.stl already exists. Skipping...\n",
      "    File /media/fmatzkin/data/franco/Code/datasets/cq500mesh/test/sim_defects/CQ500-CT-47_CT PRE CONTRAST THIN0_sim.stl already exists. Skipping...\n"
     ]
    }
   ],
   "source": [
    "utils.nii_to_stl_marching_cubes(path_sim, path_sim, False, '_sim.nii.gz')\n",
    "paths_inp_mshs = [os.path.join(path_sim, f) for f in os.listdir(path_sim)\n",
    "                  if f.endswith('_sim.stl')]"
   ]
  },
  {
   "attachments": {},
   "cell_type": "markdown",
   "id": "bbffbd9c",
   "metadata": {},
   "source": [
    "## Align the predicted mesh using ICP"
   ]
  },
  {
   "cell_type": "code",
   "execution_count": 37,
   "id": "3076d7ff",
   "metadata": {},
   "outputs": [
    {
     "name": "stdout",
     "output_type": "stream",
     "text": [
      "[1/36] Aligning CQ500-CT-47_CT PRE CONTRAST THIN0_sim.stl to its input..\n",
      "Morphed mesh saved to /media/fmatzkin/data/franco/Code/datasets/cq500mesh/test/sim_defects/PCA_im2mesh/CQ500-CT-47_CT PRE CONTRAST THIN0_sim_corr.stl\n",
      "[2/36] Aligning CQ500-CT-49_CT PRE CONTRAST THIN0_sim.stl to its input..\n",
      "Morphed mesh saved to /media/fmatzkin/data/franco/Code/datasets/cq500mesh/test/sim_defects/PCA_im2mesh/CQ500-CT-49_CT PRE CONTRAST THIN0_sim_corr.stl\n",
      "[3/36] Aligning CQ500-CT-462_CT Thin Plain0_sim.stl to its input..\n",
      "Morphed mesh saved to /media/fmatzkin/data/franco/Code/datasets/cq500mesh/test/sim_defects/PCA_im2mesh/CQ500-CT-462_CT Thin Plain0_sim_corr.stl\n",
      "[4/36] Aligning CQ500-CT-356_CT PLAIN THIN0_sim.stl to its input..\n",
      "Morphed mesh saved to /media/fmatzkin/data/franco/Code/datasets/cq500mesh/test/sim_defects/PCA_im2mesh/CQ500-CT-356_CT PLAIN THIN0_sim_corr.stl\n",
      "[5/36] Aligning CQ500-CT-384_CT PLAIN THIN0_sim.stl to its input..\n",
      "Morphed mesh saved to /media/fmatzkin/data/franco/Code/datasets/cq500mesh/test/sim_defects/PCA_im2mesh/CQ500-CT-384_CT PLAIN THIN0_sim_corr.stl\n",
      "[6/36] Aligning CQ500-CT-292_CT C THIN0_sim.stl to its input..\n",
      "Morphed mesh saved to /media/fmatzkin/data/franco/Code/datasets/cq500mesh/test/sim_defects/PCA_im2mesh/CQ500-CT-292_CT C THIN0_sim_corr.stl\n",
      "[7/36] Aligning CQ500-CT-62_CT Thin Plain0_sim.stl to its input..\n",
      "Morphed mesh saved to /media/fmatzkin/data/franco/Code/datasets/cq500mesh/test/sim_defects/PCA_im2mesh/CQ500-CT-62_CT Thin Plain0_sim_corr.stl\n",
      "[8/36] Aligning CQ500-CT-370_CT BONE THIN0_sim.stl to its input..\n",
      "Morphed mesh saved to /media/fmatzkin/data/franco/Code/datasets/cq500mesh/test/sim_defects/PCA_im2mesh/CQ500-CT-370_CT BONE THIN0_sim_corr.stl\n",
      "[9/36] Aligning CQ500-CT-80_CT 0.625mm0_sim.stl to its input..\n",
      "Morphed mesh saved to /media/fmatzkin/data/franco/Code/datasets/cq500mesh/test/sim_defects/PCA_im2mesh/CQ500-CT-80_CT 0.625mm0_sim_corr.stl\n",
      "[10/36] Aligning CQ500-CT-138_CT PRE CONTRAST THIN0_sim.stl to its input..\n",
      "Morphed mesh saved to /media/fmatzkin/data/franco/Code/datasets/cq500mesh/test/sim_defects/PCA_im2mesh/CQ500-CT-138_CT PRE CONTRAST THIN0_sim_corr.stl\n",
      "[11/36] Aligning CQ500-CT-39_CT PRE CONTRAST THIN0_sim.stl to its input..\n",
      "Morphed mesh saved to /media/fmatzkin/data/franco/Code/datasets/cq500mesh/test/sim_defects/PCA_im2mesh/CQ500-CT-39_CT PRE CONTRAST THIN0_sim_corr.stl\n",
      "[12/36] Aligning CQ500-CT-469_CT 0.625mm0_sim.stl to its input..\n",
      "Morphed mesh saved to /media/fmatzkin/data/franco/Code/datasets/cq500mesh/test/sim_defects/PCA_im2mesh/CQ500-CT-469_CT 0.625mm0_sim_corr.stl\n",
      "[13/36] Aligning CQ500-CT-102_CT PLAIN THIN0_sim.stl to its input..\n",
      "Morphed mesh saved to /media/fmatzkin/data/franco/Code/datasets/cq500mesh/test/sim_defects/PCA_im2mesh/CQ500-CT-102_CT PLAIN THIN0_sim_corr.stl\n",
      "[14/36] Aligning CQ500-CT-122_CT PRE CONTRAST THIN0_sim.stl to its input..\n",
      "Morphed mesh saved to /media/fmatzkin/data/franco/Code/datasets/cq500mesh/test/sim_defects/PCA_im2mesh/CQ500-CT-122_CT PRE CONTRAST THIN0_sim_corr.stl\n",
      "[15/36] Aligning CQ500-CT-228_CT 4cc sec 150cc D3D on-20_sim.stl to its input..\n",
      "Morphed mesh saved to /media/fmatzkin/data/franco/Code/datasets/cq500mesh/test/sim_defects/PCA_im2mesh/CQ500-CT-228_CT 4cc sec 150cc D3D on-20_sim_corr.stl\n",
      "[16/36] Aligning CQ500-CT-241_CT PLAIN THIN0_sim.stl to its input..\n",
      "Morphed mesh saved to /media/fmatzkin/data/franco/Code/datasets/cq500mesh/test/sim_defects/PCA_im2mesh/CQ500-CT-241_CT PLAIN THIN0_sim_corr.stl\n",
      "[17/36] Aligning CQ500-CT-458_CT Thin Plain0_sim.stl to its input..\n",
      "Morphed mesh saved to /media/fmatzkin/data/franco/Code/datasets/cq500mesh/test/sim_defects/PCA_im2mesh/CQ500-CT-458_CT Thin Plain0_sim_corr.stl\n",
      "[18/36] Aligning CQ500-CT-392_CT PLAIN THIN0_sim.stl to its input..\n",
      "Morphed mesh saved to /media/fmatzkin/data/franco/Code/datasets/cq500mesh/test/sim_defects/PCA_im2mesh/CQ500-CT-392_CT PLAIN THIN0_sim_corr.stl\n",
      "[19/36] Aligning CQ500-CT-373_CT Thin Plain0_sim.stl to its input..\n",
      "Morphed mesh saved to /media/fmatzkin/data/franco/Code/datasets/cq500mesh/test/sim_defects/PCA_im2mesh/CQ500-CT-373_CT Thin Plain0_sim_corr.stl\n",
      "[20/36] Aligning CQ500-CT-328_CT 0.625mm0_sim.stl to its input..\n",
      "Morphed mesh saved to /media/fmatzkin/data/franco/Code/datasets/cq500mesh/test/sim_defects/PCA_im2mesh/CQ500-CT-328_CT 0.625mm0_sim_corr.stl\n",
      "[21/36] Aligning CQ500-CT-262_CT PLAIN THIN0_sim.stl to its input..\n"
     ]
    },
    {
     "ename": "IndexError",
     "evalue": "index 233 is outside the extent for dimension 2 with size 233",
     "output_type": "error",
     "traceback": [
      "\u001B[0;31m---------------------------------------------------------------------------\u001B[0m",
      "\u001B[0;31mIndexError\u001B[0m                                Traceback (most recent call last)",
      "\u001B[1;32m/home/fmatzkin/Code/head-rec-baselines/05-MeshOps.ipynb Cell 7\u001B[0m in \u001B[0;36m<cell line: 11>\u001B[0;34m()\u001B[0m\n\u001B[1;32m     <a href='vscode-notebook-cell://ssh-remote%2Bpc10/home/fmatzkin/Code/head-rec-baselines/05-MeshOps.ipynb#W6sdnNjb2RlLXJlbW90ZQ%3D%3D?line=25'>26</a>\u001B[0m dmp_vol \u001B[39m=\u001B[39m sitk\u001B[39m.\u001B[39mReadImage(dmap_pth)\n\u001B[1;32m     <a href='vscode-notebook-cell://ssh-remote%2Bpc10/home/fmatzkin/Code/head-rec-baselines/05-MeshOps.ipynb#W6sdnNjb2RlLXJlbW90ZQ%3D%3D?line=27'>28</a>\u001B[0m pm \u001B[39m=\u001B[39m {\n\u001B[1;32m     <a href='vscode-notebook-cell://ssh-remote%2Bpc10/home/fmatzkin/Code/head-rec-baselines/05-MeshOps.ipynb#W6sdnNjb2RlLXJlbW90ZQ%3D%3D?line=28'>29</a>\u001B[0m     \u001B[39m'\u001B[39m\u001B[39mfit_only_common\u001B[39m\u001B[39m'\u001B[39m: \u001B[39mTrue\u001B[39;00m,  \u001B[39m# only fit common points based on distance map\u001B[39;00m\n\u001B[1;32m     <a href='vscode-notebook-cell://ssh-remote%2Bpc10/home/fmatzkin/Code/head-rec-baselines/05-MeshOps.ipynb#W6sdnNjb2RlLXJlbW90ZQ%3D%3D?line=29'>30</a>\u001B[0m     \u001B[39m'\u001B[39m\u001B[39msave_path\u001B[39m\u001B[39m'\u001B[39m: otp_corr_msh_pth,  \u001B[39m# path to save the morphed mesh\u001B[39;00m\n\u001B[0;32m   (...)\u001B[0m\n\u001B[1;32m     <a href='vscode-notebook-cell://ssh-remote%2Bpc10/home/fmatzkin/Code/head-rec-baselines/05-MeshOps.ipynb#W6sdnNjb2RlLXJlbW90ZQ%3D%3D?line=32'>33</a>\u001B[0m     \u001B[39m'\u001B[39m\u001B[39mclosest_point_fit\u001B[39m\u001B[39m'\u001B[39m: \u001B[39mFalse\u001B[39;00m,  \u001B[39m# Use closest point fit (using normals)\u001B[39;00m\n\u001B[1;32m     <a href='vscode-notebook-cell://ssh-remote%2Bpc10/home/fmatzkin/Code/head-rec-baselines/05-MeshOps.ipynb#W6sdnNjb2RlLXJlbW90ZQ%3D%3D?line=33'>34</a>\u001B[0m }\n\u001B[0;32m---> <a href='vscode-notebook-cell://ssh-remote%2Bpc10/home/fmatzkin/Code/head-rec-baselines/05-MeshOps.ipynb#W6sdnNjb2RlLXJlbW90ZQ%3D%3D?line=35'>36</a>\u001B[0m mrph_msh \u001B[39m=\u001B[39m fit_mesh_dmap(otp_msh, inp_msh, dmp_vol, pm)\n",
      "File \u001B[0;32m/media/fmatzkin/data/franco/Code/head-rec-baselines/headrecbaselines/utils/VedoMorpher3.py:144\u001B[0m, in \u001B[0;36mfit_mesh_dmap\u001B[0;34m(src_mesh, tgt_mesh, distmap, params, return_morpher)\u001B[0m\n\u001B[1;32m    142\u001B[0m pm\u001B[39m.\u001B[39mupdate(params \u001B[39mor\u001B[39;00m {})\n\u001B[1;32m    143\u001B[0m mr \u001B[39m=\u001B[39m Morpher(src_mesh, tgt_mesh, distmap, pm)\n\u001B[0;32m--> 144\u001B[0m mr\u001B[39m.\u001B[39;49mmorph()\n\u001B[1;32m    145\u001B[0m \u001B[39mif\u001B[39;00m return_morpher:\n\u001B[1;32m    146\u001B[0m     \u001B[39mreturn\u001B[39;00m mr\n",
      "File \u001B[0;32m/media/fmatzkin/data/franco/Code/head-rec-baselines/headrecbaselines/utils/VedoMorpher3.py:102\u001B[0m, in \u001B[0;36mMorpher.morph\u001B[0;34m(self)\u001B[0m\n\u001B[1;32m     99\u001B[0m     \u001B[39mprint\u001B[39m(\u001B[39m\"\u001B[39m\u001B[39mNo fitting method selected\u001B[39m\u001B[39m\"\u001B[39m)\n\u001B[1;32m    100\u001B[0m     \u001B[39mreturn\u001B[39;00m \u001B[39mNone\u001B[39;00m\n\u001B[0;32m--> 102\u001B[0m \u001B[39mself\u001B[39;49m\u001B[39m.\u001B[39;49micp_align() \u001B[39mif\u001B[39;00m icp \u001B[39melse\u001B[39;00m \u001B[39mNone\u001B[39;00m  \u001B[39m# Adjust source points\u001B[39;00m\n\u001B[1;32m    103\u001B[0m \u001B[39mself\u001B[39m\u001B[39m.\u001B[39mmorphed \u001B[39m=\u001B[39m \u001B[39mself\u001B[39m\u001B[39m.\u001B[39msource \u001B[39mif\u001B[39;00m \u001B[39mnot\u001B[39;00m cp_fit \u001B[39melse\u001B[39;00m \u001B[39mself\u001B[39m\u001B[39m.\u001B[39mclosest_point_fit()\n\u001B[1;32m    105\u001B[0m \u001B[39mself\u001B[39m\u001B[39m.\u001B[39mwrite()\n",
      "File \u001B[0;32m/media/fmatzkin/data/franco/Code/head-rec-baselines/headrecbaselines/utils/VedoMorpher3.py:112\u001B[0m, in \u001B[0;36mMorpher.icp_align\u001B[0;34m(self)\u001B[0m\n\u001B[1;32m    110\u001B[0m \u001B[39mself\u001B[39m\u001B[39m.\u001B[39mold_source \u001B[39m=\u001B[39m \u001B[39mself\u001B[39m\u001B[39m.\u001B[39msource\u001B[39m.\u001B[39mclone()\n\u001B[1;32m    111\u001B[0m \u001B[39mfor\u001B[39;00m i, point \u001B[39min\u001B[39;00m \u001B[39menumerate\u001B[39m(\u001B[39mself\u001B[39m\u001B[39m.\u001B[39msource\u001B[39m.\u001B[39mpoints()):\n\u001B[0;32m--> 112\u001B[0m     \u001B[39mif\u001B[39;00m \u001B[39mself\u001B[39;49m\u001B[39m.\u001B[39;49mfar_from_skull(point):  \u001B[39m# Far points remain static\u001B[39;00m\n\u001B[1;32m    113\u001B[0m         s_points[i] \u001B[39m=\u001B[39m point\n\u001B[1;32m    114\u001B[0m     \u001B[39melse\u001B[39;00m:\n",
      "File \u001B[0;32m/media/fmatzkin/data/franco/Code/head-rec-baselines/headrecbaselines/utils/VedoMorpher3.py:42\u001B[0m, in \u001B[0;36mMorpher.far_from_skull\u001B[0;34m(self, coords)\u001B[0m\n\u001B[1;32m     40\u001B[0m t_coords \u001B[39m=\u001B[39m \u001B[39mtuple\u001B[39m([\u001B[39mfloat\u001B[39m(p) \u001B[39mfor\u001B[39;00m p \u001B[39min\u001B[39;00m coords])  \u001B[39m# To tuple and cast\u001B[39;00m\n\u001B[1;32m     41\u001B[0m point \u001B[39m=\u001B[39m \u001B[39mself\u001B[39m\u001B[39m.\u001B[39mdistmap\u001B[39m.\u001B[39mTransformPhysicalPointToIndex(t_coords)\n\u001B[0;32m---> 42\u001B[0m \u001B[39mif\u001B[39;00m \u001B[39mself\u001B[39;49m\u001B[39m.\u001B[39;49mdistmap[point] \u001B[39m>\u001B[39m \u001B[39mself\u001B[39m\u001B[39m.\u001B[39mpm[\u001B[39m'\u001B[39m\u001B[39mdm_threshold\u001B[39m\u001B[39m'\u001B[39m]:\n\u001B[1;32m     43\u001B[0m     \u001B[39mreturn\u001B[39;00m \u001B[39mTrue\u001B[39;00m\n",
      "File \u001B[0;32m~/Code/envs/anaconda3/envs/msr/lib/python3.8/site-packages/SimpleITK/SimpleITK.py:4275\u001B[0m, in \u001B[0;36mImage.__getitem__\u001B[0;34m(self, idx)\u001B[0m\n\u001B[1;32m   4273\u001B[0m       \u001B[39mfor\u001B[39;00m i \u001B[39min\u001B[39;00m \u001B[39mrange\u001B[39m(\u001B[39mlen\u001B[39m(idx)):\n\u001B[1;32m   4274\u001B[0m         \u001B[39mif\u001B[39;00m idx[i] \u001B[39m<\u001B[39m \u001B[39m0\u001B[39m \u001B[39mor\u001B[39;00m idx[i] \u001B[39m>\u001B[39m\u001B[39m=\u001B[39m size[i]:\n\u001B[0;32m-> 4275\u001B[0m           \u001B[39mraise\u001B[39;00m \u001B[39mIndexError\u001B[39;00m(\u001B[39m\"\u001B[39m\u001B[39mindex \u001B[39m\u001B[39m{0}\u001B[39;00m\u001B[39m is outside the extent for dimension \u001B[39m\u001B[39m{1}\u001B[39;00m\u001B[39m with size \u001B[39m\u001B[39m{2}\u001B[39;00m\u001B[39m\"\u001B[39m\u001B[39m.\u001B[39mformat( idx[i], i, size[i]))\n\u001B[1;32m   4277\u001B[0m       \u001B[39mreturn\u001B[39;00m \u001B[39mself\u001B[39m\u001B[39m.\u001B[39mGetPixel(\u001B[39m*\u001B[39m\u001B[39mtuple\u001B[39m(idx))\n\u001B[1;32m   4280\u001B[0m \u001B[39m# If an index is an integer then we are extracting to a small dimension\u001B[39;00m\n",
      "\u001B[0;31mIndexError\u001B[0m: index 233 is outside the extent for dimension 2 with size 233"
     ]
    }
   ],
   "source": [
    "import vedo\n",
    "import SimpleITK as sitk\n",
    "from headrecbaselines.utils.VedoMorpher3 import fit_mesh_dmap\n",
    "\n",
    "corr_meshes_path = []  # TODO Crear dsp usando listdir y endswith\n",
    "# Simulated meshes paths\n",
    "meshes_paths = [os.path.join(path_rec_sim, f)\n",
    "                for f in os.listdir(path_rec_sim) if f.endswith('_sim.stl')]\n",
    "\n",
    "n_mshs = len(meshes_paths)\n",
    "for i, otp_msh_pth in enumerate(meshes_paths):\n",
    "    msh_fn = os.path.split(otp_msh_pth)[1]\n",
    "    otp_corr_msh_pth = os.path.join(path_rec_sim, \n",
    "                                    msh_fn.replace('.stl', '_corr.stl'))\n",
    "    inp_msh_pth = os.path.join(path_sim, msh_fn)\n",
    "    dmap_pth = os.path.join(path_sim, \n",
    "                            msh_fn.replace('.stl', '_distmap.nii.gz'))\n",
    "    \n",
    "    print(f'[{i+1}/{n_mshs}] Aligning {msh_fn} to its input..')\n",
    "    \n",
    "    if not os.path.exists(inp_msh_pth):\n",
    "        print(f'Input not found for {msh_fn}')\n",
    "        continue\n",
    "    otp_msh = vedo.Mesh(otp_msh_pth)\n",
    "    inp_msh = vedo.Mesh(inp_msh_pth)\n",
    "    dmp_vol = sitk.ReadImage(dmap_pth)\n",
    "    \n",
    "    pm = {\n",
    "        'fit_only_common': True,  # only fit common points based on distance map\n",
    "        'save_path': otp_corr_msh_pth,  # path to save the morphed mesh\n",
    "        'dm_threshold': 0.5,  # distance map threshold\n",
    "        'icp': True,  # Use ICP before to fit the meshes\n",
    "        'closest_point_fit': False,  # Use closest point fit (using normals)\n",
    "    }\n",
    "    \n",
    "    mrph_msh = fit_mesh_dmap(otp_msh, inp_msh, dmp_vol, pm)  # Morphed mesh"
   ]
  },
  {
   "cell_type": "code",
   "execution_count": null,
   "id": "1be055af",
   "metadata": {
    "pycharm": {
     "is_executing": true
    }
   },
   "outputs": [],
   "source": [
    "import vedo\n",
    "inpmesh = vedo.Mesh('/media/fmatzkin/data/franco/Code/datasets/cq500mesh/test/sim_defects/CQ500-CT-80_CT 0.625mm0_sim.stl')\n",
    "predmesh = vedo.Mesh('/media/fmatzkin/data/franco/Code/datasets/cq500mesh/test/sim_defects/PCA_im2mesh/CQ500-CT-80_CT 0.625mm0_sim.stl')\n"
   ]
  },
  {
   "cell_type": "code",
   "execution_count": null,
   "id": "917b7100",
   "metadata": {
    "pycharm": {
     "is_executing": true
    }
   },
   "outputs": [],
   "source": [
    "predmesh.show()"
   ]
  },
  {
   "cell_type": "code",
   "execution_count": 6,
   "id": "a1dd32ba",
   "metadata": {},
   "outputs": [
    {
     "ename": "KeyboardInterrupt",
     "evalue": "",
     "output_type": "error",
     "traceback": [
      "\u001B[0;31m---------------------------------------------------------------------------\u001B[0m",
      "\u001B[0;31mKeyboardInterrupt\u001B[0m                         Traceback (most recent call last)",
      "\u001B[1;32m/home/fmatzkin/Code/head-rec-baselines/05-MeshOps.ipynb Cell 9\u001B[0m in \u001B[0;36m<cell line: 3>\u001B[0;34m()\u001B[0m\n\u001B[1;32m      <a href='vscode-notebook-cell://ssh-remote%2Bpc10/home/fmatzkin/Code/head-rec-baselines/05-MeshOps.ipynb#X10sdnNjb2RlLXJlbW90ZQ%3D%3D?line=1'>2</a>\u001B[0m arrs \u001B[39m=\u001B[39m []\n\u001B[1;32m      <a href='vscode-notebook-cell://ssh-remote%2Bpc10/home/fmatzkin/Code/head-rec-baselines/05-MeshOps.ipynb#X10sdnNjb2RlLXJlbW90ZQ%3D%3D?line=2'>3</a>\u001B[0m \u001B[39mfor\u001B[39;00m i, pt \u001B[39min\u001B[39;00m \u001B[39menumerate\u001B[39m(inpmesh\u001B[39m.\u001B[39mpoints()):\n\u001B[0;32m----> <a href='vscode-notebook-cell://ssh-remote%2Bpc10/home/fmatzkin/Code/head-rec-baselines/05-MeshOps.ipynb#X10sdnNjb2RlLXJlbW90ZQ%3D%3D?line=3'>4</a>\u001B[0m     arrs\u001B[39m.\u001B[39mappend([pt, pt \u001B[39m+\u001B[39m inpmesh\u001B[39m.\u001B[39;49mnormals()[i] \u001B[39m*\u001B[39m \u001B[39m10\u001B[39m])\n\u001B[1;32m      <a href='vscode-notebook-cell://ssh-remote%2Bpc10/home/fmatzkin/Code/head-rec-baselines/05-MeshOps.ipynb#X10sdnNjb2RlLXJlbW90ZQ%3D%3D?line=4'>5</a>\u001B[0m v_arrs \u001B[39m=\u001B[39m vedo\u001B[39m.\u001B[39mArrows(arrs)\n\u001B[1;32m      <a href='vscode-notebook-cell://ssh-remote%2Bpc10/home/fmatzkin/Code/head-rec-baselines/05-MeshOps.ipynb#X10sdnNjb2RlLXJlbW90ZQ%3D%3D?line=5'>6</a>\u001B[0m vedo\u001B[39m.\u001B[39mshow(inpmesh, v_arrs)\u001B[39m.\u001B[39mclose()\n",
      "File \u001B[0;32m~/Code/envs/anaconda3/envs/msr/lib/python3.8/site-packages/vedo/pointcloud.py:1512\u001B[0m, in \u001B[0;36mPoints.normals\u001B[0;34m(self, cells, recompute)\u001B[0m\n\u001B[1;32m   1510\u001B[0m     vtknormals \u001B[39m=\u001B[39m \u001B[39mself\u001B[39m\u001B[39m.\u001B[39mpolydata()\u001B[39m.\u001B[39mGetCellData()\u001B[39m.\u001B[39mGetNormals()\n\u001B[1;32m   1511\u001B[0m \u001B[39melse\u001B[39;00m:\n\u001B[0;32m-> 1512\u001B[0m     vtknormals \u001B[39m=\u001B[39m \u001B[39mself\u001B[39;49m\u001B[39m.\u001B[39;49mpolydata()\u001B[39m.\u001B[39mGetPointData()\u001B[39m.\u001B[39mGetNormals()\n\u001B[1;32m   1513\u001B[0m \u001B[39mif\u001B[39;00m \u001B[39mnot\u001B[39;00m vtknormals \u001B[39mand\u001B[39;00m recompute:\n\u001B[1;32m   1514\u001B[0m     \u001B[39mtry\u001B[39;00m:\n",
      "File \u001B[0;32m~/Code/envs/anaconda3/envs/msr/lib/python3.8/site-packages/vedo/pointcloud.py:898\u001B[0m, in \u001B[0;36mPoints.polydata\u001B[0;34m(self, transformed)\u001B[0m\n\u001B[1;32m    896\u001B[0m     tp\u001B[39m.\u001B[39mSetTransform(transform)\n\u001B[1;32m    897\u001B[0m     tp\u001B[39m.\u001B[39mSetInputData(\u001B[39mself\u001B[39m\u001B[39m.\u001B[39m_data)\n\u001B[0;32m--> 898\u001B[0m     tp\u001B[39m.\u001B[39;49mUpdate()\n\u001B[1;32m    899\u001B[0m     \u001B[39mreturn\u001B[39;00m tp\u001B[39m.\u001B[39mGetOutput()\n\u001B[1;32m    901\u001B[0m \u001B[39mreturn\u001B[39;00m \u001B[39mself\u001B[39m\u001B[39m.\u001B[39m_data\n",
      "\u001B[0;31mKeyboardInterrupt\u001B[0m: "
     ]
    }
   ],
   "source": [
    "# Draw an arrow for each normal of the inpmesh\n",
    "arrs = []\n",
    "for i, pt in enumerate(inpmesh.points()):\n",
    "    arrs.append([pt, pt + inpmesh.normals()[i] * 10])\n",
    "v_arrs = vedo.Arrows(arrs)\n",
    "vedo.show(inpmesh, v_arrs).close()"
   ]
  },
  {
   "cell_type": "code",
   "execution_count": 7,
   "id": "7b61f01d",
   "metadata": {},
   "outputs": [
    {
     "ename": "",
     "evalue": "",
     "output_type": "error",
     "traceback": [
      "\u001B[1;31mCanceled future for execute_request message before replies were done"
     ]
    },
    {
     "ename": "",
     "evalue": "",
     "output_type": "error",
     "traceback": [
      "\u001B[1;31mThe Kernel crashed while executing code in the the current cell or a previous cell. Please review the code in the cell(s) to identify a possible cause of the failure. Click <a href='https://aka.ms/vscodeJupyterKernelCrash'>here</a> for more info. View Jupyter <a href='command:jupyter.viewOutput'>log</a> for further details."
     ]
    }
   ],
   "source": [
    "# Draw an arrow for each normal of the prediction meshq\n",
    "arrs = []\n",
    "for i, pt in enumerate(predmesh.points()):\n",
    "    arrs.append([pt, pt + predmesh.normals()[i] * 10])\n",
    "v_arrs = vedo.Arrows(arrs)\n",
    "vedo.show(predmesh, v_arrs).close()"
   ]
  },
  {
   "cell_type": "code",
   "execution_count": null,
   "id": "00dd7475",
   "metadata": {},
   "outputs": [],
   "source": [
    "import trimesh\n",
    "trimesh.load_mesh()"
   ]
  },
  {
   "attachments": {},
   "cell_type": "markdown",
   "id": "f446222c",
   "metadata": {
    "collapsed": false
   },
   "source": [
    "## Convert meshes to volumes\n",
    "Using as a reference the image CQ500-CT-0_CT PLAIN THIN.nii.gz of the training split (for dims/metadata), binarize the meshes and save them as volumes (.nii)."
   ]
  },
  {
   "cell_type": "code",
   "execution_count": null,
   "id": "bd42bca2",
   "metadata": {
    "collapsed": false
   },
   "outputs": [
    {
     "name": "stderr",
     "output_type": "stream",
     "text": [
      "/home/fmatzkin/Code/envs/anaconda3/envs/msr/lib/python3.8/site-packages/tqdm/auto.py:22: TqdmWarning: IProgress not found. Please update jupyter and ipywidgets. See https://ipywidgets.readthedocs.io/en/stable/user_install.html\n",
      "  from .autonotebook import tqdm as notebook_tqdm\n"
     ]
    },
    {
     "name": "stdout",
     "output_type": "stream",
     "text": [
      "Binarizing /media/fmatzkin/data/franco/Code/datasets/cq500mesh/test/sim_defects/PCA_im2mesh/CQ500-CT-47_CT PRE CONTRAST THIN0_sim.stl..done.\n",
      "Binarizing /media/fmatzkin/data/franco/Code/datasets/cq500mesh/test/sim_defects/PCA_im2mesh/CQ500-CT-49_CT PRE CONTRAST THIN0_sim.stl..  file /media/fmatzkin/data/franco/Code/datasets/cq500mesh/test/sim_defects/PCA_im2mesh/CQ500-CT-49_CT PRE CONTRAST THIN0_sim_binMesh.nii.gz already exists.\n",
      "Binarizing /media/fmatzkin/data/franco/Code/datasets/cq500mesh/test/sim_defects/PCA_im2mesh/CQ500-CT-462_CT Thin Plain0_sim.stl..  file /media/fmatzkin/data/franco/Code/datasets/cq500mesh/test/sim_defects/PCA_im2mesh/CQ500-CT-462_CT Thin Plain0_sim_binMesh.nii.gz already exists.\n",
      "Binarizing /media/fmatzkin/data/franco/Code/datasets/cq500mesh/test/sim_defects/PCA_im2mesh/CQ500-CT-356_CT PLAIN THIN0_sim.stl..  file /media/fmatzkin/data/franco/Code/datasets/cq500mesh/test/sim_defects/PCA_im2mesh/CQ500-CT-356_CT PLAIN THIN0_sim_binMesh.nii.gz already exists.\n",
      "Binarizing /media/fmatzkin/data/franco/Code/datasets/cq500mesh/test/sim_defects/PCA_im2mesh/CQ500-CT-384_CT PLAIN THIN0_sim.stl..  file /media/fmatzkin/data/franco/Code/datasets/cq500mesh/test/sim_defects/PCA_im2mesh/CQ500-CT-384_CT PLAIN THIN0_sim_binMesh.nii.gz already exists.\n",
      "Binarizing /media/fmatzkin/data/franco/Code/datasets/cq500mesh/test/sim_defects/PCA_im2mesh/CQ500-CT-292_CT C THIN0_sim.stl..  file /media/fmatzkin/data/franco/Code/datasets/cq500mesh/test/sim_defects/PCA_im2mesh/CQ500-CT-292_CT C THIN0_sim_binMesh.nii.gz already exists.\n",
      "Binarizing /media/fmatzkin/data/franco/Code/datasets/cq500mesh/test/sim_defects/PCA_im2mesh/CQ500-CT-62_CT Thin Plain0_sim.stl..  file /media/fmatzkin/data/franco/Code/datasets/cq500mesh/test/sim_defects/PCA_im2mesh/CQ500-CT-62_CT Thin Plain0_sim_binMesh.nii.gz already exists.\n",
      "Binarizing /media/fmatzkin/data/franco/Code/datasets/cq500mesh/test/sim_defects/PCA_im2mesh/CQ500-CT-370_CT BONE THIN0_sim.stl..  file /media/fmatzkin/data/franco/Code/datasets/cq500mesh/test/sim_defects/PCA_im2mesh/CQ500-CT-370_CT BONE THIN0_sim_binMesh.nii.gz already exists.\n",
      "Binarizing /media/fmatzkin/data/franco/Code/datasets/cq500mesh/test/sim_defects/PCA_im2mesh/CQ500-CT-80_CT 0.625mm0_sim.stl..  file /media/fmatzkin/data/franco/Code/datasets/cq500mesh/test/sim_defects/PCA_im2mesh/CQ500-CT-80_CT 0.625mm0_sim_binMesh.nii.gz already exists.\n",
      "Binarizing /media/fmatzkin/data/franco/Code/datasets/cq500mesh/test/sim_defects/PCA_im2mesh/CQ500-CT-138_CT PRE CONTRAST THIN0_sim.stl..  file /media/fmatzkin/data/franco/Code/datasets/cq500mesh/test/sim_defects/PCA_im2mesh/CQ500-CT-138_CT PRE CONTRAST THIN0_sim_binMesh.nii.gz already exists.\n",
      "Binarizing /media/fmatzkin/data/franco/Code/datasets/cq500mesh/test/sim_defects/PCA_im2mesh/CQ500-CT-39_CT PRE CONTRAST THIN0_sim.stl..  file /media/fmatzkin/data/franco/Code/datasets/cq500mesh/test/sim_defects/PCA_im2mesh/CQ500-CT-39_CT PRE CONTRAST THIN0_sim_binMesh.nii.gz already exists.\n",
      "Binarizing /media/fmatzkin/data/franco/Code/datasets/cq500mesh/test/sim_defects/PCA_im2mesh/CQ500-CT-469_CT 0.625mm0_sim.stl..  file /media/fmatzkin/data/franco/Code/datasets/cq500mesh/test/sim_defects/PCA_im2mesh/CQ500-CT-469_CT 0.625mm0_sim_binMesh.nii.gz already exists.\n",
      "Binarizing /media/fmatzkin/data/franco/Code/datasets/cq500mesh/test/sim_defects/PCA_im2mesh/CQ500-CT-102_CT PLAIN THIN0_sim.stl..  file /media/fmatzkin/data/franco/Code/datasets/cq500mesh/test/sim_defects/PCA_im2mesh/CQ500-CT-102_CT PLAIN THIN0_sim_binMesh.nii.gz already exists.\n",
      "Binarizing /media/fmatzkin/data/franco/Code/datasets/cq500mesh/test/sim_defects/PCA_im2mesh/CQ500-CT-122_CT PRE CONTRAST THIN0_sim.stl..  file /media/fmatzkin/data/franco/Code/datasets/cq500mesh/test/sim_defects/PCA_im2mesh/CQ500-CT-122_CT PRE CONTRAST THIN0_sim_binMesh.nii.gz already exists.\n",
      "Binarizing /media/fmatzkin/data/franco/Code/datasets/cq500mesh/test/sim_defects/PCA_im2mesh/CQ500-CT-228_CT 4cc sec 150cc D3D on-20_sim.stl..  file /media/fmatzkin/data/franco/Code/datasets/cq500mesh/test/sim_defects/PCA_im2mesh/CQ500-CT-228_CT 4cc sec 150cc D3D on-20_sim_binMesh.nii.gz already exists.\n",
      "Binarizing /media/fmatzkin/data/franco/Code/datasets/cq500mesh/test/sim_defects/PCA_im2mesh/CQ500-CT-241_CT PLAIN THIN0_sim.stl..  file /media/fmatzkin/data/franco/Code/datasets/cq500mesh/test/sim_defects/PCA_im2mesh/CQ500-CT-241_CT PLAIN THIN0_sim_binMesh.nii.gz already exists.\n",
      "Binarizing /media/fmatzkin/data/franco/Code/datasets/cq500mesh/test/sim_defects/PCA_im2mesh/CQ500-CT-458_CT Thin Plain0_sim.stl..  file /media/fmatzkin/data/franco/Code/datasets/cq500mesh/test/sim_defects/PCA_im2mesh/CQ500-CT-458_CT Thin Plain0_sim_binMesh.nii.gz already exists.\n",
      "Binarizing /media/fmatzkin/data/franco/Code/datasets/cq500mesh/test/sim_defects/PCA_im2mesh/CQ500-CT-392_CT PLAIN THIN0_sim.stl..  file /media/fmatzkin/data/franco/Code/datasets/cq500mesh/test/sim_defects/PCA_im2mesh/CQ500-CT-392_CT PLAIN THIN0_sim_binMesh.nii.gz already exists.\n",
      "Binarizing /media/fmatzkin/data/franco/Code/datasets/cq500mesh/test/sim_defects/PCA_im2mesh/CQ500-CT-373_CT Thin Plain0_sim.stl..  file /media/fmatzkin/data/franco/Code/datasets/cq500mesh/test/sim_defects/PCA_im2mesh/CQ500-CT-373_CT Thin Plain0_sim_binMesh.nii.gz already exists.\n",
      "Binarizing /media/fmatzkin/data/franco/Code/datasets/cq500mesh/test/sim_defects/PCA_im2mesh/CQ500-CT-328_CT 0.625mm0_sim.stl..  file /media/fmatzkin/data/franco/Code/datasets/cq500mesh/test/sim_defects/PCA_im2mesh/CQ500-CT-328_CT 0.625mm0_sim_binMesh.nii.gz already exists.\n",
      "Binarizing /media/fmatzkin/data/franco/Code/datasets/cq500mesh/test/sim_defects/PCA_im2mesh/CQ500-CT-262_CT PLAIN THIN0_sim.stl..  file /media/fmatzkin/data/franco/Code/datasets/cq500mesh/test/sim_defects/PCA_im2mesh/CQ500-CT-262_CT PLAIN THIN0_sim_binMesh.nii.gz already exists.\n",
      "Binarizing /media/fmatzkin/data/franco/Code/datasets/cq500mesh/test/sim_defects/PCA_im2mesh/CQ500-CT-33_CT 4cc sec 150cc D3D on0_sim.stl..  file /media/fmatzkin/data/franco/Code/datasets/cq500mesh/test/sim_defects/PCA_im2mesh/CQ500-CT-33_CT 4cc sec 150cc D3D on0_sim_binMesh.nii.gz already exists.\n",
      "Binarizing /media/fmatzkin/data/franco/Code/datasets/cq500mesh/test/sim_defects/PCA_im2mesh/CQ500-CT-453_CT PLAIN THIN0_sim.stl..  file /media/fmatzkin/data/franco/Code/datasets/cq500mesh/test/sim_defects/PCA_im2mesh/CQ500-CT-453_CT PLAIN THIN0_sim_binMesh.nii.gz already exists.\n",
      "Binarizing /media/fmatzkin/data/franco/Code/datasets/cq500mesh/test/sim_defects/PCA_im2mesh/CQ500-CT-105_CT I To S0_sim.stl..  file /media/fmatzkin/data/franco/Code/datasets/cq500mesh/test/sim_defects/PCA_im2mesh/CQ500-CT-105_CT I To S0_sim_binMesh.nii.gz already exists.\n",
      "Binarizing /media/fmatzkin/data/franco/Code/datasets/cq500mesh/test/sim_defects/PCA_im2mesh/CQ500-CT-257_CT 0.625mm0_sim.stl..  file /media/fmatzkin/data/franco/Code/datasets/cq500mesh/test/sim_defects/PCA_im2mesh/CQ500-CT-257_CT 0.625mm0_sim_binMesh.nii.gz already exists.\n",
      "Binarizing /media/fmatzkin/data/franco/Code/datasets/cq500mesh/test/sim_defects/PCA_im2mesh/CQ500-CT-488_CT 0.625mm0_sim.stl..  file /media/fmatzkin/data/franco/Code/datasets/cq500mesh/test/sim_defects/PCA_im2mesh/CQ500-CT-488_CT 0.625mm0_sim_binMesh.nii.gz already exists.\n",
      "Binarizing /media/fmatzkin/data/franco/Code/datasets/cq500mesh/test/sim_defects/PCA_im2mesh/CQ500-CT-195_CT PRE CONTRAST THIN0_sim.stl..  file /media/fmatzkin/data/franco/Code/datasets/cq500mesh/test/sim_defects/PCA_im2mesh/CQ500-CT-195_CT PRE CONTRAST THIN0_sim_binMesh.nii.gz already exists.\n",
      "Binarizing /media/fmatzkin/data/franco/Code/datasets/cq500mesh/test/sim_defects/PCA_im2mesh/CQ500-CT-308_CT PLAIN THIN0_sim.stl..  file /media/fmatzkin/data/franco/Code/datasets/cq500mesh/test/sim_defects/PCA_im2mesh/CQ500-CT-308_CT PLAIN THIN0_sim_binMesh.nii.gz already exists.\n",
      "Binarizing /media/fmatzkin/data/franco/Code/datasets/cq500mesh/test/sim_defects/PCA_im2mesh/CQ500-CT-444_CT Thin Plain0_sim_morphed1.5.stl..  file /media/fmatzkin/data/franco/Code/datasets/cq500mesh/test/sim_defects/PCA_im2mesh/CQ500-CT-444_CT Thin Plain0_sim_morphed1.5_binMesh.nii.gz already exists.\n",
      "Binarizing /media/fmatzkin/data/franco/Code/datasets/cq500mesh/test/sim_defects/PCA_im2mesh/CQ500-CT-444_CT Thin Plain0_sim.stl..  file /media/fmatzkin/data/franco/Code/datasets/cq500mesh/test/sim_defects/PCA_im2mesh/CQ500-CT-444_CT Thin Plain0_sim_binMesh.nii.gz already exists.\n",
      "Binarizing /media/fmatzkin/data/franco/Code/datasets/cq500mesh/test/sim_defects/PCA_im2mesh/CQ500-CT-465_CT Thin Plain0_sim.stl..  file /media/fmatzkin/data/franco/Code/datasets/cq500mesh/test/sim_defects/PCA_im2mesh/CQ500-CT-465_CT Thin Plain0_sim_binMesh.nii.gz already exists.\n",
      "Binarizing /media/fmatzkin/data/franco/Code/datasets/cq500mesh/test/sim_defects/PCA_im2mesh/CQ500-CT-287_CT Thin Plain0_sim.stl..  file /media/fmatzkin/data/franco/Code/datasets/cq500mesh/test/sim_defects/PCA_im2mesh/CQ500-CT-287_CT Thin Plain0_sim_binMesh.nii.gz already exists.\n",
      "Binarizing /media/fmatzkin/data/franco/Code/datasets/cq500mesh/test/sim_defects/PCA_im2mesh/CQ500-CT-12_CT Thin Plain0_sim.stl..  file /media/fmatzkin/data/franco/Code/datasets/cq500mesh/test/sim_defects/PCA_im2mesh/CQ500-CT-12_CT Thin Plain0_sim_binMesh.nii.gz already exists.\n",
      "Binarizing /media/fmatzkin/data/franco/Code/datasets/cq500mesh/test/sim_defects/PCA_im2mesh/CQ500-CT-444_CT Thin Plain0_sim_morphed.stl..  file /media/fmatzkin/data/franco/Code/datasets/cq500mesh/test/sim_defects/PCA_im2mesh/CQ500-CT-444_CT Thin Plain0_sim_morphed_binMesh.nii.gz already exists.\n",
      "Binarizing /media/fmatzkin/data/franco/Code/datasets/cq500mesh/test/sim_defects/PCA_im2mesh/CQ500-CT-365_CT Thin Plain0_sim.stl..  file /media/fmatzkin/data/franco/Code/datasets/cq500mesh/test/sim_defects/PCA_im2mesh/CQ500-CT-365_CT Thin Plain0_sim_binMesh.nii.gz already exists.\n",
      "Binarizing /media/fmatzkin/data/franco/Code/datasets/cq500mesh/test/sim_defects/PCA_im2mesh/CQ500-CT-67_CT BONE0_sim.stl..  file /media/fmatzkin/data/franco/Code/datasets/cq500mesh/test/sim_defects/PCA_im2mesh/CQ500-CT-67_CT BONE0_sim_binMesh.nii.gz already exists.\n",
      "Binarizing /media/fmatzkin/data/franco/Code/datasets/cq500mesh/test/sim_defects/PCA_im2mesh/CQ500-CT-103_CT Thin Plain0_sim.stl..  file /media/fmatzkin/data/franco/Code/datasets/cq500mesh/test/sim_defects/PCA_im2mesh/CQ500-CT-103_CT Thin Plain0_sim_binMesh.nii.gz already exists.\n",
      "Binarizing /media/fmatzkin/data/franco/Code/datasets/cq500mesh/test/sim_defects/PCA_im2mesh/CQ500-CT-485_CT PLAIN THIN0_sim.stl..  file /media/fmatzkin/data/franco/Code/datasets/cq500mesh/test/sim_defects/PCA_im2mesh/CQ500-CT-485_CT PLAIN THIN0_sim_binMesh.nii.gz already exists.\n"
     ]
    }
   ],
   "source": [
    "from headrecbaselines.utils.utils import mesh2vol\n",
    "\n",
    "ref_im = os.path.join(path_imgs, 'CQ500-CT-0_CT PLAIN THIN.nii.gz')\n",
    "\n",
    "for mesh in corr_meshes_path:\n",
    "    mesh2vol(mesh, ref_im)"
   ]
  }
 ],
 "metadata": {
  "kernelspec": {
   "display_name": "msr",
   "language": "python",
   "name": "pythonjvsc74a57bd09e6b65c57b1c8af1a73d27215daa1c40186b26c29db712dc321f6af0802f5ee4"
  },
  "language_info": {
   "codemirror_mode": {
    "name": "ipython",
    "version": 3
   },
   "file_extension": ".py",
   "mimetype": "text/x-python",
   "name": "python",
   "nbconvert_exporter": "python",
   "pygments_lexer": "ipython3",
   "version": "3.8.13"
  },
  "vscode": {
   "interpreter": {
    "hash": "9e6b65c57b1c8af1a73d27215daa1c40186b26c29db712dc321f6af0802f5ee4"
   }
  }
 },
 "nbformat": 4,
 "nbformat_minor": 5
}
