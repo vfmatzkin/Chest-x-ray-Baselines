{
 "cells": [
  {
   "cell_type": "code",
   "execution_count": 1,
   "id": "7257c989",
   "metadata": {},
   "outputs": [],
   "source": [
    "%load_ext autoreload\n",
    "%autoreload 2"
   ]
  },
  {
   "cell_type": "markdown",
   "source": [
    "## Simulate cranial defects"
   ],
   "metadata": {
    "collapsed": false
   }
  },
  {
   "cell_type": "code",
   "execution_count": 1,
   "outputs": [
    {
     "name": "stdout",
     "output_type": "stream",
     "text": [
      "Folder: /home/fmatzkin/Code/Chest-xray-landmark-dataset/Images/test\n",
      "Input: /home/fmatzkin/Code/Chest-xray-landmark-dataset/Images/test/CQ500-CT-370_CT BONE THIN.nii.gz.\n",
      "  Saved: /home/fmatzkin/Code/Chest-xray-landmark-dataset/Images/test/augm/CQ500-CT-370_CT BONE THIN0_sim.nii.gz.\n",
      "  Saved: /home/fmatzkin/Code/Chest-xray-landmark-dataset/Images/test/augm/CQ500-CT-370_CT BONE THIN1_sim.nii.gz.\n",
      "Input: /home/fmatzkin/Code/Chest-xray-landmark-dataset/Images/test/CQ500-CT-356_CT PLAIN THIN.nii.gz.\n",
      "  Saved: /home/fmatzkin/Code/Chest-xray-landmark-dataset/Images/test/augm/CQ500-CT-356_CT PLAIN THIN0_sim.nii.gz.\n",
      "  Saved: /home/fmatzkin/Code/Chest-xray-landmark-dataset/Images/test/augm/CQ500-CT-356_CT PLAIN THIN1_sim.nii.gz.\n",
      "Input: /home/fmatzkin/Code/Chest-xray-landmark-dataset/Images/test/CQ500-CT-469_CT 0.625mm.nii.gz.\n",
      "  Saved: /home/fmatzkin/Code/Chest-xray-landmark-dataset/Images/test/augm/CQ500-CT-469_CT 0.625mm0_sim.nii.gz.\n",
      "  Saved: /home/fmatzkin/Code/Chest-xray-landmark-dataset/Images/test/augm/CQ500-CT-469_CT 0.625mm1_sim.nii.gz.\n",
      "Input: /home/fmatzkin/Code/Chest-xray-landmark-dataset/Images/test/CQ500-CT-241_CT PLAIN THIN.nii.gz.\n",
      "  Saved: /home/fmatzkin/Code/Chest-xray-landmark-dataset/Images/test/augm/CQ500-CT-241_CT PLAIN THIN0_sim.nii.gz.\n",
      "  Saved: /home/fmatzkin/Code/Chest-xray-landmark-dataset/Images/test/augm/CQ500-CT-241_CT PLAIN THIN1_sim.nii.gz.\n",
      "Input: /home/fmatzkin/Code/Chest-xray-landmark-dataset/Images/test/CQ500-CT-228_CT 4cc sec 150cc D3D on-2.nii.gz.\n",
      "  Saved: /home/fmatzkin/Code/Chest-xray-landmark-dataset/Images/test/augm/CQ500-CT-228_CT 4cc sec 150cc D3D on-20_sim.nii.gz.\n",
      "  Saved: /home/fmatzkin/Code/Chest-xray-landmark-dataset/Images/test/augm/CQ500-CT-228_CT 4cc sec 150cc D3D on-21_sim.nii.gz.\n",
      "Input: /home/fmatzkin/Code/Chest-xray-landmark-dataset/Images/test/CQ500-CT-328_CT 0.625mm.nii.gz.\n",
      "  Saved: /home/fmatzkin/Code/Chest-xray-landmark-dataset/Images/test/augm/CQ500-CT-328_CT 0.625mm0_sim.nii.gz.\n",
      "  Saved: /home/fmatzkin/Code/Chest-xray-landmark-dataset/Images/test/augm/CQ500-CT-328_CT 0.625mm1_sim.nii.gz.\n",
      "Input: /home/fmatzkin/Code/Chest-xray-landmark-dataset/Images/test/CQ500-CT-105_CT I To S.nii.gz.\n",
      "  Saved: /home/fmatzkin/Code/Chest-xray-landmark-dataset/Images/test/augm/CQ500-CT-105_CT I To S0_sim.nii.gz.\n",
      "  Saved: /home/fmatzkin/Code/Chest-xray-landmark-dataset/Images/test/augm/CQ500-CT-105_CT I To S1_sim.nii.gz.\n",
      "Input: /home/fmatzkin/Code/Chest-xray-landmark-dataset/Images/test/CQ500-CT-67_CT BONE.nii.gz.\n",
      "  Saved: /home/fmatzkin/Code/Chest-xray-landmark-dataset/Images/test/augm/CQ500-CT-67_CT BONE0_sim.nii.gz.\n",
      "  Saved: /home/fmatzkin/Code/Chest-xray-landmark-dataset/Images/test/augm/CQ500-CT-67_CT BONE1_sim.nii.gz.\n",
      "Input: /home/fmatzkin/Code/Chest-xray-landmark-dataset/Images/test/CQ500-CT-122_CT PRE CONTRAST THIN.nii.gz.\n",
      "  Saved: /home/fmatzkin/Code/Chest-xray-landmark-dataset/Images/test/augm/CQ500-CT-122_CT PRE CONTRAST THIN0_sim.nii.gz.\n",
      "  Saved: /home/fmatzkin/Code/Chest-xray-landmark-dataset/Images/test/augm/CQ500-CT-122_CT PRE CONTRAST THIN1_sim.nii.gz.\n",
      "Input: /home/fmatzkin/Code/Chest-xray-landmark-dataset/Images/test/CQ500-CT-33_CT 4cc sec 150cc D3D on.nii.gz.\n",
      "  Saved: /home/fmatzkin/Code/Chest-xray-landmark-dataset/Images/test/augm/CQ500-CT-33_CT 4cc sec 150cc D3D on0_sim.nii.gz.\n",
      "  Saved: /home/fmatzkin/Code/Chest-xray-landmark-dataset/Images/test/augm/CQ500-CT-33_CT 4cc sec 150cc D3D on1_sim.nii.gz.\n",
      "Input: /home/fmatzkin/Code/Chest-xray-landmark-dataset/Images/test/CQ500-CT-287_CT Thin Plain.nii.gz.\n",
      "  Saved: /home/fmatzkin/Code/Chest-xray-landmark-dataset/Images/test/augm/CQ500-CT-287_CT Thin Plain0_sim.nii.gz.\n",
      "  Saved: /home/fmatzkin/Code/Chest-xray-landmark-dataset/Images/test/augm/CQ500-CT-287_CT Thin Plain1_sim.nii.gz.\n",
      "Input: /home/fmatzkin/Code/Chest-xray-landmark-dataset/Images/test/CQ500-CT-365_CT Thin Plain.nii.gz.\n",
      "  Saved: /home/fmatzkin/Code/Chest-xray-landmark-dataset/Images/test/augm/CQ500-CT-365_CT Thin Plain0_sim.nii.gz.\n",
      "  Saved: /home/fmatzkin/Code/Chest-xray-landmark-dataset/Images/test/augm/CQ500-CT-365_CT Thin Plain1_sim.nii.gz.\n",
      "Input: /home/fmatzkin/Code/Chest-xray-landmark-dataset/Images/test/CQ500-CT-373_CT Thin Plain.nii.gz.\n",
      "  Saved: /home/fmatzkin/Code/Chest-xray-landmark-dataset/Images/test/augm/CQ500-CT-373_CT Thin Plain0_sim.nii.gz.\n",
      "  Saved: /home/fmatzkin/Code/Chest-xray-landmark-dataset/Images/test/augm/CQ500-CT-373_CT Thin Plain1_sim.nii.gz.\n",
      "Input: /home/fmatzkin/Code/Chest-xray-landmark-dataset/Images/test/CQ500-CT-485_CT PLAIN THIN.nii.gz.\n",
      "  Saved: /home/fmatzkin/Code/Chest-xray-landmark-dataset/Images/test/augm/CQ500-CT-485_CT PLAIN THIN0_sim.nii.gz.\n",
      "  Saved: /home/fmatzkin/Code/Chest-xray-landmark-dataset/Images/test/augm/CQ500-CT-485_CT PLAIN THIN1_sim.nii.gz.\n",
      "Input: /home/fmatzkin/Code/Chest-xray-landmark-dataset/Images/test/CQ500-CT-80_CT 0.625mm.nii.gz.\n",
      "  Saved: /home/fmatzkin/Code/Chest-xray-landmark-dataset/Images/test/augm/CQ500-CT-80_CT 0.625mm0_sim.nii.gz.\n",
      "  Saved: /home/fmatzkin/Code/Chest-xray-landmark-dataset/Images/test/augm/CQ500-CT-80_CT 0.625mm1_sim.nii.gz.\n",
      "Input: /home/fmatzkin/Code/Chest-xray-landmark-dataset/Images/test/CQ500-CT-103_CT Thin Plain.nii.gz.\n",
      "  Saved: /home/fmatzkin/Code/Chest-xray-landmark-dataset/Images/test/augm/CQ500-CT-103_CT Thin Plain0_sim.nii.gz.\n",
      "  Saved: /home/fmatzkin/Code/Chest-xray-landmark-dataset/Images/test/augm/CQ500-CT-103_CT Thin Plain1_sim.nii.gz.\n",
      "Input: /home/fmatzkin/Code/Chest-xray-landmark-dataset/Images/test/CQ500-CT-39_CT PRE CONTRAST THIN.nii.gz.\n",
      "  Saved: /home/fmatzkin/Code/Chest-xray-landmark-dataset/Images/test/augm/CQ500-CT-39_CT PRE CONTRAST THIN0_sim.nii.gz.\n",
      "  Saved: /home/fmatzkin/Code/Chest-xray-landmark-dataset/Images/test/augm/CQ500-CT-39_CT PRE CONTRAST THIN1_sim.nii.gz.\n",
      "Input: /home/fmatzkin/Code/Chest-xray-landmark-dataset/Images/test/CQ500-CT-453_CT PLAIN THIN.nii.gz.\n",
      "  Saved: /home/fmatzkin/Code/Chest-xray-landmark-dataset/Images/test/augm/CQ500-CT-453_CT PLAIN THIN0_sim.nii.gz.\n",
      "  Saved: /home/fmatzkin/Code/Chest-xray-landmark-dataset/Images/test/augm/CQ500-CT-453_CT PLAIN THIN1_sim.nii.gz.\n",
      "Input: /home/fmatzkin/Code/Chest-xray-landmark-dataset/Images/test/CQ500-CT-384_CT PLAIN THIN.nii.gz.\n",
      "  Saved: /home/fmatzkin/Code/Chest-xray-landmark-dataset/Images/test/augm/CQ500-CT-384_CT PLAIN THIN0_sim.nii.gz.\n",
      "  Saved: /home/fmatzkin/Code/Chest-xray-landmark-dataset/Images/test/augm/CQ500-CT-384_CT PLAIN THIN1_sim.nii.gz.\n",
      "Input: /home/fmatzkin/Code/Chest-xray-landmark-dataset/Images/test/CQ500-CT-49_CT PRE CONTRAST THIN.nii.gz.\n",
      "  Saved: /home/fmatzkin/Code/Chest-xray-landmark-dataset/Images/test/augm/CQ500-CT-49_CT PRE CONTRAST THIN0_sim.nii.gz.\n",
      "  Saved: /home/fmatzkin/Code/Chest-xray-landmark-dataset/Images/test/augm/CQ500-CT-49_CT PRE CONTRAST THIN1_sim.nii.gz.\n",
      "Input: /home/fmatzkin/Code/Chest-xray-landmark-dataset/Images/test/CQ500-CT-195_CT PRE CONTRAST THIN.nii.gz.\n",
      "  Saved: /home/fmatzkin/Code/Chest-xray-landmark-dataset/Images/test/augm/CQ500-CT-195_CT PRE CONTRAST THIN0_sim.nii.gz.\n",
      "  Saved: /home/fmatzkin/Code/Chest-xray-landmark-dataset/Images/test/augm/CQ500-CT-195_CT PRE CONTRAST THIN1_sim.nii.gz.\n",
      "Input: /home/fmatzkin/Code/Chest-xray-landmark-dataset/Images/test/CQ500-CT-292_CT C THIN.nii.gz.\n",
      "  Saved: /home/fmatzkin/Code/Chest-xray-landmark-dataset/Images/test/augm/CQ500-CT-292_CT C THIN0_sim.nii.gz.\n",
      "  Saved: /home/fmatzkin/Code/Chest-xray-landmark-dataset/Images/test/augm/CQ500-CT-292_CT C THIN1_sim.nii.gz.\n",
      "Input: /home/fmatzkin/Code/Chest-xray-landmark-dataset/Images/test/CQ500-CT-458_CT Thin Plain.nii.gz.\n",
      "  Saved: /home/fmatzkin/Code/Chest-xray-landmark-dataset/Images/test/augm/CQ500-CT-458_CT Thin Plain0_sim.nii.gz.\n",
      "  Saved: /home/fmatzkin/Code/Chest-xray-landmark-dataset/Images/test/augm/CQ500-CT-458_CT Thin Plain1_sim.nii.gz.\n",
      "Input: /home/fmatzkin/Code/Chest-xray-landmark-dataset/Images/test/CQ500-CT-488_CT 0.625mm.nii.gz.\n",
      "  Saved: /home/fmatzkin/Code/Chest-xray-landmark-dataset/Images/test/augm/CQ500-CT-488_CT 0.625mm0_sim.nii.gz.\n",
      "  Saved: /home/fmatzkin/Code/Chest-xray-landmark-dataset/Images/test/augm/CQ500-CT-488_CT 0.625mm1_sim.nii.gz.\n",
      "Input: /home/fmatzkin/Code/Chest-xray-landmark-dataset/Images/test/CQ500-CT-47_CT PRE CONTRAST THIN.nii.gz.\n",
      "  Saved: /home/fmatzkin/Code/Chest-xray-landmark-dataset/Images/test/augm/CQ500-CT-47_CT PRE CONTRAST THIN0_sim.nii.gz.\n",
      "  Saved: /home/fmatzkin/Code/Chest-xray-landmark-dataset/Images/test/augm/CQ500-CT-47_CT PRE CONTRAST THIN1_sim.nii.gz.\n",
      "Input: /home/fmatzkin/Code/Chest-xray-landmark-dataset/Images/test/CQ500-CT-392_CT PLAIN THIN.nii.gz.\n",
      "  Saved: /home/fmatzkin/Code/Chest-xray-landmark-dataset/Images/test/augm/CQ500-CT-392_CT PLAIN THIN0_sim.nii.gz.\n",
      "  Saved: /home/fmatzkin/Code/Chest-xray-landmark-dataset/Images/test/augm/CQ500-CT-392_CT PLAIN THIN1_sim.nii.gz.\n",
      "Input: /home/fmatzkin/Code/Chest-xray-landmark-dataset/Images/test/CQ500-CT-462_CT Thin Plain.nii.gz.\n",
      "  Saved: /home/fmatzkin/Code/Chest-xray-landmark-dataset/Images/test/augm/CQ500-CT-462_CT Thin Plain0_sim.nii.gz.\n",
      "  Saved: /home/fmatzkin/Code/Chest-xray-landmark-dataset/Images/test/augm/CQ500-CT-462_CT Thin Plain1_sim.nii.gz.\n",
      "Input: /home/fmatzkin/Code/Chest-xray-landmark-dataset/Images/test/CQ500-CT-465_CT Thin Plain.nii.gz.\n",
      "  Saved: /home/fmatzkin/Code/Chest-xray-landmark-dataset/Images/test/augm/CQ500-CT-465_CT Thin Plain0_sim.nii.gz.\n",
      "  Saved: /home/fmatzkin/Code/Chest-xray-landmark-dataset/Images/test/augm/CQ500-CT-465_CT Thin Plain1_sim.nii.gz.\n",
      "Input: /home/fmatzkin/Code/Chest-xray-landmark-dataset/Images/test/CQ500-CT-62_CT Thin Plain.nii.gz.\n",
      "  Saved: /home/fmatzkin/Code/Chest-xray-landmark-dataset/Images/test/augm/CQ500-CT-62_CT Thin Plain0_sim.nii.gz.\n",
      "  Saved: /home/fmatzkin/Code/Chest-xray-landmark-dataset/Images/test/augm/CQ500-CT-62_CT Thin Plain1_sim.nii.gz.\n",
      "Input: /home/fmatzkin/Code/Chest-xray-landmark-dataset/Images/test/CQ500-CT-12_CT Thin Plain.nii.gz.\n",
      "  Saved: /home/fmatzkin/Code/Chest-xray-landmark-dataset/Images/test/augm/CQ500-CT-12_CT Thin Plain0_sim.nii.gz.\n",
      "  Saved: /home/fmatzkin/Code/Chest-xray-landmark-dataset/Images/test/augm/CQ500-CT-12_CT Thin Plain1_sim.nii.gz.\n",
      "Input: /home/fmatzkin/Code/Chest-xray-landmark-dataset/Images/test/CQ500-CT-257_CT 0.625mm.nii.gz.\n",
      "  Saved: /home/fmatzkin/Code/Chest-xray-landmark-dataset/Images/test/augm/CQ500-CT-257_CT 0.625mm0_sim.nii.gz.\n",
      "  Saved: /home/fmatzkin/Code/Chest-xray-landmark-dataset/Images/test/augm/CQ500-CT-257_CT 0.625mm1_sim.nii.gz.\n",
      "Input: /home/fmatzkin/Code/Chest-xray-landmark-dataset/Images/test/CQ500-CT-308_CT PLAIN THIN.nii.gz.\n",
      "  Saved: /home/fmatzkin/Code/Chest-xray-landmark-dataset/Images/test/augm/CQ500-CT-308_CT PLAIN THIN0_sim.nii.gz.\n",
      "  Saved: /home/fmatzkin/Code/Chest-xray-landmark-dataset/Images/test/augm/CQ500-CT-308_CT PLAIN THIN1_sim.nii.gz.\n",
      "Input: /home/fmatzkin/Code/Chest-xray-landmark-dataset/Images/test/CQ500-CT-138_CT PRE CONTRAST THIN.nii.gz.\n",
      "  Saved: /home/fmatzkin/Code/Chest-xray-landmark-dataset/Images/test/augm/CQ500-CT-138_CT PRE CONTRAST THIN0_sim.nii.gz.\n",
      "  Saved: /home/fmatzkin/Code/Chest-xray-landmark-dataset/Images/test/augm/CQ500-CT-138_CT PRE CONTRAST THIN1_sim.nii.gz.\n",
      "Input: /home/fmatzkin/Code/Chest-xray-landmark-dataset/Images/test/CQ500-CT-444_CT Thin Plain.nii.gz.\n",
      "  Saved: /home/fmatzkin/Code/Chest-xray-landmark-dataset/Images/test/augm/CQ500-CT-444_CT Thin Plain0_sim.nii.gz.\n",
      "  Saved: /home/fmatzkin/Code/Chest-xray-landmark-dataset/Images/test/augm/CQ500-CT-444_CT Thin Plain1_sim.nii.gz.\n",
      "Input: /home/fmatzkin/Code/Chest-xray-landmark-dataset/Images/test/CQ500-CT-102_CT PLAIN THIN.nii.gz.\n",
      "  Saved: /home/fmatzkin/Code/Chest-xray-landmark-dataset/Images/test/augm/CQ500-CT-102_CT PLAIN THIN0_sim.nii.gz.\n",
      "  Saved: /home/fmatzkin/Code/Chest-xray-landmark-dataset/Images/test/augm/CQ500-CT-102_CT PLAIN THIN1_sim.nii.gz.\n",
      "Input: /home/fmatzkin/Code/Chest-xray-landmark-dataset/Images/test/CQ500-CT-262_CT PLAIN THIN.nii.gz.\n",
      "  Saved: /home/fmatzkin/Code/Chest-xray-landmark-dataset/Images/test/augm/CQ500-CT-262_CT PLAIN THIN0_sim.nii.gz.\n",
      "  Saved: /home/fmatzkin/Code/Chest-xray-landmark-dataset/Images/test/augm/CQ500-CT-262_CT PLAIN THIN1_sim.nii.gz.\n",
      "Generating CSV file. Saving as:  test_simulated.csv\n",
      "Saved:  /home/fmatzkin/Code/Chest-xray-landmark-dataset/Images/test/augm/test_simulated.csv\n"
     ]
    }
   ],
   "source": [
    "from headctools.tools.offline_augmentation import simulate_cr_images as sim\n",
    "sim('/home/fmatzkin/Code/Chest-xray-landmark-dataset/Images/test',2,)"
   ],
   "metadata": {
    "collapsed": false
   }
  },
  {
   "cell_type": "markdown",
   "source": [
    "## Test convolutional PCA reconstruction"
   ],
   "metadata": {
    "collapsed": false
   }
  },
  {
   "cell_type": "code",
   "execution_count": 2,
   "id": "02278c69",
   "metadata": {},
   "outputs": [],
   "source": [
    "import os\n",
    "\n",
    "import torch\n",
    "import vedo\n",
    "\n",
    "from models.PCAH import PCAH_Net\n",
    "from utils.datasetHeads import MeshHeadsDataset"
   ]
  },
  {
   "cell_type": "markdown",
   "source": [
    "### Load test images"
   ],
   "metadata": {
    "collapsed": false
   }
  },
  {
   "cell_type": "code",
   "execution_count": 3,
   "id": "7084379a",
   "metadata": {},
   "outputs": [],
   "source": [
    "test_head_files = \"heads_files/test_images_heads.txt\"\n",
    "images = open(test_head_files, 'r').read().splitlines()\n",
    "im_path = os.path.abspath('../Chest-xray-landmark-dataset/Images')\n",
    "\n",
    "dataset = MeshHeadsDataset(images, img_path=im_path)\n",
    "\n",
    "device = 'cuda:0'"
   ]
  },
  {
   "cell_type": "code",
   "execution_count": 4,
   "id": "a70b5eed-0c89-4f77-b1d4-8699aa326395",
   "metadata": {},
   "outputs": [
    {
     "name": "stdout",
     "output_type": "stream",
     "text": [
      "Model loaded\n"
     ]
    }
   ],
   "source": [
    "interp_factor = 0.85\n",
    "\n",
    "config = {\n",
    "    'device': device,\n",
    "    'Heads': True,\n",
    "    'Lungs': False,\n",
    "    'latents': 60,\n",
    "    'inputsize': 1024,\n",
    "    'interpolate': True,\n",
    "    'h': int(512 * interp_factor),\n",
    "    'w': int(512 * interp_factor),\n",
    "    'slices': int(233 * interp_factor),\n",
    "}\n",
    "\n",
    "pcaNet = PCAH_Net(config.copy()).to(device)\n",
    "pcaNet.load_state_dict(torch.load('Training/PCAH/bestMSE.pt'))\n",
    "pcaNet.eval()\n",
    "print('Model loaded')"
   ]
  },
  {
   "cell_type": "code",
   "execution_count": 5,
   "outputs": [
    {
     "name": "stdout",
     "output_type": "stream",
     "text": [
      "Test images: 36\n",
      "saved mesh /media/fmatzkin/data/franco/Code/Chest-xray-landmark-dataset/Images/pred_PCAH/CQ500-CT-370_CT BONE THIN.stl\n",
      "saved mesh /media/fmatzkin/data/franco/Code/Chest-xray-landmark-dataset/Images/pred_PCAH/CQ500-CT-356_CT PLAIN THIN.stl\n",
      "saved mesh /media/fmatzkin/data/franco/Code/Chest-xray-landmark-dataset/Images/pred_PCAH/CQ500-CT-469_CT 0.625mm.stl\n",
      "saved mesh /media/fmatzkin/data/franco/Code/Chest-xray-landmark-dataset/Images/pred_PCAH/CQ500-CT-241_CT PLAIN THIN.stl\n",
      "saved mesh /media/fmatzkin/data/franco/Code/Chest-xray-landmark-dataset/Images/pred_PCAH/CQ500-CT-228_CT 4cc sec 150cc D3D on-2.stl\n",
      "saved mesh /media/fmatzkin/data/franco/Code/Chest-xray-landmark-dataset/Images/pred_PCAH/CQ500-CT-328_CT 0.625mm.stl\n",
      "saved mesh /media/fmatzkin/data/franco/Code/Chest-xray-landmark-dataset/Images/pred_PCAH/CQ500-CT-105_CT I To S.stl\n",
      "saved mesh /media/fmatzkin/data/franco/Code/Chest-xray-landmark-dataset/Images/pred_PCAH/CQ500-CT-67_CT BONE.stl\n",
      "saved mesh /media/fmatzkin/data/franco/Code/Chest-xray-landmark-dataset/Images/pred_PCAH/CQ500-CT-122_CT PRE CONTRAST THIN.stl\n",
      "saved mesh /media/fmatzkin/data/franco/Code/Chest-xray-landmark-dataset/Images/pred_PCAH/CQ500-CT-33_CT 4cc sec 150cc D3D on.stl\n",
      "saved mesh /media/fmatzkin/data/franco/Code/Chest-xray-landmark-dataset/Images/pred_PCAH/CQ500-CT-287_CT Thin Plain.stl\n",
      "saved mesh /media/fmatzkin/data/franco/Code/Chest-xray-landmark-dataset/Images/pred_PCAH/CQ500-CT-365_CT Thin Plain.stl\n",
      "saved mesh /media/fmatzkin/data/franco/Code/Chest-xray-landmark-dataset/Images/pred_PCAH/CQ500-CT-373_CT Thin Plain.stl\n",
      "saved mesh /media/fmatzkin/data/franco/Code/Chest-xray-landmark-dataset/Images/pred_PCAH/CQ500-CT-485_CT PLAIN THIN.stl\n",
      "saved mesh /media/fmatzkin/data/franco/Code/Chest-xray-landmark-dataset/Images/pred_PCAH/CQ500-CT-80_CT 0.625mm.stl\n",
      "saved mesh /media/fmatzkin/data/franco/Code/Chest-xray-landmark-dataset/Images/pred_PCAH/CQ500-CT-103_CT Thin Plain.stl\n",
      "saved mesh /media/fmatzkin/data/franco/Code/Chest-xray-landmark-dataset/Images/pred_PCAH/CQ500-CT-39_CT PRE CONTRAST THIN.stl\n",
      "saved mesh /media/fmatzkin/data/franco/Code/Chest-xray-landmark-dataset/Images/pred_PCAH/CQ500-CT-453_CT PLAIN THIN.stl\n",
      "saved mesh /media/fmatzkin/data/franco/Code/Chest-xray-landmark-dataset/Images/pred_PCAH/CQ500-CT-384_CT PLAIN THIN.stl\n",
      "saved mesh /media/fmatzkin/data/franco/Code/Chest-xray-landmark-dataset/Images/pred_PCAH/CQ500-CT-49_CT PRE CONTRAST THIN.stl\n",
      "saved mesh /media/fmatzkin/data/franco/Code/Chest-xray-landmark-dataset/Images/pred_PCAH/CQ500-CT-195_CT PRE CONTRAST THIN.stl\n",
      "saved mesh /media/fmatzkin/data/franco/Code/Chest-xray-landmark-dataset/Images/pred_PCAH/CQ500-CT-292_CT C THIN.stl\n",
      "saved mesh /media/fmatzkin/data/franco/Code/Chest-xray-landmark-dataset/Images/pred_PCAH/CQ500-CT-458_CT Thin Plain.stl\n",
      "saved mesh /media/fmatzkin/data/franco/Code/Chest-xray-landmark-dataset/Images/pred_PCAH/CQ500-CT-488_CT 0.625mm.stl\n",
      "saved mesh /media/fmatzkin/data/franco/Code/Chest-xray-landmark-dataset/Images/pred_PCAH/CQ500-CT-47_CT PRE CONTRAST THIN.stl\n",
      "saved mesh /media/fmatzkin/data/franco/Code/Chest-xray-landmark-dataset/Images/pred_PCAH/CQ500-CT-392_CT PLAIN THIN.stl\n",
      "saved mesh /media/fmatzkin/data/franco/Code/Chest-xray-landmark-dataset/Images/pred_PCAH/CQ500-CT-462_CT Thin Plain.stl\n",
      "saved mesh /media/fmatzkin/data/franco/Code/Chest-xray-landmark-dataset/Images/pred_PCAH/CQ500-CT-465_CT Thin Plain.stl\n",
      "saved mesh /media/fmatzkin/data/franco/Code/Chest-xray-landmark-dataset/Images/pred_PCAH/CQ500-CT-62_CT Thin Plain.stl\n",
      "saved mesh /media/fmatzkin/data/franco/Code/Chest-xray-landmark-dataset/Images/pred_PCAH/CQ500-CT-12_CT Thin Plain.stl\n",
      "saved mesh /media/fmatzkin/data/franco/Code/Chest-xray-landmark-dataset/Images/pred_PCAH/CQ500-CT-257_CT 0.625mm.stl\n",
      "saved mesh /media/fmatzkin/data/franco/Code/Chest-xray-landmark-dataset/Images/pred_PCAH/CQ500-CT-308_CT PLAIN THIN.stl\n",
      "saved mesh /media/fmatzkin/data/franco/Code/Chest-xray-landmark-dataset/Images/pred_PCAH/CQ500-CT-138_CT PRE CONTRAST THIN.stl\n",
      "saved mesh /media/fmatzkin/data/franco/Code/Chest-xray-landmark-dataset/Images/pred_PCAH/CQ500-CT-444_CT Thin Plain.stl\n",
      "saved mesh /media/fmatzkin/data/franco/Code/Chest-xray-landmark-dataset/Images/pred_PCAH/CQ500-CT-102_CT PLAIN THIN.stl\n",
      "saved mesh /media/fmatzkin/data/franco/Code/Chest-xray-landmark-dataset/Images/pred_PCAH/CQ500-CT-262_CT PLAIN THIN.stl\n"
     ]
    }
   ],
   "source": [
    "print(f\"Test images: {len(dataset)}\")\n",
    "\n",
    "# I can use any img since all .faces() are the same\n",
    "ex_img = os.path.join(\n",
    "    im_path, 'CQ500-CT-12_CT Thin Plain_decimated_1perc_dfm.vtk'\n",
    ")\n",
    "out_path = os.path.join(im_path, f'pred_PCAH')  # Predictions subfolder\n",
    "os.makedirs(out_path, exist_ok=True)\n",
    "\n",
    "faces = vedo.Mesh(ex_img).faces()\n",
    "\n",
    "for i, sample in enumerate(dataset):\n",
    "    test_im = sample['image'].unsqueeze(0)\n",
    "    out_img = pcaNet(test_im.to(device))\n",
    "    points = out_img.reshape(-1, 3).detach().cpu().numpy()\n",
    "\n",
    "    out_fpath = os.path.join(out_path, images[i].replace('.nii.gz', '.stl'))\n",
    "\n",
    "    restored_mesh = vedo.Mesh([points, faces])\n",
    "    restored_mesh.write(out_fpath)\n",
    "    print(f'saved mesh {out_fpath}')\n",
    "    del test_im, out_img\n"
   ],
   "metadata": {
    "collapsed": false
   }
  },
  {
   "cell_type": "code",
   "execution_count": null,
   "outputs": [],
   "source": [
    "from headctools.tools.offline_augmentation import simulate_cr_images as sim\n",
    "sim('/home/fmatzkin/Code/Chest-xray-landmark-dataset/Images/some_of_test/',2,)"
   ],
   "metadata": {
    "collapsed": false
   }
  }
 ],
 "metadata": {
  "kernelspec": {
   "display_name": "Python (torch)",
   "language": "python",
   "name": "torch"
  },
  "language_info": {
   "codemirror_mode": {
    "name": "ipython",
    "version": 3
   },
   "file_extension": ".py",
   "mimetype": "text/x-python",
   "name": "python",
   "nbconvert_exporter": "python",
   "pygments_lexer": "ipython3",
   "version": "3.9.7"
  }
 },
 "nbformat": 4,
 "nbformat_minor": 5
}
