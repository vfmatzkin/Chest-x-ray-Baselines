{
 "cells": [
  {
   "cell_type": "code",
   "execution_count": 1,
   "id": "7257c989",
   "metadata": {},
   "outputs": [],
   "source": [
    "%load_ext autoreload\n",
    "%autoreload 2"
   ]
  },
  {
   "cell_type": "code",
   "execution_count": 10,
   "id": "02278c69",
   "metadata": {},
   "outputs": [],
   "source": [
    "import torch\n",
    "\n",
    "from models.PCAH import PCAH_Net\n",
    "from utils.datasetHeads import MeshHeadsDataset, ToTensor"
   ]
  },
  {
   "cell_type": "code",
   "execution_count": 3,
   "id": "4f9e4e16",
   "metadata": {},
   "outputs": [],
   "source": [
    "test_lungs = open(\"test_images_lungs.txt\", 'r').read().splitlines()\n",
    "test_heart = open(\"test_images_heart.txt\", 'r').read().splitlines()"
   ]
  },
  {
   "cell_type": "code",
   "execution_count": 13,
   "id": "7084379a",
   "metadata": {},
   "outputs": [],
   "source": [
    "train_heads_files = \"heads_files/test_images_heads.txt\"\n",
    "images = open(train_heads_files, 'r').read().splitlines()\n",
    "\n",
    "dataset = MeshHeadsDataset(images,\n",
    "                           img_path=\"../Chest-xray-landmark-dataset/Images\",\n",
    "                           label_path=\"../Chest-xray-landmark-dataset/landmarks\",\n",
    "                           heart=False\n",
    "                           )\n",
    "\n",
    "device = 'cuda:0'"
   ]
  },
  {
   "cell_type": "code",
   "execution_count": 11,
   "id": "a70b5eed-0c89-4f77-b1d4-8699aa326395",
   "metadata": {},
   "outputs": [
    {
     "name": "stdout",
     "output_type": "stream",
     "text": [
      "Model loaded\n"
     ]
    }
   ],
   "source": [
    "config = {}\n",
    "\n",
    "config['device'] = device\n",
    "config['Heads'] = True\n",
    "config['Lungs'] = False\n",
    "config['latents'] = 32\n",
    "config['inputsize'] = 1024\n",
    "\n",
    "pcaNet = PCAH_Net(config.copy()).to(device)\n",
    "pcaNet.load_state_dict(torch.load('Training/PCAH/bestMSE.pt'))\n",
    "pcaNet.eval()\n",
    "print('Model loaded')"
   ]
  },
  {
   "cell_type": "code",
   "execution_count": 15,
   "id": "f7edd786",
   "metadata": {},
   "outputs": [
    {
     "data": {
      "text/plain": [
       "torch.Size([1, 1, 233, 512, 512])"
      ]
     },
     "execution_count": 15,
     "metadata": {},
     "output_type": "execute_result"
    }
   ],
   "source": [
    "sample = dataset[0]\n",
    "image = sample['image']\n",
    "image = image.unsqueeze(0)\n",
    "image.shape"
   ]
  },
  {
   "cell_type": "code",
   "execution_count": 17,
   "id": "6d9e3fa8",
   "metadata": {},
   "outputs": [
    {
     "data": {
      "text/plain": [
       "torch.Size([1, 20217])"
      ]
     },
     "execution_count": 17,
     "metadata": {},
     "output_type": "execute_result"
    }
   ],
   "source": [
    "out = pcaNet(image.to(device))\n",
    "out.shape"
   ]
  },
  {
   "cell_type": "code",
   "execution_count": 23,
   "id": "19947cbc",
   "metadata": {},
   "outputs": [
    {
     "name": "stdout",
     "output_type": "stream",
     "text": [
      "\r",
      " saved mesh"
     ]
    }
   ],
   "source": [
    "import vedo\n",
    "faces=vedo.Mesh('/media/fmatzkin/data/franco/Code/Chest-xray-landmark-dataset/Images/CQ500-CT-12_CT Thin Plain_decimated_1perc_dfm.vtk').faces()\n",
    "points = out.reshape(-1,3).detach().cpu().numpy()\n",
    "\n",
    "restored_mesh = vedo.Mesh([points, faces])\n",
    "restored_mesh.write(f'test/asd.stl')\n",
    "print(f'\\r saved mesh', end='')"
   ]
  },
  {
   "cell_type": "code",
   "execution_count": null,
   "id": "295edfe7",
   "metadata": {},
   "outputs": [],
   "source": []
  }
 ],
 "metadata": {
  "kernelspec": {
   "display_name": "Python (torch)",
   "language": "python",
   "name": "torch"
  },
  "language_info": {
   "codemirror_mode": {
    "name": "ipython",
    "version": 3
   },
   "file_extension": ".py",
   "mimetype": "text/x-python",
   "name": "python",
   "nbconvert_exporter": "python",
   "pygments_lexer": "ipython3",
   "version": "3.9.7"
  }
 },
 "nbformat": 4,
 "nbformat_minor": 5
}
