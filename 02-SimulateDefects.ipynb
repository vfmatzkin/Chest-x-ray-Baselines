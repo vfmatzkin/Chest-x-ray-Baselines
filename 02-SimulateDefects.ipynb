{
 "cells": [
  {
   "cell_type": "markdown",
   "metadata": {
    "collapsed": false
   },
   "source": [
    "## Simulate skull defects\n",
    "Simulate craniectomies in the test split using headctools"
   ]
  },
  {
   "cell_type": "code",
   "execution_count": 1,
   "metadata": {
    "collapsed": true
   },
   "outputs": [
    {
     "name": "stdout",
     "output_type": "stream",
     "text": [
      "Folder: /home/franco/Code/datasets/cq500mesh/test\n",
      "Input: /home/franco/Code/datasets/cq500mesh/test/CQ500-CT-458_CT Thin Plain.nii.gz.\n",
      "  Saved: /home/franco/Code/datasets/cq500mesh/test/sim_defects/CQ500-CT-458_CT Thin Plain0_sim.nii.gz.\n",
      "Input: /home/franco/Code/datasets/cq500mesh/test/CQ500-CT-33_CT 4cc sec 150cc D3D on.nii.gz.\n",
      "  Saved: /home/franco/Code/datasets/cq500mesh/test/sim_defects/CQ500-CT-33_CT 4cc sec 150cc D3D on0_sim.nii.gz.\n",
      "Input: /home/franco/Code/datasets/cq500mesh/test/CQ500-CT-102_CT PLAIN THIN.nii.gz.\n",
      "  Saved: /home/franco/Code/datasets/cq500mesh/test/sim_defects/CQ500-CT-102_CT PLAIN THIN0_sim.nii.gz.\n",
      "Input: /home/franco/Code/datasets/cq500mesh/test/CQ500-CT-392_CT PLAIN THIN.nii.gz.\n",
      "  Saved: /home/franco/Code/datasets/cq500mesh/test/sim_defects/CQ500-CT-392_CT PLAIN THIN0_sim.nii.gz.\n",
      "Input: /home/franco/Code/datasets/cq500mesh/test/CQ500-CT-370_CT BONE THIN.nii.gz.\n",
      "  Saved: /home/franco/Code/datasets/cq500mesh/test/sim_defects/CQ500-CT-370_CT BONE THIN0_sim.nii.gz.\n",
      "Input: /home/franco/Code/datasets/cq500mesh/test/CQ500-CT-356_CT PLAIN THIN.nii.gz.\n",
      "  Saved: /home/franco/Code/datasets/cq500mesh/test/sim_defects/CQ500-CT-356_CT PLAIN THIN0_sim.nii.gz.\n",
      "Input: /home/franco/Code/datasets/cq500mesh/test/CQ500-CT-462_CT Thin Plain.nii.gz.\n",
      "  Saved: /home/franco/Code/datasets/cq500mesh/test/sim_defects/CQ500-CT-462_CT Thin Plain0_sim.nii.gz.\n",
      "Input: /home/franco/Code/datasets/cq500mesh/test/CQ500-CT-105_CT I To S.nii.gz.\n",
      "  Saved: /home/franco/Code/datasets/cq500mesh/test/sim_defects/CQ500-CT-105_CT I To S0_sim.nii.gz.\n",
      "Input: /home/franco/Code/datasets/cq500mesh/test/CQ500-CT-328_CT 0.625mm.nii.gz.\n",
      "  Saved: /home/franco/Code/datasets/cq500mesh/test/sim_defects/CQ500-CT-328_CT 0.625mm0_sim.nii.gz.\n",
      "Input: /home/franco/Code/datasets/cq500mesh/test/CQ500-CT-62_CT Thin Plain.nii.gz.\n",
      "  Saved: /home/franco/Code/datasets/cq500mesh/test/sim_defects/CQ500-CT-62_CT Thin Plain0_sim.nii.gz.\n",
      "Input: /home/franco/Code/datasets/cq500mesh/test/CQ500-CT-308_CT PLAIN THIN.nii.gz.\n",
      "  Saved: /home/franco/Code/datasets/cq500mesh/test/sim_defects/CQ500-CT-308_CT PLAIN THIN0_sim.nii.gz.\n",
      "Input: /home/franco/Code/datasets/cq500mesh/test/CQ500-CT-241_CT PLAIN THIN.nii.gz.\n",
      "  Saved: /home/franco/Code/datasets/cq500mesh/test/sim_defects/CQ500-CT-241_CT PLAIN THIN0_sim.nii.gz.\n",
      "Input: /home/franco/Code/datasets/cq500mesh/test/CQ500-CT-465_CT Thin Plain.nii.gz.\n",
      "  Saved: /home/franco/Code/datasets/cq500mesh/test/sim_defects/CQ500-CT-465_CT Thin Plain0_sim.nii.gz.\n",
      "Input: /home/franco/Code/datasets/cq500mesh/test/CQ500-CT-228_CT 4cc sec 150cc D3D on-2.nii.gz.\n",
      "  Saved: /home/franco/Code/datasets/cq500mesh/test/sim_defects/CQ500-CT-228_CT 4cc sec 150cc D3D on-20_sim.nii.gz.\n",
      "Input: /home/franco/Code/datasets/cq500mesh/test/CQ500-CT-195_CT PRE CONTRAST THIN.nii.gz.\n",
      "  Saved: /home/franco/Code/datasets/cq500mesh/test/sim_defects/CQ500-CT-195_CT PRE CONTRAST THIN0_sim.nii.gz.\n",
      "Input: /home/franco/Code/datasets/cq500mesh/test/CQ500-CT-384_CT PLAIN THIN.nii.gz.\n",
      "  Saved: /home/franco/Code/datasets/cq500mesh/test/sim_defects/CQ500-CT-384_CT PLAIN THIN0_sim.nii.gz.\n",
      "Input: /home/franco/Code/datasets/cq500mesh/test/CQ500-CT-122_CT PRE CONTRAST THIN.nii.gz.\n",
      "  Saved: /home/franco/Code/datasets/cq500mesh/test/sim_defects/CQ500-CT-122_CT PRE CONTRAST THIN0_sim.nii.gz.\n",
      "Input: /home/franco/Code/datasets/cq500mesh/test/CQ500-CT-365_CT Thin Plain.nii.gz.\n",
      "  Saved: /home/franco/Code/datasets/cq500mesh/test/sim_defects/CQ500-CT-365_CT Thin Plain0_sim.nii.gz.\n",
      "Input: /home/franco/Code/datasets/cq500mesh/test/CQ500-CT-257_CT 0.625mm.nii.gz.\n",
      "  Saved: /home/franco/Code/datasets/cq500mesh/test/sim_defects/CQ500-CT-257_CT 0.625mm0_sim.nii.gz.\n",
      "Input: /home/franco/Code/datasets/cq500mesh/test/CQ500-CT-49_CT PRE CONTRAST THIN.nii.gz.\n",
      "  Saved: /home/franco/Code/datasets/cq500mesh/test/sim_defects/CQ500-CT-49_CT PRE CONTRAST THIN0_sim.nii.gz.\n",
      "Input: /home/franco/Code/datasets/cq500mesh/test/CQ500-CT-262_CT PLAIN THIN.nii.gz.\n",
      "  Saved: /home/franco/Code/datasets/cq500mesh/test/sim_defects/CQ500-CT-262_CT PLAIN THIN0_sim.nii.gz.\n",
      "Input: /home/franco/Code/datasets/cq500mesh/test/CQ500-CT-103_CT Thin Plain.nii.gz.\n",
      "  Saved: /home/franco/Code/datasets/cq500mesh/test/sim_defects/CQ500-CT-103_CT Thin Plain0_sim.nii.gz.\n",
      "Input: /home/franco/Code/datasets/cq500mesh/test/CQ500-CT-67_CT BONE.nii.gz.\n",
      "  Saved: /home/franco/Code/datasets/cq500mesh/test/sim_defects/CQ500-CT-67_CT BONE0_sim.nii.gz.\n",
      "Input: /home/franco/Code/datasets/cq500mesh/test/CQ500-CT-39_CT PRE CONTRAST THIN.nii.gz.\n",
      "  Saved: /home/franco/Code/datasets/cq500mesh/test/sim_defects/CQ500-CT-39_CT PRE CONTRAST THIN0_sim.nii.gz.\n",
      "Input: /home/franco/Code/datasets/cq500mesh/test/CQ500-CT-138_CT PRE CONTRAST THIN.nii.gz.\n",
      "  Saved: /home/franco/Code/datasets/cq500mesh/test/sim_defects/CQ500-CT-138_CT PRE CONTRAST THIN0_sim.nii.gz.\n",
      "Input: /home/franco/Code/datasets/cq500mesh/test/CQ500-CT-287_CT Thin Plain.nii.gz.\n",
      "  Saved: /home/franco/Code/datasets/cq500mesh/test/sim_defects/CQ500-CT-287_CT Thin Plain0_sim.nii.gz.\n",
      "Input: /home/franco/Code/datasets/cq500mesh/test/CQ500-CT-47_CT PRE CONTRAST THIN.nii.gz.\n",
      "  Saved: /home/franco/Code/datasets/cq500mesh/test/sim_defects/CQ500-CT-47_CT PRE CONTRAST THIN0_sim.nii.gz.\n",
      "Input: /home/franco/Code/datasets/cq500mesh/test/CQ500-CT-80_CT 0.625mm.nii.gz.\n",
      "  Saved: /home/franco/Code/datasets/cq500mesh/test/sim_defects/CQ500-CT-80_CT 0.625mm0_sim.nii.gz.\n",
      "Input: /home/franco/Code/datasets/cq500mesh/test/CQ500-CT-469_CT 0.625mm.nii.gz.\n",
      "  Saved: /home/franco/Code/datasets/cq500mesh/test/sim_defects/CQ500-CT-469_CT 0.625mm0_sim.nii.gz.\n",
      "Input: /home/franco/Code/datasets/cq500mesh/test/CQ500-CT-292_CT C THIN.nii.gz.\n",
      "  Saved: /home/franco/Code/datasets/cq500mesh/test/sim_defects/CQ500-CT-292_CT C THIN0_sim.nii.gz.\n",
      "Input: /home/franco/Code/datasets/cq500mesh/test/CQ500-CT-12_CT Thin Plain.nii.gz.\n",
      "  Saved: /home/franco/Code/datasets/cq500mesh/test/sim_defects/CQ500-CT-12_CT Thin Plain0_sim.nii.gz.\n",
      "Input: /home/franco/Code/datasets/cq500mesh/test/CQ500-CT-444_CT Thin Plain.nii.gz.\n",
      "  Saved: /home/franco/Code/datasets/cq500mesh/test/sim_defects/CQ500-CT-444_CT Thin Plain0_sim.nii.gz.\n",
      "Input: /home/franco/Code/datasets/cq500mesh/test/CQ500-CT-488_CT 0.625mm.nii.gz.\n",
      "  Saved: /home/franco/Code/datasets/cq500mesh/test/sim_defects/CQ500-CT-488_CT 0.625mm0_sim.nii.gz.\n",
      "Input: /home/franco/Code/datasets/cq500mesh/test/CQ500-CT-373_CT Thin Plain.nii.gz.\n",
      "  Saved: /home/franco/Code/datasets/cq500mesh/test/sim_defects/CQ500-CT-373_CT Thin Plain0_sim.nii.gz.\n",
      "Input: /home/franco/Code/datasets/cq500mesh/test/CQ500-CT-453_CT PLAIN THIN.nii.gz.\n",
      "  Saved: /home/franco/Code/datasets/cq500mesh/test/sim_defects/CQ500-CT-453_CT PLAIN THIN0_sim.nii.gz.\n",
      "Input: /home/franco/Code/datasets/cq500mesh/test/CQ500-CT-485_CT PLAIN THIN.nii.gz.\n",
      "  Saved: /home/franco/Code/datasets/cq500mesh/test/sim_defects/CQ500-CT-485_CT PLAIN THIN0_sim.nii.gz.\n",
      "Generating CSV file. Saving as:  test_simulated.csv\n",
      "Saved:  /home/franco/Code/datasets/cq500mesh/test/sim_defects/test_simulated.csv\n"
     ]
    }
   ],
   "source": [
    "import os\n",
    "\n",
    "from headctools.tools.offline_augmentation import simulate_cr_images as sim\n",
    "\n",
    "test_images_path = os.path.abspath('../datasets/cq500mesh/test')  # Test imgs\n",
    "out_folder_sim = os.path.join(test_images_path, 'sim_defects')\n",
    "\n",
    "sim(test_images_path, 1, out_folder_sim)  # Make 1 simulation per subject."
   ]
  },
  {
   "cell_type": "markdown",
   "metadata": {
    "collapsed": false
   },
   "source": [
    "## Save the filenames in a .txt"
   ]
  },
  {
   "cell_type": "code",
   "execution_count": 2,
   "metadata": {
    "collapsed": false
   },
   "outputs": [
    {
     "name": "stdout",
     "output_type": "stream",
     "text": [
      "saving partitions/test_simulated.txt\n"
     ]
    }
   ],
   "source": [
    "print(f\"saving {(out_txt := 'partitions/test_simulated.txt')}\")\n",
    "with open(out_txt, 'w') as f:\n",
    "    for item in [f for f in os.listdir(out_folder_sim) if '_sim.nii.gz' in f]:\n",
    "        f.write(\"%s\\n\" % item)"
   ]
  }
 ],
 "metadata": {
  "kernelspec": {
   "display_name": "msr",
   "language": "python",
   "name": "python3"
  },
  "language_info": {
   "codemirror_mode": {
    "name": "ipython",
    "version": 3
   },
   "file_extension": ".py",
   "mimetype": "text/x-python",
   "name": "python",
   "nbconvert_exporter": "python",
   "pygments_lexer": "ipython3",
   "version": "3.8.13"
  },
  "vscode": {
   "interpreter": {
    "hash": "159c917228f05416d9b819fe32ed20dc8363f68fb18cb83ee7ae4737bd8f0b32"
   }
  }
 },
 "nbformat": 4,
 "nbformat_minor": 0
}
