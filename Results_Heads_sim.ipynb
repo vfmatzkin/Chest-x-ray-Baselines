{
 "cells": [
  {
   "cell_type": "code",
   "execution_count": 1,
   "id": "7257c989",
   "metadata": {},
   "outputs": [],
   "source": [
    "%load_ext autoreload\n",
    "%autoreload 2"
   ]
  },
  {
   "cell_type": "code",
   "execution_count": 1,
   "id": "02278c69",
   "metadata": {},
   "outputs": [],
   "source": [
    "import os\n",
    "\n",
    "import torch\n",
    "import vedo\n",
    "\n",
    "from models.PCAH import PCAH_Net\n",
    "from utils.datasetHeads import MeshHeadsDataset"
   ]
  },
  {
   "cell_type": "code",
   "execution_count": 2,
   "id": "7084379a",
   "metadata": {},
   "outputs": [],
   "source": [
    "train_heads_files = '/home/fmatzkin/.config/JetBrains/PyCharm2022.2/scratches/test_simulated.txt'\n",
    "images = open(train_heads_files, 'r').read().splitlines()\n",
    "im_path = os.path.abspath('/home/fmatzkin/Code/Chest-xray-landmark-dataset/Images/some_of_test/augm')\n",
    "\n",
    "dataset = MeshHeadsDataset(images, img_path=im_path)\n",
    "\n",
    "device = 'cuda:0'"
   ]
  },
  {
   "cell_type": "code",
   "execution_count": 3,
   "id": "a70b5eed-0c89-4f77-b1d4-8699aa326395",
   "metadata": {},
   "outputs": [
    {
     "name": "stdout",
     "output_type": "stream",
     "text": [
      "Model loaded\n"
     ]
    }
   ],
   "source": [
    "interp_factor = 0.85\n",
    "\n",
    "config = {\n",
    "    'device': device,\n",
    "    'Heads': True,\n",
    "    'Lungs': False,\n",
    "    'latents': 60,\n",
    "    'inputsize': 1024,\n",
    "    'interpolate': True,\n",
    "    'h': int(512 * interp_factor),\n",
    "    'w': int(512 * interp_factor),\n",
    "    'slices': int(233 * interp_factor),\n",
    "}\n",
    "\n",
    "pcaNet = PCAH_Net(config.copy()).to(device)\n",
    "pcaNet.load_state_dict(torch.load('Training/PCAH/bestMSE.pt'))\n",
    "pcaNet.eval()\n",
    "print('Model loaded')"
   ]
  },
  {
   "cell_type": "code",
   "execution_count": 4,
   "outputs": [
    {
     "name": "stdout",
     "output_type": "stream",
     "text": [
      "Test images: 6\n",
      "File /home/fmatzkin/Code/Chest-xray-landmark-dataset/Images/some_of_test/augm/CQ500-CT-39_CT PRE CONTRAST THIN1_sim_decimated_1perc_dfm.vtk not found.\n",
      "saved mesh /home/fmatzkin/Code/Chest-xray-landmark-dataset/Images/some_of_test/augm/pred_PCAH/CQ500-CT-39_CT PRE CONTRAST THIN1_sim.stl\n",
      "File /home/fmatzkin/Code/Chest-xray-landmark-dataset/Images/some_of_test/augm/CQ500-CT-39_CT PRE CONTRAST THIN0_sim_decimated_1perc_dfm.vtk not found.\n",
      "saved mesh /home/fmatzkin/Code/Chest-xray-landmark-dataset/Images/some_of_test/augm/pred_PCAH/CQ500-CT-39_CT PRE CONTRAST THIN0_sim.stl\n",
      "File /home/fmatzkin/Code/Chest-xray-landmark-dataset/Images/some_of_test/augm/CQ500-CT-12_CT Thin Plain1_sim_decimated_1perc_dfm.vtk not found.\n",
      "saved mesh /home/fmatzkin/Code/Chest-xray-landmark-dataset/Images/some_of_test/augm/pred_PCAH/CQ500-CT-12_CT Thin Plain1_sim.stl\n",
      "File /home/fmatzkin/Code/Chest-xray-landmark-dataset/Images/some_of_test/augm/CQ500-CT-12_CT Thin Plain0_sim_decimated_1perc_dfm.vtk not found.\n",
      "saved mesh /home/fmatzkin/Code/Chest-xray-landmark-dataset/Images/some_of_test/augm/pred_PCAH/CQ500-CT-12_CT Thin Plain0_sim.stl\n",
      "File /home/fmatzkin/Code/Chest-xray-landmark-dataset/Images/some_of_test/augm/CQ500-CT-33_CT 4cc sec 150cc D3D on0_sim_decimated_1perc_dfm.vtk not found.\n",
      "saved mesh /home/fmatzkin/Code/Chest-xray-landmark-dataset/Images/some_of_test/augm/pred_PCAH/CQ500-CT-33_CT 4cc sec 150cc D3D on0_sim.stl\n",
      "File /home/fmatzkin/Code/Chest-xray-landmark-dataset/Images/some_of_test/augm/CQ500-CT-33_CT 4cc sec 150cc D3D on1_sim_decimated_1perc_dfm.vtk not found.\n",
      "saved mesh /home/fmatzkin/Code/Chest-xray-landmark-dataset/Images/some_of_test/augm/pred_PCAH/CQ500-CT-33_CT 4cc sec 150cc D3D on1_sim.stl\n"
     ]
    }
   ],
   "source": [
    "print(f\"Test images: {len(dataset)}\")\n",
    "\n",
    "# I can use any img since all .faces() are the same\n",
    "ex_img = os.path.join(\n",
    "    '../Chest-xray-landmark-dataset/Images',\n",
    "    'CQ500-CT-12_CT Thin Plain_decimated_1perc_dfm.vtk'\n",
    ")\n",
    "out_path = os.path.join(im_path, f'pred_PCAH')  # Predictions subfolder\n",
    "os.makedirs(out_path, exist_ok=True)\n",
    "\n",
    "faces = vedo.Mesh(ex_img).faces()\n",
    "\n",
    "for i, sample in enumerate(dataset):\n",
    "    test_im = sample['image'].unsqueeze(0)\n",
    "    out_img = pcaNet(test_im.to(device))\n",
    "    points = out_img.reshape(-1, 3).detach().cpu().numpy()\n",
    "\n",
    "    out_fpath = os.path.join(out_path, images[i].replace('.nii.gz', '.stl'))\n",
    "\n",
    "    restored_mesh = vedo.Mesh([points, faces])\n",
    "    restored_mesh.write(out_fpath)\n",
    "    print(f'saved mesh {out_fpath}')\n",
    "    del test_im, out_img\n"
   ],
   "metadata": {
    "collapsed": false
   }
  },
  {
   "cell_type": "code",
   "execution_count": 12,
   "outputs": [
    {
     "data": {
      "text/plain": "['CQ500-CT-39_CT PRE CONTRAST THIN1_sim.nii.gz ',\n 'CQ500-CT-39_CT PRE CONTRAST THIN0_sim.nii.gz ',\n 'CQ500-CT-12_CT Thin Plain1_sim.nii.gz ',\n 'CQ500-CT-12_CT Thin Plain0_sim.nii.gz ',\n 'CQ500-CT-33_CT 4cc sec 150cc D3D on0_sim.nii.gz ',\n 'CQ500-CT-33_CT 4cc sec 150cc D3D on1_sim.nii.gz ']"
     },
     "execution_count": 12,
     "metadata": {},
     "output_type": "execute_result"
    }
   ],
   "source": [
    "images/sitkImageReaderBase.cxx:97:\n",
    "sitk::ERROR: The file \""
   ],
   "metadata": {
    "collapsed": false
   }
  },
  {
   "cell_type": "code",
   "execution_count": null,
   "outputs": [],
   "source": [
    "from headctools.tools.offline_augmentation import simulate_cr_images as sim\n",
    "sim('/home/fmatzkin/Code/Chest-xray-landmark-dataset/Images/some_of_test/',2,)"
   ],
   "metadata": {
    "collapsed": false
   }
  }
 ],
 "metadata": {
  "kernelspec": {
   "display_name": "Python (torch)",
   "language": "python",
   "name": "torch"
  },
  "language_info": {
   "codemirror_mode": {
    "name": "ipython",
    "version": 3
   },
   "file_extension": ".py",
   "mimetype": "text/x-python",
   "name": "python",
   "nbconvert_exporter": "python",
   "pygments_lexer": "ipython3",
   "version": "3.9.7"
  }
 },
 "nbformat": 4,
 "nbformat_minor": 5
}
