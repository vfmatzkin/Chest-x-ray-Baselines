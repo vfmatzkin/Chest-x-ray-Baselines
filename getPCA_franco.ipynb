{
 "cells": [
  {
   "cell_type": "code",
   "execution_count": 1,
   "outputs": [],
   "source": [
    "%load_ext autoreload\n",
    "%autoreload 2"
   ],
   "metadata": {
    "collapsed": false
   }
  },
  {
   "cell_type": "markdown",
   "source": [
    "# Load data"
   ],
   "metadata": {
    "collapsed": false
   }
  },
  {
   "cell_type": "code",
   "execution_count": 2,
   "outputs": [],
   "source": [
    "import numpy as np\n",
    "from utils.datasetHeads import MeshHeadsDataset"
   ],
   "metadata": {
    "collapsed": false
   }
  },
  {
   "cell_type": "markdown",
   "source": [
    "## Create dataset\n",
    " All the meshes come from the same deformed subject, so the points are different but the faces are the same."
   ],
   "metadata": {
    "collapsed": false
   }
  },
  {
   "cell_type": "code",
   "execution_count": 3,
   "outputs": [
    {
     "name": "stdout",
     "output_type": "stream",
     "text": [
      "Amount of meshes: 238 (train), 66 (val).\n"
     ]
    }
   ],
   "source": [
    "images_folder = '../Chest-xray-landmark-dataset/Images'\n",
    "\n",
    "train_files = './heads_files/train_images_heads.txt'\n",
    "val_files = './heads_files/val_images_heads.txt'\n",
    "\n",
    "train_heads = open(train_files, 'r').read().splitlines()\n",
    "val_heads = open(val_files, 'r').read().splitlines()\n",
    "\n",
    "dataset_train = MeshHeadsDataset(train_heads, images_folder)\n",
    "dataset_val = MeshHeadsDataset(val_heads, images_folder)\n",
    "\n",
    "print(f\"Amount of meshes: {len(dataset_train)} (train), {len(dataset_val)} (val).\")"
   ],
   "metadata": {
    "collapsed": false
   }
  },
  {
   "cell_type": "markdown",
   "source": [
    "## Show example"
   ],
   "metadata": {
    "collapsed": false
   }
  },
  {
   "cell_type": "code",
   "execution_count": 4,
   "outputs": [],
   "source": [
    "import vedo\n",
    "\n",
    "points = dataset_train[0]['landmarks']\n",
    "malla=vedo.Mesh(points).show().close()"
   ],
   "metadata": {
    "collapsed": false
   }
  },
  {
   "cell_type": "markdown",
   "source": [
    "# PCA\n",
    "## Flatten"
   ],
   "metadata": {
    "collapsed": false
   }
  },
  {
   "cell_type": "code",
   "execution_count": 7,
   "outputs": [
    {
     "name": "stdout",
     "output_type": "stream",
     "text": [
      "shape of the meshes: torch.Size([1, 233, 512, 512])\n"
     ]
    }
   ],
   "source": [
    "print(f\"shape of the meshes: {dataset_train[0]['image'].shape}\")"
   ],
   "metadata": {
    "collapsed": false
   }
  },
  {
   "cell_type": "code",
   "execution_count": 8,
   "outputs": [
    {
     "name": "stdout",
     "output_type": "stream",
     "text": [
      "flattened and concatenated 238 meshes\n"
     ]
    }
   ],
   "source": [
    "flat_meshes_train = []\n",
    "\n",
    "for idx in range(len(dataset_train)):\n",
    "    mesh = dataset_train[idx]['landmarks']\n",
    "    flat_mesh = mesh.reshape(1, -1)\n",
    "    flat_meshes_train.append(flat_mesh)\n",
    "\n",
    "flat_meshes_train = np.concatenate(flat_meshes_train, axis = 0)\n",
    "print(f\"flattened and concatenated {len(flat_meshes_train)} meshes\")"
   ],
   "metadata": {
    "collapsed": false
   }
  },
  {
   "cell_type": "markdown",
   "source": [
    "## Fit PCA"
   ],
   "metadata": {
    "collapsed": false
   }
  },
  {
   "cell_type": "code",
   "execution_count": 9,
   "outputs": [
    {
     "data": {
      "text/plain": "PCA(n_components=60)",
      "text/html": "<style>#sk-container-id-1 {color: black;background-color: white;}#sk-container-id-1 pre{padding: 0;}#sk-container-id-1 div.sk-toggleable {background-color: white;}#sk-container-id-1 label.sk-toggleable__label {cursor: pointer;display: block;width: 100%;margin-bottom: 0;padding: 0.3em;box-sizing: border-box;text-align: center;}#sk-container-id-1 label.sk-toggleable__label-arrow:before {content: \"▸\";float: left;margin-right: 0.25em;color: #696969;}#sk-container-id-1 label.sk-toggleable__label-arrow:hover:before {color: black;}#sk-container-id-1 div.sk-estimator:hover label.sk-toggleable__label-arrow:before {color: black;}#sk-container-id-1 div.sk-toggleable__content {max-height: 0;max-width: 0;overflow: hidden;text-align: left;background-color: #f0f8ff;}#sk-container-id-1 div.sk-toggleable__content pre {margin: 0.2em;color: black;border-radius: 0.25em;background-color: #f0f8ff;}#sk-container-id-1 input.sk-toggleable__control:checked~div.sk-toggleable__content {max-height: 200px;max-width: 100%;overflow: auto;}#sk-container-id-1 input.sk-toggleable__control:checked~label.sk-toggleable__label-arrow:before {content: \"▾\";}#sk-container-id-1 div.sk-estimator input.sk-toggleable__control:checked~label.sk-toggleable__label {background-color: #d4ebff;}#sk-container-id-1 div.sk-label input.sk-toggleable__control:checked~label.sk-toggleable__label {background-color: #d4ebff;}#sk-container-id-1 input.sk-hidden--visually {border: 0;clip: rect(1px 1px 1px 1px);clip: rect(1px, 1px, 1px, 1px);height: 1px;margin: -1px;overflow: hidden;padding: 0;position: absolute;width: 1px;}#sk-container-id-1 div.sk-estimator {font-family: monospace;background-color: #f0f8ff;border: 1px dotted black;border-radius: 0.25em;box-sizing: border-box;margin-bottom: 0.5em;}#sk-container-id-1 div.sk-estimator:hover {background-color: #d4ebff;}#sk-container-id-1 div.sk-parallel-item::after {content: \"\";width: 100%;border-bottom: 1px solid gray;flex-grow: 1;}#sk-container-id-1 div.sk-label:hover label.sk-toggleable__label {background-color: #d4ebff;}#sk-container-id-1 div.sk-serial::before {content: \"\";position: absolute;border-left: 1px solid gray;box-sizing: border-box;top: 0;bottom: 0;left: 50%;z-index: 0;}#sk-container-id-1 div.sk-serial {display: flex;flex-direction: column;align-items: center;background-color: white;padding-right: 0.2em;padding-left: 0.2em;position: relative;}#sk-container-id-1 div.sk-item {position: relative;z-index: 1;}#sk-container-id-1 div.sk-parallel {display: flex;align-items: stretch;justify-content: center;background-color: white;position: relative;}#sk-container-id-1 div.sk-item::before, #sk-container-id-1 div.sk-parallel-item::before {content: \"\";position: absolute;border-left: 1px solid gray;box-sizing: border-box;top: 0;bottom: 0;left: 50%;z-index: -1;}#sk-container-id-1 div.sk-parallel-item {display: flex;flex-direction: column;z-index: 1;position: relative;background-color: white;}#sk-container-id-1 div.sk-parallel-item:first-child::after {align-self: flex-end;width: 50%;}#sk-container-id-1 div.sk-parallel-item:last-child::after {align-self: flex-start;width: 50%;}#sk-container-id-1 div.sk-parallel-item:only-child::after {width: 0;}#sk-container-id-1 div.sk-dashed-wrapped {border: 1px dashed gray;margin: 0 0.4em 0.5em 0.4em;box-sizing: border-box;padding-bottom: 0.4em;background-color: white;}#sk-container-id-1 div.sk-label label {font-family: monospace;font-weight: bold;display: inline-block;line-height: 1.2em;}#sk-container-id-1 div.sk-label-container {text-align: center;}#sk-container-id-1 div.sk-container {/* jupyter's `normalize.less` sets `[hidden] { display: none; }` but bootstrap.min.css set `[hidden] { display: none !important; }` so we also need the `!important` here to be able to override the default hidden behavior on the sphinx rendered scikit-learn.org. See: https://github.com/scikit-learn/scikit-learn/issues/21755 */display: inline-block !important;position: relative;}#sk-container-id-1 div.sk-text-repr-fallback {display: none;}</style><div id=\"sk-container-id-1\" class=\"sk-top-container\"><div class=\"sk-text-repr-fallback\"><pre>PCA(n_components=60)</pre><b>In a Jupyter environment, please rerun this cell to show the HTML representation or trust the notebook. <br />On GitHub, the HTML representation is unable to render, please try loading this page with nbviewer.org.</b></div><div class=\"sk-container\" hidden><div class=\"sk-item\"><div class=\"sk-estimator sk-toggleable\"><input class=\"sk-toggleable__control sk-hidden--visually\" id=\"sk-estimator-id-1\" type=\"checkbox\" checked><label for=\"sk-estimator-id-1\" class=\"sk-toggleable__label sk-toggleable__label-arrow\">PCA</label><div class=\"sk-toggleable__content\"><pre>PCA(n_components=60)</pre></div></div></div></div></div>"
     },
     "execution_count": 9,
     "metadata": {},
     "output_type": "execute_result"
    }
   ],
   "source": [
    "from sklearn.decomposition import PCA\n",
    "\n",
    "n_comp = 60\n",
    "pca = PCA(n_components=n_comp)\n",
    "pca.fit(flat_meshes_train)"
   ],
   "metadata": {
    "collapsed": false
   }
  },
  {
   "cell_type": "code",
   "execution_count": 10,
   "outputs": [
    {
     "data": {
      "text/plain": "<Figure size 864x576 with 2 Axes>",
      "image/png": "[encoded data removed]"
     },
     "metadata": {
      "needs_background": "light"
     },
     "output_type": "display_data"
    },
    {
     "name": "stdout",
     "output_type": "stream",
     "text": [
      "Explained variance ratio with 60 components: 99.91%.\n"
     ]
    }
   ],
   "source": [
    "from matplotlib import pyplot as plt\n",
    "\n",
    "ratio_varianzas = pca.explained_variance_ratio_\n",
    "\n",
    "fig, (ax1, ax2) = plt.subplots(2, figsize=(12,8))\n",
    "plt.subplots_adjust(top=4, bottom=3)\n",
    "\n",
    "ax1.plot(100 * ratio_varianzas, linewidth=2)\n",
    "ax1.set_xlabel('Cantidad de componentes principales')\n",
    "ax1.set_ylabel('% Varianza explicada')\n",
    "ax1.set_title(\"Varianza explicada por componente\")\n",
    "\n",
    "ax2.plot(100 * np.cumsum(ratio_varianzas), linewidth=2)\n",
    "ax2.set_xlabel('Cantidad de componentes principales')\n",
    "ax2.set_ylabel('% Varianza explicada (acumulado)')\n",
    "ax2.set_title(\"Varianza explicada acumulada\")\n",
    "\n",
    "plt.show()\n",
    "\n",
    "print(f\"Explained variance ratio with {n_comp} components: \"\n",
    "      f\"{100 * np.sum(pca.explained_variance_ratio_):.2f}%.\")"
   ],
   "metadata": {
    "collapsed": false
   }
  },
  {
   "cell_type": "markdown",
   "source": [
    "## Predict with unseen images"
   ],
   "metadata": {
    "collapsed": false
   }
  },
  {
   "cell_type": "code",
   "execution_count": 11,
   "outputs": [
    {
     "name": "stdout",
     "output_type": "stream",
     "text": [
      "flattened and concatenated 66 meshes (validation)\n"
     ]
    }
   ],
   "source": [
    "import os\n",
    "faces = vedo.Mesh(\n",
    "    os.path.abspath(os.path.join(\n",
    "        images_folder, val_heads[0].replace('.nii.gz',\n",
    "                                            '_decimated_1perc_dfm.vtk'))\n",
    "    )).faces()\n",
    "\n",
    "flat_meshes_val = []\n",
    "\n",
    "for idx in range(len(dataset_val)):\n",
    "    mesh = dataset_val[idx]['landmarks']\n",
    "    flat_mesh = mesh.reshape(1, -1)\n",
    "    flat_meshes_val.append(flat_mesh)\n",
    "\n",
    "flat_meshes_val = np.concatenate(flat_meshes_val, axis = 0)\n",
    "print(f\"flattened and concatenated {len(flat_meshes_val)} meshes (validation)\")"
   ],
   "metadata": {
    "collapsed": false
   }
  },
  {
   "cell_type": "code",
   "execution_count": 12,
   "outputs": [
    {
     "name": "stdout",
     "output_type": "stream",
     "text": [
      " saved mesh 65/66"
     ]
    }
   ],
   "source": [
    "reconstr = pca.inverse_transform(pca.transform(flat_meshes_val))\n",
    "out_folder = os.path.join(images_folder, 'preds_skPCAmesh')\n",
    "os.makedirs(out_folder, exist_ok=True)\n",
    "\n",
    "for i, f_mesh in enumerate(reconstr):\n",
    "    points = f_mesh.reshape(-1, 3)\n",
    "    restored_mesh = vedo.Mesh([points, faces])\n",
    "    restored_mesh.write(os.path.join(out_folder, f'{val_heads[i]}.stl'))\n",
    "    print(f'\\r saved mesh {i}/{len(reconstr)}', end='')"
   ],
   "metadata": {
    "collapsed": false
   }
  },
  {
   "cell_type": "markdown",
   "source": [
    "## Save components"
   ],
   "metadata": {
    "collapsed": false
   }
  },
  {
   "cell_type": "code",
   "execution_count": 13,
   "outputs": [],
   "source": [
    "components = pca.components_\n",
    "np.save(\"models/heads_pca_components.npy\", components)\n",
    "\n",
    "mean = pca.mean_\n",
    "np.save(\"models/heads_pca_mean.npy\", mean)"
   ],
   "metadata": {
    "collapsed": false
   }
  }
 ],
 "metadata": {
  "kernelspec": {
   "name": "msr",
   "language": "python",
   "display_name": "msr"
  },
  "language_info": {
   "codemirror_mode": {
    "name": "ipython",
    "version": 3
   },
   "file_extension": ".py",
   "mimetype": "text/x-python",
   "name": "python",
   "nbconvert_exporter": "python",
   "pygments_lexer": "ipython3",
   "version": "3.9.7"
  }
 },
 "nbformat": 4,
 "nbformat_minor": 5
}
